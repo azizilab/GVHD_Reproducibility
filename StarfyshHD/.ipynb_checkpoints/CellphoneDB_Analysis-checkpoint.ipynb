{
 "cells": [
  {
   "cell_type": "markdown",
   "id": "e4a1c235-4878-4e11-b7b1-92271e257b6d",
   "metadata": {},
   "source": [
    "### Cell-Cell Communication using CellphoneDB\n",
    "\n",
    "1. Use the updated anndata which contains mappings from hubs to celltypes, for all hubs and all celltypes. Then run each subject separately (14, 16 counts .h5ad and .tsv metadata files).\n",
    "2. Run both method 2 (statistical analysis) and method 3 (DE analysis). \n",
    "3. Interpret the results meaningfully:\n",
    "   * What is the biology of the cell-cell interactions? \n",
    "   * What is the difference in cd8+ effector || stem interactions between grades of gvhd? \n",
    "4. Reference siyu's code for circuit plots. "
   ]
  },
  {
   "cell_type": "code",
   "execution_count": 1,
   "id": "8b824404-1fb8-47e2-b28e-eb5e629c3453",
   "metadata": {},
   "outputs": [],
   "source": [
    "import pandas as pd\n",
    "import sys\n",
    "import os\n",
    "\n",
    "pd.set_option('display.max_columns', 100)\n",
    "os.chdir('/home/jz3553/CellphoneDB/')"
   ]
  },
  {
   "cell_type": "code",
   "execution_count": 2,
   "id": "d7183ea3-fe0a-438a-b310-8cb91a8bd127",
   "metadata": {},
   "outputs": [
    {
     "name": "stdout",
     "output_type": "stream",
     "text": [
      "3.8.20 (default, Oct  3 2024, 15:24:27) \n",
      "[GCC 11.2.0]\n"
     ]
    }
   ],
   "source": [
    "print(sys.version)"
   ]
  },
  {
   "cell_type": "code",
   "execution_count": 3,
   "id": "6c8c941a-d59c-474b-aa29-421ff3d5baad",
   "metadata": {},
   "outputs": [],
   "source": [
    "import sys\n",
    "import os\n",
    "import numpy as np\n",
    "import pandas as pd\n",
    "import scanpy as sc\n",
    "import anndata\n",
    "\n",
    "import matplotlib.pyplot as plt"
   ]
  },
  {
   "cell_type": "markdown",
   "id": "c639b671-c762-4be6-8668-a265706ac0f5",
   "metadata": {},
   "source": [
    "#### Formatting Inputs "
   ]
  },
  {
   "cell_type": "markdown",
   "id": "37b9af00-7487-4fac-8282-c85b33d7f811",
   "metadata": {},
   "source": [
    "##### Understanding anndata structure \n",
    "1. celltypes are stored as colns in adata.obs[[\"celltype_A\", ... \"celltype_N\"]] as a df where each barcode is associated with a probability/proportion 0-1 that shows the deconvolved proportions.\n",
    "2. each spot we can think of as a single cell in the context of cell-cell communication."
   ]
  },
  {
   "cell_type": "code",
   "execution_count": 5,
   "id": "f8f23fc1-4802-405d-814c-0836f0d793bd",
   "metadata": {},
   "outputs": [
    {
     "name": "stdout",
     "output_type": "stream",
     "text": [
      "AnnData object with n_obs × n_vars = 232882 × 1133\n",
      "    obs: 'in_tissue', 'array_row', 'array_col', 'pxl_row_in_fullres', 'pxl_col_in_fullres', 'sample', 'n_genes_by_counts', 'log1p_n_genes_by_counts', 'total_counts', 'log1p_total_counts', 'pct_counts_in_top_50_genes', 'pct_counts_in_top_100_genes', 'pct_counts_in_top_200_genes', 'pct_counts_in_top_500_genes', 'total_counts_mt', 'log1p_total_counts_mt', 'pct_counts_mt', 'n_counts', 'patient', 'sample_type', 'grade', 'leiden', 'pheno_louvain', 'hub', 'Plasma cells', 'Myeloid', 'Fibroblast', 'B cells', 'NK cells', 'Instestinal_Epithelial cells', 'Enterocyte', 'Stomach_epithelial_cells', 'Stomach_stem_cells', 'Endothelial cell', 'Mast cell', 'CD8+ Effector T  cells', 'CD4+ Effector T cells', 'CD4+ Central Memory T cells', 'CD8+ Cytotoxic Unconventional T cells', 'CD8+ Proliferating T cells', 'CD4+ Regulatory T cells', 'CD8+ Homeostatic Unconventional T cells', 'CD8+ Tissue Resident Memory T cells', 'CD8+ Transitioning  Resident T cells', 'Intestine_Epithelial Stem cell', 'Stomach_Body_Epithelial_cells', 'hub_str', 'SampleID_Grade', 'stem'\n",
      "    var: 'highly_variable', 'means', 'dispersions', 'dispersions_norm'\n",
      "    uns: 'SampleID_Grade_colors', 'cell_types', 'hub_colors', 'hub_str_colors', 'hvg', 'leiden', 'neighbors', 'pheno_jaccard_q', 'sample_colors', 'spatial', 'umap'\n",
      "    obsm: 'X_pca', 'X_umap', 'qc_m', 'qz_m', 'spatial'\n",
      "    obsp: 'connectivities', 'distances', 'pheno_jaccard_ig'\n"
     ]
    }
   ],
   "source": [
    "# # Save to an h5ad file\n",
    "# adata_integrate = sc.read_h5ad(\"/home/jz3553/data/adata_integrate.h5ad\")\n",
    "# # Check if it loaded correctly\n",
    "# print(adata_integrate)"
   ]
  },
  {
   "cell_type": "code",
   "execution_count": 6,
   "id": "a6bd175f-414e-4248-b3bc-a9cf5535fd49",
   "metadata": {},
   "outputs": [
    {
     "data": {
      "text/html": [
       "<div>\n",
       "<style scoped>\n",
       "    .dataframe tbody tr th:only-of-type {\n",
       "        vertical-align: middle;\n",
       "    }\n",
       "\n",
       "    .dataframe tbody tr th {\n",
       "        vertical-align: top;\n",
       "    }\n",
       "\n",
       "    .dataframe thead th {\n",
       "        text-align: right;\n",
       "    }\n",
       "</style>\n",
       "<table border=\"1\" class=\"dataframe\">\n",
       "  <thead>\n",
       "    <tr style=\"text-align: right;\">\n",
       "      <th></th>\n",
       "      <th>Plasma cells</th>\n",
       "      <th>Myeloid</th>\n",
       "      <th>Fibroblast</th>\n",
       "    </tr>\n",
       "  </thead>\n",
       "  <tbody>\n",
       "    <tr>\n",
       "      <th>s_016um_00258_00092-1-SLV11</th>\n",
       "      <td>0.000033</td>\n",
       "      <td>0.172055</td>\n",
       "      <td>0.416307</td>\n",
       "    </tr>\n",
       "    <tr>\n",
       "      <th>s_016um_00245_00212-1-SLV11</th>\n",
       "      <td>0.001375</td>\n",
       "      <td>0.000574</td>\n",
       "      <td>0.002225</td>\n",
       "    </tr>\n",
       "    <tr>\n",
       "      <th>s_016um_00283_00339-1-SLV11</th>\n",
       "      <td>0.135085</td>\n",
       "      <td>0.000194</td>\n",
       "      <td>0.000803</td>\n",
       "    </tr>\n",
       "    <tr>\n",
       "      <th>s_016um_00191_00066-1-SLV11</th>\n",
       "      <td>0.000032</td>\n",
       "      <td>0.000035</td>\n",
       "      <td>0.000014</td>\n",
       "    </tr>\n",
       "    <tr>\n",
       "      <th>s_016um_00244_00289-1-SLV11</th>\n",
       "      <td>0.000099</td>\n",
       "      <td>0.000049</td>\n",
       "      <td>0.001554</td>\n",
       "    </tr>\n",
       "  </tbody>\n",
       "</table>\n",
       "</div>"
      ],
      "text/plain": [
       "                             Plasma cells   Myeloid  Fibroblast\n",
       "s_016um_00258_00092-1-SLV11      0.000033  0.172055    0.416307\n",
       "s_016um_00245_00212-1-SLV11      0.001375  0.000574    0.002225\n",
       "s_016um_00283_00339-1-SLV11      0.135085  0.000194    0.000803\n",
       "s_016um_00191_00066-1-SLV11      0.000032  0.000035    0.000014\n",
       "s_016um_00244_00289-1-SLV11      0.000099  0.000049    0.001554"
      ]
     },
     "execution_count": 6,
     "metadata": {},
     "output_type": "execute_result"
    }
   ],
   "source": [
    "# adata_integrate.obs[['Plasma cells', 'Myeloid', 'Fibroblast']].head()"
   ]
  },
  {
   "cell_type": "markdown",
   "id": "3f19d845-e0a8-44b1-8667-fee378fb203a",
   "metadata": {},
   "source": [
    "##### Mapping from hubs to celltypes of interest\n",
    "1. Here, we are mapping hub numbers to stem cells, cd8 effector cells and cd4 effector cells.\n",
    "2. Everything else will be mapped to nonstem.\n",
    "3. Filter out nonstem cells to save some compute and only run cellphoneDB on celltypes of interest. "
   ]
  },
  {
   "cell_type": "code",
   "execution_count": 14,
   "id": "d05f502d-301a-4176-b632-f55625948caf",
   "metadata": {},
   "outputs": [],
   "source": [
    "# hub_stem_list = [4, 5, 8, 30, 32]\n",
    "\n",
    "# def map_stem_categories(hub):\n",
    "#     if hub in hub_stem_list:\n",
    "#         return 'stem'\n",
    "#     elif hub in [31]:\n",
    "#         return 'CD8+ Effector T cells'\n",
    "#     elif hub in [17]:\n",
    "#         return 'CD4+ Effector T cells'\n",
    "#     else:\n",
    "#         return 'nonstem'\n",
    "\n",
    "# adata_integrate.obs['stem_cd8_cd4_celltypes'] = adata_integrate.obs['hub'].apply(map_stem_categories)"
   ]
  },
  {
   "cell_type": "code",
   "execution_count": 15,
   "id": "2b361475-b5df-41a4-8e9f-5ce52a0b1a72",
   "metadata": {},
   "outputs": [
    {
     "data": {
      "text/html": [
       "<div>\n",
       "<style scoped>\n",
       "    .dataframe tbody tr th:only-of-type {\n",
       "        vertical-align: middle;\n",
       "    }\n",
       "\n",
       "    .dataframe tbody tr th {\n",
       "        vertical-align: top;\n",
       "    }\n",
       "\n",
       "    .dataframe thead th {\n",
       "        text-align: right;\n",
       "    }\n",
       "</style>\n",
       "<table border=\"1\" class=\"dataframe\">\n",
       "  <thead>\n",
       "    <tr style=\"text-align: right;\">\n",
       "      <th></th>\n",
       "      <th>sample</th>\n",
       "      <th>hub</th>\n",
       "      <th>SampleID_Grade</th>\n",
       "      <th>stem_cd8_cd4_celltypes</th>\n",
       "    </tr>\n",
       "  </thead>\n",
       "  <tbody>\n",
       "    <tr>\n",
       "      <th>s_016um_00258_00092-1-SLV11</th>\n",
       "      <td>SLV11</td>\n",
       "      <td>13</td>\n",
       "      <td>SLV11_Severe</td>\n",
       "      <td>nonstem</td>\n",
       "    </tr>\n",
       "    <tr>\n",
       "      <th>s_016um_00245_00212-1-SLV11</th>\n",
       "      <td>SLV11</td>\n",
       "      <td>10</td>\n",
       "      <td>SLV11_Severe</td>\n",
       "      <td>nonstem</td>\n",
       "    </tr>\n",
       "    <tr>\n",
       "      <th>s_016um_00283_00339-1-SLV11</th>\n",
       "      <td>SLV11</td>\n",
       "      <td>0</td>\n",
       "      <td>SLV11_Severe</td>\n",
       "      <td>nonstem</td>\n",
       "    </tr>\n",
       "    <tr>\n",
       "      <th>s_016um_00191_00066-1-SLV11</th>\n",
       "      <td>SLV11</td>\n",
       "      <td>3</td>\n",
       "      <td>SLV11_Severe</td>\n",
       "      <td>nonstem</td>\n",
       "    </tr>\n",
       "    <tr>\n",
       "      <th>s_016um_00244_00289-1-SLV11</th>\n",
       "      <td>SLV11</td>\n",
       "      <td>5</td>\n",
       "      <td>SLV11_Severe</td>\n",
       "      <td>stem</td>\n",
       "    </tr>\n",
       "  </tbody>\n",
       "</table>\n",
       "</div>"
      ],
      "text/plain": [
       "                            sample hub SampleID_Grade stem_cd8_cd4_celltypes\n",
       "s_016um_00258_00092-1-SLV11  SLV11  13   SLV11_Severe                nonstem\n",
       "s_016um_00245_00212-1-SLV11  SLV11  10   SLV11_Severe                nonstem\n",
       "s_016um_00283_00339-1-SLV11  SLV11   0   SLV11_Severe                nonstem\n",
       "s_016um_00191_00066-1-SLV11  SLV11   3   SLV11_Severe                nonstem\n",
       "s_016um_00244_00289-1-SLV11  SLV11   5   SLV11_Severe                   stem"
      ]
     },
     "execution_count": 15,
     "metadata": {},
     "output_type": "execute_result"
    }
   ],
   "source": [
    "# adata_integrate.obs[['sample', 'hub', 'SampleID_Grade', 'stem_cd8_cd4_celltypes']].head()"
   ]
  },
  {
   "cell_type": "code",
   "execution_count": 36,
   "id": "03cab39b-ebae-4d18-8e23-cc3960ac0e0b",
   "metadata": {},
   "outputs": [],
   "source": [
    "# subjects_of_interest = [\"SLV14\", \"SLV16\", \"SLV17\", \"SLV18\"]\n",
    "# mask = (\n",
    "#     adata_integrate.obs[\"sample\"].isin(subjects_of_interest)\n",
    "#     # & (adata_integrate.obs[\"stem_cd8_cd4_celltypes\"] != \"nonstem\")\n",
    "# )\n",
    "\n",
    "# adata_filtered = adata_integrate[mask].copy()\n",
    "# adata_filtered.write_h5ad(\"/home/jz3553/CellphoneDB/data/adata_filtered.h5ad\")"
   ]
  },
  {
   "cell_type": "code",
   "execution_count": 37,
   "id": "d8be898c-4b74-4ce1-80b3-abd2c0dada5c",
   "metadata": {},
   "outputs": [
    {
     "data": {
      "text/html": [
       "<div>\n",
       "<style scoped>\n",
       "    .dataframe tbody tr th:only-of-type {\n",
       "        vertical-align: middle;\n",
       "    }\n",
       "\n",
       "    .dataframe tbody tr th {\n",
       "        vertical-align: top;\n",
       "    }\n",
       "\n",
       "    .dataframe thead th {\n",
       "        text-align: right;\n",
       "    }\n",
       "</style>\n",
       "<table border=\"1\" class=\"dataframe\">\n",
       "  <thead>\n",
       "    <tr style=\"text-align: right;\">\n",
       "      <th></th>\n",
       "      <th>SampleID_Grade</th>\n",
       "      <th>stem_cd8_cd4_celltypes</th>\n",
       "    </tr>\n",
       "  </thead>\n",
       "  <tbody>\n",
       "    <tr>\n",
       "      <th>s_016um_00242_00130-1-SLV14</th>\n",
       "      <td>SLV14_Severe</td>\n",
       "      <td>nonstem</td>\n",
       "    </tr>\n",
       "    <tr>\n",
       "      <th>s_016um_00230_00364-1-SLV14</th>\n",
       "      <td>SLV14_Severe</td>\n",
       "      <td>nonstem</td>\n",
       "    </tr>\n",
       "    <tr>\n",
       "      <th>s_016um_00280_00313-1-SLV14</th>\n",
       "      <td>SLV14_Severe</td>\n",
       "      <td>CD8+ Effector T cells</td>\n",
       "    </tr>\n",
       "    <tr>\n",
       "      <th>s_016um_00184_00346-1-SLV14</th>\n",
       "      <td>SLV14_Severe</td>\n",
       "      <td>stem</td>\n",
       "    </tr>\n",
       "    <tr>\n",
       "      <th>s_016um_00283_00339-1-SLV14</th>\n",
       "      <td>SLV14_Severe</td>\n",
       "      <td>nonstem</td>\n",
       "    </tr>\n",
       "  </tbody>\n",
       "</table>\n",
       "</div>"
      ],
      "text/plain": [
       "                            SampleID_Grade stem_cd8_cd4_celltypes\n",
       "s_016um_00242_00130-1-SLV14   SLV14_Severe                nonstem\n",
       "s_016um_00230_00364-1-SLV14   SLV14_Severe                nonstem\n",
       "s_016um_00280_00313-1-SLV14   SLV14_Severe  CD8+ Effector T cells\n",
       "s_016um_00184_00346-1-SLV14   SLV14_Severe                   stem\n",
       "s_016um_00283_00339-1-SLV14   SLV14_Severe                nonstem"
      ]
     },
     "execution_count": 37,
     "metadata": {},
     "output_type": "execute_result"
    }
   ],
   "source": [
    "# adata_filtered.obs[['SampleID_Grade', 'stem_cd8_cd4_celltypes']].head()"
   ]
  },
  {
   "cell_type": "code",
   "execution_count": 39,
   "id": "cf6642ed-4e7f-4003-87a8-2102d293c2ac",
   "metadata": {},
   "outputs": [],
   "source": [
    "# df = adata_filtered.obs[['stem_cd8_cd4_celltypes']].copy()\n",
    "# # df.rename(\n",
    "# #     columns={\n",
    "# #         'sample': 'barcode_sample', \n",
    "# #         'stem_cd8_cd4_celltypes': 'cell_type'\n",
    "# #     },\n",
    "# #     inplace=True\n",
    "# # )\n",
    "# df.index.name = \"spot\"\n",
    "# df.reset_index(inplace=True)\n",
    "# df.to_csv(\"/home/jz3553/CellphoneDB/data/spot_to_celltype_map.tsv\", sep=\"\\t\", index=False)"
   ]
  },
  {
   "cell_type": "markdown",
   "id": "4e5ba74a-ae3d-4d46-987a-aa51474e5b51",
   "metadata": {},
   "source": [
    "#### Running Method 1 "
   ]
  },
  {
   "cell_type": "code",
   "execution_count": 4,
   "id": "3259a6fc-cc3d-4135-ac2a-cb6b209d5630",
   "metadata": {},
   "outputs": [],
   "source": [
    "cpdb_file_path = '/home/jz3553/CellphoneDB/v5.0.0/cellphonedb.zip'\n",
    "\n",
    "# input files \n",
    "meta_file_path = \"/home/jz3553/CellphoneDB/data/spot_to_celltype_map.tsv\"\n",
    "counts_file_path = \"/home/jz3553/CellphoneDB/data/adata_filtered.h5ad\"\n",
    "\n",
    "# output path \n",
    "out_path = '/home/jz3553/CellphoneDB/results/method1'"
   ]
  },
  {
   "cell_type": "markdown",
   "id": "56ba77e4-6f43-4e1f-8749-eefcc4d972a3",
   "metadata": {},
   "source": [
    "#### Input File Formats \n",
    "1. The metadata .tsv file should be formated as following, matching barcode sample to celltype\n",
    "2. "
   ]
  },
  {
   "cell_type": "code",
   "execution_count": 5,
   "id": "e4b9cb6d-a665-4477-bfc7-abf86345c9a1",
   "metadata": {},
   "outputs": [
    {
     "data": {
      "text/html": [
       "<div>\n",
       "<style scoped>\n",
       "    .dataframe tbody tr th:only-of-type {\n",
       "        vertical-align: middle;\n",
       "    }\n",
       "\n",
       "    .dataframe tbody tr th {\n",
       "        vertical-align: top;\n",
       "    }\n",
       "\n",
       "    .dataframe thead th {\n",
       "        text-align: right;\n",
       "    }\n",
       "</style>\n",
       "<table border=\"1\" class=\"dataframe\">\n",
       "  <thead>\n",
       "    <tr style=\"text-align: right;\">\n",
       "      <th></th>\n",
       "      <th>spot</th>\n",
       "      <th>stem_cd8_cd4_celltypes</th>\n",
       "    </tr>\n",
       "  </thead>\n",
       "  <tbody>\n",
       "    <tr>\n",
       "      <th>0</th>\n",
       "      <td>s_016um_00242_00130-1-SLV14</td>\n",
       "      <td>nonstem</td>\n",
       "    </tr>\n",
       "    <tr>\n",
       "      <th>1</th>\n",
       "      <td>s_016um_00230_00364-1-SLV14</td>\n",
       "      <td>nonstem</td>\n",
       "    </tr>\n",
       "    <tr>\n",
       "      <th>2</th>\n",
       "      <td>s_016um_00280_00313-1-SLV14</td>\n",
       "      <td>CD8+ Effector T cells</td>\n",
       "    </tr>\n",
       "  </tbody>\n",
       "</table>\n",
       "</div>"
      ],
      "text/plain": [
       "                          spot stem_cd8_cd4_celltypes\n",
       "0  s_016um_00242_00130-1-SLV14                nonstem\n",
       "1  s_016um_00230_00364-1-SLV14                nonstem\n",
       "2  s_016um_00280_00313-1-SLV14  CD8+ Effector T cells"
      ]
     },
     "execution_count": 5,
     "metadata": {},
     "output_type": "execute_result"
    }
   ],
   "source": [
    "metadata = pd.read_csv(meta_file_path, sep = '\\t')\n",
    "metadata.head(3)"
   ]
  },
  {
   "cell_type": "code",
   "execution_count": 6,
   "id": "cd3b901c-5f46-4431-a28e-b2bef9a0cf71",
   "metadata": {},
   "outputs": [
    {
     "data": {
      "text/plain": [
       "(98770, 1133)"
      ]
     },
     "execution_count": 6,
     "metadata": {},
     "output_type": "execute_result"
    }
   ],
   "source": [
    "import anndata\n",
    "\n",
    "adata = anndata.read_h5ad(counts_file_path)\n",
    "adata.shape"
   ]
  },
  {
   "cell_type": "code",
   "execution_count": 7,
   "id": "783714f9-fb61-4acf-ad8c-5882ffcc4446",
   "metadata": {},
   "outputs": [
    {
     "data": {
      "text/plain": [
       "True"
      ]
     },
     "execution_count": 7,
     "metadata": {},
     "output_type": "execute_result"
    }
   ],
   "source": [
    "list(adata.obs.index).sort() == list(metadata['spot']).sort()"
   ]
  },
  {
   "cell_type": "code",
   "execution_count": 8,
   "id": "d1d5cd35-4d97-4fe7-a89a-ea18140cd30b",
   "metadata": {},
   "outputs": [
    {
     "name": "stdout",
     "output_type": "stream",
     "text": [
      "[ ][CORE][21/02/25-18:42:12][INFO] [Non Statistical Method] Threshold:0.1 Precision:3\n",
      "Reading user files...\n",
      "The following user files were loaded successfully:\n",
      "/home/jz3553/CellphoneDB/data/adata_filtered.h5ad\n",
      "/home/jz3553/CellphoneDB/data/spot_to_celltype_map.tsv\n",
      "[ ][CORE][21/02/25-18:42:34][INFO] Running Basic Analysis\n",
      "[ ][CORE][21/02/25-18:42:34][INFO] Building results\n",
      "[ ][CORE][21/02/25-18:42:34][INFO] Scoring interactions: Filtering genes per cell type..\n"
     ]
    },
    {
     "name": "stderr",
     "output_type": "stream",
     "text": [
      "100%|██████████████████████████████████████████████████████████████████████████████| 4/4 [00:00<00:00,  4.24it/s]"
     ]
    },
    {
     "name": "stdout",
     "output_type": "stream",
     "text": [
      "[ ][CORE][21/02/25-18:42:35][INFO] Scoring interactions: Calculating mean expression of each gene per group/cell type..\n"
     ]
    },
    {
     "name": "stderr",
     "output_type": "stream",
     "text": [
      "\n",
      "100%|██████████████████████████████████████████████████████████████████████████████| 4/4 [00:00<00:00, 17.92it/s]"
     ]
    },
    {
     "name": "stdout",
     "output_type": "stream",
     "text": [
      "[ ][CORE][21/02/25-18:42:36][INFO] Scoring interactions: Calculating scores for all interactions and cell types..\n"
     ]
    },
    {
     "name": "stderr",
     "output_type": "stream",
     "text": [
      "\n",
      "100%|████████████████████████████████████████████████████████████████████████████| 16/16 [00:00<00:00, 48.67it/s]\n"
     ]
    },
    {
     "name": "stdout",
     "output_type": "stream",
     "text": [
      "Saved means_result to /home/jz3553/CellphoneDB/results/method1/simple_analysis_means_result_02_21_2025_184236.txt\n",
      "Saved deconvoluted to /home/jz3553/CellphoneDB/results/method1/simple_analysis_deconvoluted_02_21_2025_184236.txt\n",
      "Saved deconvoluted_percents to /home/jz3553/CellphoneDB/results/method1/simple_analysis_deconvoluted_percents_02_21_2025_184236.txt\n",
      "Saved interaction_scores to /home/jz3553/CellphoneDB/results/method1/simple_analysis_interaction_scores_02_21_2025_184236.txt\n"
     ]
    }
   ],
   "source": [
    "from cellphonedb.src.core.methods import cpdb_analysis_method\n",
    "\n",
    "cpdb_results = cpdb_analysis_method.call(\n",
    "    cpdb_file_path = cpdb_file_path,           # mandatory: CellphoneDB database zip file.\n",
    "    meta_file_path = meta_file_path,           # mandatory: tsv file defining barcodes to cell label.\n",
    "    counts_file_path = counts_file_path,       # mandatory: normalized count matrix - a path to the counts file, or an in-memory AnnData object\n",
    "    counts_data = 'hgnc_symbol',               # defines the gene annotation in counts matrix.\n",
    "    # microenvs_file_path = microenvs_file_path, # optional (default: None): defines cells per microenvironment.\n",
    "    score_interactions = True,                 # optional: whether to score interactions or not. \n",
    "    output_path = out_path,                    # Path to save results    microenvs_file_path = None,\n",
    "    separator = '|',                           # Sets the string to employ to separate cells in the results dataframes \"cellA|CellB\".\n",
    "    threads = 5,                               # number of threads to use in the analysis.\n",
    "    threshold = 0.1,                           # defines the min % of cells expressing a gene for this to be employed in the analysis.\n",
    "    result_precision = 3,                      # Sets the rounding for the mean values in significan_means.\n",
    "    debug = False,                             # Saves all intermediate tables emplyed during the analysis in pkl format.\n",
    "    output_suffix = None                       # Replaces the timestamp in the output files by a user defined string in the  (default: None)\n",
    ")"
   ]
  },
  {
   "cell_type": "code",
   "execution_count": 9,
   "id": "2dc99cf9-a58a-4394-b27a-aecabb023f49",
   "metadata": {},
   "outputs": [
    {
     "name": "stdout",
     "output_type": "stream",
     "text": [
      "dict_keys(['means_result', 'deconvoluted', 'deconvoluted_percents', 'interaction_scores'])\n"
     ]
    }
   ],
   "source": [
    "print(cpdb_results.keys())"
   ]
  },
  {
   "cell_type": "code",
   "execution_count": 10,
   "id": "ff08028d-0f00-4b47-8054-6422275a92ee",
   "metadata": {},
   "outputs": [
    {
     "data": {
      "text/html": [
       "<div>\n",
       "<style scoped>\n",
       "    .dataframe tbody tr th:only-of-type {\n",
       "        vertical-align: middle;\n",
       "    }\n",
       "\n",
       "    .dataframe tbody tr th {\n",
       "        vertical-align: top;\n",
       "    }\n",
       "\n",
       "    .dataframe thead th {\n",
       "        text-align: right;\n",
       "    }\n",
       "</style>\n",
       "<table border=\"1\" class=\"dataframe\">\n",
       "  <thead>\n",
       "    <tr style=\"text-align: right;\">\n",
       "      <th></th>\n",
       "      <th>id_cp_interaction</th>\n",
       "      <th>interacting_pair</th>\n",
       "      <th>partner_a</th>\n",
       "      <th>partner_b</th>\n",
       "      <th>gene_a</th>\n",
       "      <th>gene_b</th>\n",
       "      <th>secreted</th>\n",
       "      <th>receptor_a</th>\n",
       "      <th>receptor_b</th>\n",
       "      <th>annotation_strategy</th>\n",
       "      <th>is_integrin</th>\n",
       "      <th>directionality</th>\n",
       "      <th>classification</th>\n",
       "      <th>CD4+ Effector T cells|CD4+ Effector T cells</th>\n",
       "      <th>CD4+ Effector T cells|CD8+ Effector T cells</th>\n",
       "      <th>CD4+ Effector T cells|nonstem</th>\n",
       "      <th>CD4+ Effector T cells|stem</th>\n",
       "      <th>CD8+ Effector T cells|CD4+ Effector T cells</th>\n",
       "      <th>CD8+ Effector T cells|CD8+ Effector T cells</th>\n",
       "      <th>CD8+ Effector T cells|nonstem</th>\n",
       "      <th>CD8+ Effector T cells|stem</th>\n",
       "      <th>nonstem|CD4+ Effector T cells</th>\n",
       "      <th>nonstem|CD8+ Effector T cells</th>\n",
       "      <th>nonstem|nonstem</th>\n",
       "      <th>nonstem|stem</th>\n",
       "      <th>stem|CD4+ Effector T cells</th>\n",
       "      <th>stem|CD8+ Effector T cells</th>\n",
       "      <th>stem|nonstem</th>\n",
       "      <th>stem|stem</th>\n",
       "    </tr>\n",
       "  </thead>\n",
       "  <tbody>\n",
       "    <tr>\n",
       "      <th>50</th>\n",
       "      <td>CPI-SS00C24ED50</td>\n",
       "      <td>CDH5_CDH5</td>\n",
       "      <td>simple:P33151</td>\n",
       "      <td>simple:P33151</td>\n",
       "      <td>CDH5</td>\n",
       "      <td>CDH5</td>\n",
       "      <td>False</td>\n",
       "      <td>False</td>\n",
       "      <td>False</td>\n",
       "      <td>curated</td>\n",
       "      <td>False</td>\n",
       "      <td>Adhesion-Adhesion</td>\n",
       "      <td>Adhesion by Cadherin</td>\n",
       "      <td>0.009</td>\n",
       "      <td>0.009</td>\n",
       "      <td>0.011</td>\n",
       "      <td>0.009</td>\n",
       "      <td>0.009</td>\n",
       "      <td>0.008</td>\n",
       "      <td>0.011</td>\n",
       "      <td>0.009</td>\n",
       "      <td>0.011</td>\n",
       "      <td>0.011</td>\n",
       "      <td>0.014</td>\n",
       "      <td>0.012</td>\n",
       "      <td>0.009</td>\n",
       "      <td>0.009</td>\n",
       "      <td>0.012</td>\n",
       "      <td>0.009</td>\n",
       "    </tr>\n",
       "    <tr>\n",
       "      <th>65</th>\n",
       "      <td>CPI-SS0A2D7895C</td>\n",
       "      <td>CEACAM1_CEACAM6</td>\n",
       "      <td>simple:P13688</td>\n",
       "      <td>simple:P40199</td>\n",
       "      <td>CEACAM1</td>\n",
       "      <td>CEACAM6</td>\n",
       "      <td>True</td>\n",
       "      <td>False</td>\n",
       "      <td>False</td>\n",
       "      <td>curated</td>\n",
       "      <td>False</td>\n",
       "      <td>Adhesion-Adhesion</td>\n",
       "      <td>Adhesion by CEAM</td>\n",
       "      <td>0.195</td>\n",
       "      <td>0.138</td>\n",
       "      <td>0.285</td>\n",
       "      <td>0.113</td>\n",
       "      <td>0.151</td>\n",
       "      <td>0.094</td>\n",
       "      <td>0.241</td>\n",
       "      <td>0.069</td>\n",
       "      <td>0.270</td>\n",
       "      <td>0.212</td>\n",
       "      <td>0.360</td>\n",
       "      <td>0.187</td>\n",
       "      <td>0.134</td>\n",
       "      <td>0.076</td>\n",
       "      <td>0.224</td>\n",
       "      <td>0.052</td>\n",
       "    </tr>\n",
       "  </tbody>\n",
       "</table>\n",
       "</div>"
      ],
      "text/plain": [
       "   id_cp_interaction interacting_pair      partner_a      partner_b   gene_a  \\\n",
       "50   CPI-SS00C24ED50        CDH5_CDH5  simple:P33151  simple:P33151     CDH5   \n",
       "65   CPI-SS0A2D7895C  CEACAM1_CEACAM6  simple:P13688  simple:P40199  CEACAM1   \n",
       "\n",
       "     gene_b  secreted  receptor_a  receptor_b annotation_strategy  \\\n",
       "50     CDH5     False       False       False             curated   \n",
       "65  CEACAM6      True       False       False             curated   \n",
       "\n",
       "    is_integrin     directionality        classification  \\\n",
       "50        False  Adhesion-Adhesion  Adhesion by Cadherin   \n",
       "65        False  Adhesion-Adhesion      Adhesion by CEAM   \n",
       "\n",
       "    CD4+ Effector T cells|CD4+ Effector T cells  \\\n",
       "50                                        0.009   \n",
       "65                                        0.195   \n",
       "\n",
       "    CD4+ Effector T cells|CD8+ Effector T cells  \\\n",
       "50                                        0.009   \n",
       "65                                        0.138   \n",
       "\n",
       "    CD4+ Effector T cells|nonstem  CD4+ Effector T cells|stem  \\\n",
       "50                          0.011                       0.009   \n",
       "65                          0.285                       0.113   \n",
       "\n",
       "    CD8+ Effector T cells|CD4+ Effector T cells  \\\n",
       "50                                        0.009   \n",
       "65                                        0.151   \n",
       "\n",
       "    CD8+ Effector T cells|CD8+ Effector T cells  \\\n",
       "50                                        0.008   \n",
       "65                                        0.094   \n",
       "\n",
       "    CD8+ Effector T cells|nonstem  CD8+ Effector T cells|stem  \\\n",
       "50                          0.011                       0.009   \n",
       "65                          0.241                       0.069   \n",
       "\n",
       "    nonstem|CD4+ Effector T cells  nonstem|CD8+ Effector T cells  \\\n",
       "50                          0.011                          0.011   \n",
       "65                          0.270                          0.212   \n",
       "\n",
       "    nonstem|nonstem  nonstem|stem  stem|CD4+ Effector T cells  \\\n",
       "50            0.014         0.012                       0.009   \n",
       "65            0.360         0.187                       0.134   \n",
       "\n",
       "    stem|CD8+ Effector T cells  stem|nonstem  stem|stem  \n",
       "50                       0.009         0.012      0.009  \n",
       "65                       0.076         0.224      0.052  "
      ]
     },
     "execution_count": 10,
     "metadata": {},
     "output_type": "execute_result"
    }
   ],
   "source": [
    "cpdb_results['means_result'].head(2)"
   ]
  },
  {
   "cell_type": "code",
   "execution_count": 11,
   "id": "4d610a91-f225-4367-85ba-bc8a3430255c",
   "metadata": {},
   "outputs": [
    {
     "data": {
      "text/html": [
       "<div>\n",
       "<style scoped>\n",
       "    .dataframe tbody tr th:only-of-type {\n",
       "        vertical-align: middle;\n",
       "    }\n",
       "\n",
       "    .dataframe tbody tr th {\n",
       "        vertical-align: top;\n",
       "    }\n",
       "\n",
       "    .dataframe thead th {\n",
       "        text-align: right;\n",
       "    }\n",
       "</style>\n",
       "<table border=\"1\" class=\"dataframe\">\n",
       "  <thead>\n",
       "    <tr style=\"text-align: right;\">\n",
       "      <th></th>\n",
       "      <th>id_cp_interaction</th>\n",
       "      <th>interacting_pair</th>\n",
       "      <th>partner_a</th>\n",
       "      <th>partner_b</th>\n",
       "      <th>gene_a</th>\n",
       "      <th>gene_b</th>\n",
       "      <th>secreted</th>\n",
       "      <th>receptor_a</th>\n",
       "      <th>receptor_b</th>\n",
       "      <th>annotation_strategy</th>\n",
       "      <th>is_integrin</th>\n",
       "      <th>directionality</th>\n",
       "      <th>classification</th>\n",
       "      <th>CD4+ Effector T cells|CD4+ Effector T cells</th>\n",
       "      <th>CD4+ Effector T cells|CD8+ Effector T cells</th>\n",
       "      <th>CD4+ Effector T cells|nonstem</th>\n",
       "      <th>CD4+ Effector T cells|stem</th>\n",
       "      <th>CD8+ Effector T cells|CD4+ Effector T cells</th>\n",
       "      <th>CD8+ Effector T cells|CD8+ Effector T cells</th>\n",
       "      <th>CD8+ Effector T cells|nonstem</th>\n",
       "      <th>CD8+ Effector T cells|stem</th>\n",
       "      <th>nonstem|CD4+ Effector T cells</th>\n",
       "      <th>nonstem|CD8+ Effector T cells</th>\n",
       "      <th>nonstem|nonstem</th>\n",
       "      <th>nonstem|stem</th>\n",
       "      <th>stem|CD4+ Effector T cells</th>\n",
       "      <th>stem|CD8+ Effector T cells</th>\n",
       "      <th>stem|nonstem</th>\n",
       "      <th>stem|stem</th>\n",
       "    </tr>\n",
       "  </thead>\n",
       "  <tbody>\n",
       "    <tr>\n",
       "      <th>50</th>\n",
       "      <td>CPI-SS00C24ED50</td>\n",
       "      <td>CDH5_CDH5</td>\n",
       "      <td>simple:P33151</td>\n",
       "      <td>simple:P33151</td>\n",
       "      <td>CDH5</td>\n",
       "      <td>CDH5</td>\n",
       "      <td>False</td>\n",
       "      <td>False</td>\n",
       "      <td>False</td>\n",
       "      <td>curated</td>\n",
       "      <td>False</td>\n",
       "      <td>Adhesion-Adhesion</td>\n",
       "      <td>Adhesion by Cadherin</td>\n",
       "      <td>0.0</td>\n",
       "      <td>0.0</td>\n",
       "      <td>0.0</td>\n",
       "      <td>0.0</td>\n",
       "      <td>0.0</td>\n",
       "      <td>0.0</td>\n",
       "      <td>0.0</td>\n",
       "      <td>0.0</td>\n",
       "      <td>0.0</td>\n",
       "      <td>0.0</td>\n",
       "      <td>0.0</td>\n",
       "      <td>0.0</td>\n",
       "      <td>0.0</td>\n",
       "      <td>0.0</td>\n",
       "      <td>0.0</td>\n",
       "      <td>0.0</td>\n",
       "    </tr>\n",
       "    <tr>\n",
       "      <th>65</th>\n",
       "      <td>CPI-SS0A2D7895C</td>\n",
       "      <td>CEACAM1_CEACAM6</td>\n",
       "      <td>simple:P13688</td>\n",
       "      <td>simple:P40199</td>\n",
       "      <td>CEACAM1</td>\n",
       "      <td>CEACAM6</td>\n",
       "      <td>True</td>\n",
       "      <td>False</td>\n",
       "      <td>False</td>\n",
       "      <td>curated</td>\n",
       "      <td>False</td>\n",
       "      <td>Adhesion-Adhesion</td>\n",
       "      <td>Adhesion by CEAM</td>\n",
       "      <td>0.0</td>\n",
       "      <td>0.0</td>\n",
       "      <td>0.0</td>\n",
       "      <td>0.0</td>\n",
       "      <td>0.0</td>\n",
       "      <td>0.0</td>\n",
       "      <td>0.0</td>\n",
       "      <td>0.0</td>\n",
       "      <td>0.0</td>\n",
       "      <td>0.0</td>\n",
       "      <td>100.0</td>\n",
       "      <td>0.0</td>\n",
       "      <td>0.0</td>\n",
       "      <td>0.0</td>\n",
       "      <td>0.0</td>\n",
       "      <td>0.0</td>\n",
       "    </tr>\n",
       "  </tbody>\n",
       "</table>\n",
       "</div>"
      ],
      "text/plain": [
       "   id_cp_interaction interacting_pair      partner_a      partner_b   gene_a  \\\n",
       "50   CPI-SS00C24ED50        CDH5_CDH5  simple:P33151  simple:P33151     CDH5   \n",
       "65   CPI-SS0A2D7895C  CEACAM1_CEACAM6  simple:P13688  simple:P40199  CEACAM1   \n",
       "\n",
       "     gene_b  secreted  receptor_a  receptor_b annotation_strategy  \\\n",
       "50     CDH5     False       False       False             curated   \n",
       "65  CEACAM6      True       False       False             curated   \n",
       "\n",
       "    is_integrin     directionality        classification  \\\n",
       "50        False  Adhesion-Adhesion  Adhesion by Cadherin   \n",
       "65        False  Adhesion-Adhesion      Adhesion by CEAM   \n",
       "\n",
       "    CD4+ Effector T cells|CD4+ Effector T cells  \\\n",
       "50                                          0.0   \n",
       "65                                          0.0   \n",
       "\n",
       "    CD4+ Effector T cells|CD8+ Effector T cells  \\\n",
       "50                                          0.0   \n",
       "65                                          0.0   \n",
       "\n",
       "    CD4+ Effector T cells|nonstem  CD4+ Effector T cells|stem  \\\n",
       "50                            0.0                         0.0   \n",
       "65                            0.0                         0.0   \n",
       "\n",
       "    CD8+ Effector T cells|CD4+ Effector T cells  \\\n",
       "50                                          0.0   \n",
       "65                                          0.0   \n",
       "\n",
       "    CD8+ Effector T cells|CD8+ Effector T cells  \\\n",
       "50                                          0.0   \n",
       "65                                          0.0   \n",
       "\n",
       "    CD8+ Effector T cells|nonstem  CD8+ Effector T cells|stem  \\\n",
       "50                            0.0                         0.0   \n",
       "65                            0.0                         0.0   \n",
       "\n",
       "    nonstem|CD4+ Effector T cells  nonstem|CD8+ Effector T cells  \\\n",
       "50                            0.0                            0.0   \n",
       "65                            0.0                            0.0   \n",
       "\n",
       "    nonstem|nonstem  nonstem|stem  stem|CD4+ Effector T cells  \\\n",
       "50              0.0           0.0                         0.0   \n",
       "65            100.0           0.0                         0.0   \n",
       "\n",
       "    stem|CD8+ Effector T cells  stem|nonstem  stem|stem  \n",
       "50                         0.0           0.0        0.0  \n",
       "65                         0.0           0.0        0.0  "
      ]
     },
     "execution_count": 11,
     "metadata": {},
     "output_type": "execute_result"
    }
   ],
   "source": [
    "cpdb_results['interaction_scores'].head(2)"
   ]
  },
  {
   "cell_type": "code",
   "execution_count": 12,
   "id": "3c78212f-9dd3-45e2-ad37-9abbc371858c",
   "metadata": {},
   "outputs": [
    {
     "ename": "AttributeError",
     "evalue": "'DataFrame' object has no attribute 'unique'",
     "output_type": "error",
     "traceback": [
      "\u001b[0;31m---------------------------------------------------------------------------\u001b[0m",
      "\u001b[0;31mAttributeError\u001b[0m                            Traceback (most recent call last)",
      "\u001b[0;32m/tmp/ipykernel_890/757625160.py\u001b[0m in \u001b[0;36m?\u001b[0;34m()\u001b[0m\n\u001b[0;32m----> 1\u001b[0;31m \u001b[0mprint\u001b[0m\u001b[0;34m(\u001b[0m\u001b[0mcpdb_results\u001b[0m\u001b[0;34m[\u001b[0m\u001b[0;34m'interaction_scores'\u001b[0m\u001b[0;34m]\u001b[0m\u001b[0;34m.\u001b[0m\u001b[0munique\u001b[0m\u001b[0;34m)\u001b[0m\u001b[0;34m\u001b[0m\u001b[0;34m\u001b[0m\u001b[0m\n\u001b[0m",
      "\u001b[0;32m~/anaconda3/envs/cpdb/lib/python3.8/site-packages/pandas/core/generic.py\u001b[0m in \u001b[0;36m?\u001b[0;34m(self, name)\u001b[0m\n\u001b[1;32m   5985\u001b[0m             \u001b[0;32mand\u001b[0m \u001b[0mname\u001b[0m \u001b[0;32mnot\u001b[0m \u001b[0;32min\u001b[0m \u001b[0mself\u001b[0m\u001b[0;34m.\u001b[0m\u001b[0m_accessors\u001b[0m\u001b[0;34m\u001b[0m\u001b[0;34m\u001b[0m\u001b[0m\n\u001b[1;32m   5986\u001b[0m             \u001b[0;32mand\u001b[0m \u001b[0mself\u001b[0m\u001b[0;34m.\u001b[0m\u001b[0m_info_axis\u001b[0m\u001b[0;34m.\u001b[0m\u001b[0m_can_hold_identifiers_and_holds_name\u001b[0m\u001b[0;34m(\u001b[0m\u001b[0mname\u001b[0m\u001b[0;34m)\u001b[0m\u001b[0;34m\u001b[0m\u001b[0;34m\u001b[0m\u001b[0m\n\u001b[1;32m   5987\u001b[0m         ):\n\u001b[1;32m   5988\u001b[0m             \u001b[0;32mreturn\u001b[0m \u001b[0mself\u001b[0m\u001b[0;34m[\u001b[0m\u001b[0mname\u001b[0m\u001b[0;34m]\u001b[0m\u001b[0;34m\u001b[0m\u001b[0;34m\u001b[0m\u001b[0m\n\u001b[0;32m-> 5989\u001b[0;31m         \u001b[0;32mreturn\u001b[0m \u001b[0mobject\u001b[0m\u001b[0;34m.\u001b[0m\u001b[0m__getattribute__\u001b[0m\u001b[0;34m(\u001b[0m\u001b[0mself\u001b[0m\u001b[0;34m,\u001b[0m \u001b[0mname\u001b[0m\u001b[0;34m)\u001b[0m\u001b[0;34m\u001b[0m\u001b[0;34m\u001b[0m\u001b[0m\n\u001b[0m",
      "\u001b[0;31mAttributeError\u001b[0m: 'DataFrame' object has no attribute 'unique'"
     ]
    }
   ],
   "source": [
    "print(cpdb_results['interaction_scores'].unique)"
   ]
  },
  {
   "cell_type": "code",
   "execution_count": 50,
   "id": "29b93853-3247-4440-8858-06ff7971d5ef",
   "metadata": {},
   "outputs": [
    {
     "data": {
      "text/html": [
       "<div>\n",
       "<style scoped>\n",
       "    .dataframe tbody tr th:only-of-type {\n",
       "        vertical-align: middle;\n",
       "    }\n",
       "\n",
       "    .dataframe tbody tr th {\n",
       "        vertical-align: top;\n",
       "    }\n",
       "\n",
       "    .dataframe thead th {\n",
       "        text-align: right;\n",
       "    }\n",
       "</style>\n",
       "<table border=\"1\" class=\"dataframe\">\n",
       "  <thead>\n",
       "    <tr style=\"text-align: right;\">\n",
       "      <th></th>\n",
       "      <th>gene_name</th>\n",
       "      <th>uniprot</th>\n",
       "      <th>is_complex</th>\n",
       "      <th>protein_name</th>\n",
       "      <th>complex_name</th>\n",
       "      <th>id_cp_interaction</th>\n",
       "      <th>gene</th>\n",
       "      <th>CD4+ Effector T cells</th>\n",
       "      <th>CD8+ Effector T cells</th>\n",
       "      <th>nonstem</th>\n",
       "      <th>stem</th>\n",
       "    </tr>\n",
       "    <tr>\n",
       "      <th>multidata_id</th>\n",
       "      <th></th>\n",
       "      <th></th>\n",
       "      <th></th>\n",
       "      <th></th>\n",
       "      <th></th>\n",
       "      <th></th>\n",
       "      <th></th>\n",
       "      <th></th>\n",
       "      <th></th>\n",
       "      <th></th>\n",
       "      <th></th>\n",
       "    </tr>\n",
       "  </thead>\n",
       "  <tbody>\n",
       "    <tr>\n",
       "      <th>1346</th>\n",
       "      <td>CDH5</td>\n",
       "      <td>P33151</td>\n",
       "      <td>False</td>\n",
       "      <td>CADH5_HUMAN</td>\n",
       "      <td>NaN</td>\n",
       "      <td>CPI-SS00C24ED50</td>\n",
       "      <td>CDH5</td>\n",
       "      <td>0.009</td>\n",
       "      <td>0.008</td>\n",
       "      <td>0.014</td>\n",
       "      <td>0.009</td>\n",
       "    </tr>\n",
       "    <tr>\n",
       "      <th>340</th>\n",
       "      <td>CEACAM1</td>\n",
       "      <td>P13688</td>\n",
       "      <td>False</td>\n",
       "      <td>CEAM1_HUMAN</td>\n",
       "      <td>NaN</td>\n",
       "      <td>CPI-SS0A2D7895C</td>\n",
       "      <td>CEACAM1</td>\n",
       "      <td>0.170</td>\n",
       "      <td>0.081</td>\n",
       "      <td>0.318</td>\n",
       "      <td>0.046</td>\n",
       "    </tr>\n",
       "  </tbody>\n",
       "</table>\n",
       "</div>"
      ],
      "text/plain": [
       "             gene_name uniprot  is_complex protein_name complex_name  \\\n",
       "multidata_id                                                           \n",
       "1346              CDH5  P33151       False  CADH5_HUMAN          NaN   \n",
       "340            CEACAM1  P13688       False  CEAM1_HUMAN          NaN   \n",
       "\n",
       "             id_cp_interaction     gene  CD4+ Effector T cells  \\\n",
       "multidata_id                                                     \n",
       "1346           CPI-SS00C24ED50     CDH5                  0.009   \n",
       "340            CPI-SS0A2D7895C  CEACAM1                  0.170   \n",
       "\n",
       "              CD8+ Effector T cells  nonstem   stem  \n",
       "multidata_id                                         \n",
       "1346                          0.008    0.014  0.009  \n",
       "340                           0.081    0.318  0.046  "
      ]
     },
     "execution_count": 50,
     "metadata": {},
     "output_type": "execute_result"
    }
   ],
   "source": [
    "cpdb_results['deconvoluted'].head(2)"
   ]
  },
  {
   "cell_type": "code",
   "execution_count": 51,
   "id": "93843476-9cfb-48a9-b6cd-3d524f2c918e",
   "metadata": {},
   "outputs": [
    {
     "data": {
      "text/html": [
       "<div>\n",
       "<style scoped>\n",
       "    .dataframe tbody tr th:only-of-type {\n",
       "        vertical-align: middle;\n",
       "    }\n",
       "\n",
       "    .dataframe tbody tr th {\n",
       "        vertical-align: top;\n",
       "    }\n",
       "\n",
       "    .dataframe thead th {\n",
       "        text-align: right;\n",
       "    }\n",
       "</style>\n",
       "<table border=\"1\" class=\"dataframe\">\n",
       "  <thead>\n",
       "    <tr style=\"text-align: right;\">\n",
       "      <th></th>\n",
       "      <th>gene_name</th>\n",
       "      <th>uniprot</th>\n",
       "      <th>is_complex</th>\n",
       "      <th>protein_name</th>\n",
       "      <th>complex_name</th>\n",
       "      <th>id_cp_interaction</th>\n",
       "      <th>gene</th>\n",
       "      <th>CD4+ Effector T cells</th>\n",
       "      <th>CD8+ Effector T cells</th>\n",
       "      <th>nonstem</th>\n",
       "      <th>stem</th>\n",
       "    </tr>\n",
       "    <tr>\n",
       "      <th>multidata_id</th>\n",
       "      <th></th>\n",
       "      <th></th>\n",
       "      <th></th>\n",
       "      <th></th>\n",
       "      <th></th>\n",
       "      <th></th>\n",
       "      <th></th>\n",
       "      <th></th>\n",
       "      <th></th>\n",
       "      <th></th>\n",
       "      <th></th>\n",
       "    </tr>\n",
       "  </thead>\n",
       "  <tbody>\n",
       "    <tr>\n",
       "      <th>1346</th>\n",
       "      <td>CDH5</td>\n",
       "      <td>P33151</td>\n",
       "      <td>False</td>\n",
       "      <td>CADH5_HUMAN</td>\n",
       "      <td>NaN</td>\n",
       "      <td>CPI-SS00C24ED50</td>\n",
       "      <td>CDH5</td>\n",
       "      <td>0.009</td>\n",
       "      <td>0.008</td>\n",
       "      <td>0.013</td>\n",
       "      <td>0.009</td>\n",
       "    </tr>\n",
       "    <tr>\n",
       "      <th>340</th>\n",
       "      <td>CEACAM1</td>\n",
       "      <td>P13688</td>\n",
       "      <td>False</td>\n",
       "      <td>CEAM1_HUMAN</td>\n",
       "      <td>NaN</td>\n",
       "      <td>CPI-SS0A2D7895C</td>\n",
       "      <td>CEACAM1</td>\n",
       "      <td>0.082</td>\n",
       "      <td>0.042</td>\n",
       "      <td>0.117</td>\n",
       "      <td>0.034</td>\n",
       "    </tr>\n",
       "  </tbody>\n",
       "</table>\n",
       "</div>"
      ],
      "text/plain": [
       "             gene_name uniprot  is_complex protein_name complex_name  \\\n",
       "multidata_id                                                           \n",
       "1346              CDH5  P33151       False  CADH5_HUMAN          NaN   \n",
       "340            CEACAM1  P13688       False  CEAM1_HUMAN          NaN   \n",
       "\n",
       "             id_cp_interaction     gene  CD4+ Effector T cells  \\\n",
       "multidata_id                                                     \n",
       "1346           CPI-SS00C24ED50     CDH5                  0.009   \n",
       "340            CPI-SS0A2D7895C  CEACAM1                  0.082   \n",
       "\n",
       "              CD8+ Effector T cells  nonstem   stem  \n",
       "multidata_id                                         \n",
       "1346                          0.008    0.013  0.009  \n",
       "340                           0.042    0.117  0.034  "
      ]
     },
     "execution_count": 51,
     "metadata": {},
     "output_type": "execute_result"
    }
   ],
   "source": [
    "cpdb_results['deconvoluted_percents'].head(2)"
   ]
  }
 ],
 "metadata": {
  "kernelspec": {
   "display_name": "Python [conda env:cpdb]",
   "language": "python",
   "name": "conda-env-cpdb-py"
  },
  "language_info": {
   "codemirror_mode": {
    "name": "ipython",
    "version": 3
   },
   "file_extension": ".py",
   "mimetype": "text/x-python",
   "name": "python",
   "nbconvert_exporter": "python",
   "pygments_lexer": "ipython3",
   "version": "3.8.20"
  }
 },
 "nbformat": 4,
 "nbformat_minor": 5
}
