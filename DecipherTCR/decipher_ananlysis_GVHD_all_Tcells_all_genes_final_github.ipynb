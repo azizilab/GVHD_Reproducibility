{
 "cells": [
  {
   "cell_type": "markdown",
   "id": "aad35a07-0d7a-41e5-8d40-b4af81ba9175",
   "metadata": {},
   "source": [
    "# Azizi lab\n",
    "# Lingting Shi 1/6/2023\n",
    "# Decipher analysis on GVHD project's all T cell data\n",
    "# Raw counts"
   ]
  },
  {
   "cell_type": "code",
   "execution_count": null,
   "id": "1565e5cd-39aa-4ea6-bace-34133005e359",
   "metadata": {},
   "outputs": [],
   "source": [
    "#!pip install scdecipher"
   ]
  },
  {
   "cell_type": "code",
   "execution_count": null,
   "id": "1f18de9d-7e69-400d-90fc-5da319ab22f5",
   "metadata": {},
   "outputs": [],
   "source": [
    "import warnings; warnings.filterwarnings(\"ignore\") # remove scanpy warnings for the tutorial."
   ]
  },
  {
   "cell_type": "code",
   "execution_count": null,
   "id": "d4f99664-57f7-45fd-a503-aed957fec147",
   "metadata": {},
   "outputs": [],
   "source": [
    "import matplotlib.pyplot as plt\n",
    "import seaborn as sns\n",
    "import numpy as np\n",
    "import scanpy as sc\n",
    "import anndata"
   ]
  },
  {
   "cell_type": "code",
   "execution_count": null,
   "id": "f6e204c4-e644-415c-b815-499c8373df2f",
   "metadata": {},
   "outputs": [],
   "source": [
    "import decipher as dc\n",
    "dc.pl.activate_journal_quality()"
   ]
  },
  {
   "cell_type": "code",
   "execution_count": null,
   "id": "0ac47a6e-8105-4320-bb32-5e6a51a02113",
   "metadata": {},
   "outputs": [],
   "source": [
    "# Load the AnnData\n",
    "adata =sc.read('/burg/iicd/users/ls3456/GVHD/Final_pipeline/Paper_ready_pipeline/anndata_file/combined_unfiltered_newdata.h5ad')"
   ]
  },
  {
   "cell_type": "code",
   "execution_count": null,
   "id": "65e90597-3e4f-4540-9bd4-e37a958e400c",
   "metadata": {},
   "outputs": [],
   "source": [
    "adata.obs_names_make_unique()"
   ]
  },
  {
   "cell_type": "code",
   "execution_count": null,
   "id": "f3c961d5-aa42-4adc-ba13-1d9f58a8cc64",
   "metadata": {},
   "outputs": [],
   "source": [
    "# Load in the anndata with doublet information\n",
    "Tcell_sc = sc.read('/burg/iicd/users/ls3456/GVHD/Final_pipeline/Paper_ready_pipeline/anndata_file/tcell_ann_concat_Tcell_only_Migration.h5ad')\n",
    "Tcell_sc"
   ]
  },
  {
   "cell_type": "code",
   "execution_count": null,
   "id": "a6c62b42-8d90-43c2-8e07-b8622a1f548d",
   "metadata": {},
   "outputs": [],
   "source": [
    "Tcell = adata[Tcell_sc.obs.index]"
   ]
  },
  {
   "cell_type": "code",
   "execution_count": null,
   "id": "54a6b328-407f-488a-aaa2-6aee9724eddc",
   "metadata": {},
   "outputs": [],
   "source": [
    "Tcell"
   ]
  },
  {
   "cell_type": "code",
   "execution_count": null,
   "id": "0da49326-b443-42a9-8793-1a0dc2d68164",
   "metadata": {},
   "outputs": [],
   "source": [
    "if list(Tcell.obs.index) == list(Tcell_sc.obs.index):\n",
    "    print(\"The lists are identical\")\n",
    "else:\n",
    "    print(\"The lists are not identical\")"
   ]
  },
  {
   "cell_type": "code",
   "execution_count": null,
   "id": "0e271fc8-e87d-4650-8a57-7231dab261eb",
   "metadata": {},
   "outputs": [],
   "source": [
    "Tcell.obs= Tcell_sc.obs"
   ]
  },
  {
   "cell_type": "code",
   "execution_count": null,
   "id": "f0d877c5-6e75-487f-b745-5f9b3030e68d",
   "metadata": {},
   "outputs": [],
   "source": [
    "Tcell.uns= Tcell_sc.uns"
   ]
  },
  {
   "cell_type": "code",
   "execution_count": null,
   "id": "f8140053-be6b-4401-af11-e5ee55b81263",
   "metadata": {},
   "outputs": [],
   "source": [
    "Tcell.obsm= Tcell_sc.obsm"
   ]
  },
  {
   "cell_type": "code",
   "execution_count": null,
   "id": "8f2ee730-8401-4100-b09b-ffffd69d018d",
   "metadata": {},
   "outputs": [],
   "source": [
    "Tcell.obs['leiden_48']"
   ]
  },
  {
   "cell_type": "code",
   "execution_count": null,
   "id": "6fea600b-9459-4e39-9a11-26c68bd212e2",
   "metadata": {},
   "outputs": [],
   "source": [
    "Tcell.uns[\"color_palette\"] = {'CD8': '#1f77b4',\n",
    " 'CD4': '#ff7f0e',\n",
    " 'Double_Pos': '#2ca02c'}"
   ]
  },
  {
   "cell_type": "code",
   "execution_count": null,
   "id": "2e491a41-95c3-466f-a768-4108eaf953d7",
   "metadata": {},
   "outputs": [],
   "source": [
    "color_palette = Tcell.uns[\"color_palette\"]"
   ]
  },
  {
   "cell_type": "code",
   "execution_count": null,
   "id": "0f7265bc-d397-4bb9-81fa-d9ae1a41dd76",
   "metadata": {},
   "outputs": [],
   "source": [
    "color_palette"
   ]
  },
  {
   "cell_type": "code",
   "execution_count": null,
   "id": "5a7ddb30-03d5-4b97-b185-f150e605632b",
   "metadata": {},
   "outputs": [],
   "source": [
    "Tcell.uns[\"leiden_palette\"] = {'0': '#023fa5',\n",
    " '1': '#7d87b9',\n",
    " '2': '#bec1d4','3': '#d6bcc0',\n",
    " '4': '#bb7784','5': '#8e063b',\n",
    " '6': '#4a6fe3','7': '#8595e1',\n",
    " '8': '#b5bbe3','9': '#e6afb9'}"
   ]
  },
  {
   "cell_type": "code",
   "execution_count": null,
   "id": "9f13fec4-1ebb-45cd-9169-c5362902d804",
   "metadata": {},
   "outputs": [],
   "source": [
    "#Tcells_sc.uns[\"cd48_palette\"] = {'CD8_class': '#1f77b4',\n",
    " #'CD4_class': '#ff7f0e'}\n",
    "\n",
    "color_palette = Tcell.uns[\"color_palette\"]\n",
    "color_palette"
   ]
  },
  {
   "cell_type": "code",
   "execution_count": null,
   "id": "78023de3-3d26-49df-a4ec-ff709e15943e",
   "metadata": {},
   "outputs": [],
   "source": [
    "#dc.tl.DecipherConfig()"
   ]
  },
  {
   "cell_type": "code",
   "execution_count": null,
   "id": "adb724b9-9722-4ee7-954b-7b356978ea6d",
   "metadata": {},
   "outputs": [],
   "source": [
    "# Tested with good seperation on epoches 15\n",
    "decipher_config = dc.tl.DecipherConfig(n_epochs=15) # optional Decipher config\n",
    "\n",
    "d1, val1 = dc.tl.decipher_train(\n",
    "    Tcell, decipher_config, plot_kwargs={\"color\": \"leiden_48\", \"palette\": color_palette}, plot_every_k_epochs=5,\n",
    ")"
   ]
  },
  {
   "cell_type": "code",
   "execution_count": null,
   "id": "90d882ff-ab99-4d7f-aedf-7128d7130d7a",
   "metadata": {},
   "outputs": [],
   "source": [
    "plt.plot(val1)"
   ]
  },
  {
   "cell_type": "code",
   "execution_count": null,
   "id": "42bf6ad9-0250-4acd-b0a4-f99c38ab33e1",
   "metadata": {},
   "outputs": [],
   "source": [
    "Tcell"
   ]
  },
  {
   "cell_type": "code",
   "execution_count": null,
   "id": "5d8c8b73-b79d-4aca-9f56-139f15827335",
   "metadata": {},
   "outputs": [],
   "source": [
    "list(Tcell.obs['PatientID'].unique())"
   ]
  },
  {
   "cell_type": "code",
   "execution_count": null,
   "id": "89b352fb-f87c-4b7c-a43d-b9a938270406",
   "metadata": {},
   "outputs": [],
   "source": []
  },
  {
   "cell_type": "code",
   "execution_count": null,
   "id": "ef49dc59-00d1-4539-9de3-61273ef0ffb6",
   "metadata": {},
   "outputs": [],
   "source": [
    "dc.tl.decipher_rotate_space(\n",
    "    Tcell,\n",
    "    v1_col='leiden_48',\n",
    "    v1_order=['CD8', 'CD4', 'Double_Pos'],\n",
    "    v2_col='PatientID',\n",
    "    v2_order=['R096','C155','C152','C159','C162','C068','C101','C157','ND001','C98','R085','C66','C86','C160','C179','ND003'],\n",
    ")\n",
    "dc.pl.decipher(Tcell, ['leiden_48'], palette=color_palette);"
   ]
  },
  {
   "cell_type": "code",
   "execution_count": null,
   "id": "d06a5e7c-b70a-43cf-961c-7419e4d9c406",
   "metadata": {
    "scrolled": true
   },
   "outputs": [],
   "source": [
    "dc.tl.cell_clusters(Tcell, leiden_resolution=0.05, n_neighbors=10, seed=0, rep_key='decipher_z')\n",
    "dc.pl.decipher(Tcell, [\"decipher_clusters\"], legend_loc=\"on data\");"
   ]
  },
  {
   "cell_type": "code",
   "execution_count": null,
   "id": "0480509f-eaa0-4dcc-ae6b-4943df46d57c",
   "metadata": {},
   "outputs": [],
   "source": [
    "color_palette = Tcell.uns[\"leiden_palette\"]"
   ]
  },
  {
   "cell_type": "code",
   "execution_count": null,
   "id": "d93ec59d-2cdb-4f63-bdb2-3e1e25b44e8f",
   "metadata": {},
   "outputs": [],
   "source": [
    "Tcell.obs['leiden_0.5']"
   ]
  },
  {
   "cell_type": "code",
   "execution_count": null,
   "id": "7a28ec64-1f5a-471f-97b2-b5fd18c0998c",
   "metadata": {},
   "outputs": [],
   "source": [
    "color= ['leiden']\n",
    "\n",
    "for meta in color:\n",
    "    randomize=np.arange(len(Tcell.obs[meta]))\n",
    "    np.random.shuffle(randomize)\n",
    "    fig, ax = plt.subplots(figsize=(6,6),dpi=300)\n",
    "    sns.set_style(\"whitegrid\", {'axes.grid' : False})\n",
    "    scatter=sns.scatterplot(x=Tcell.obsm[\"decipher_v\"][:,0][randomize],y=Tcell.obsm[\"decipher_v\"][:,1][randomize], hue=Tcell.obs[meta][randomize],s=2, palette=color_palette).set(title=meta)\n",
    "    plt.legend(bbox_to_anchor=(1.02, 1), loc='upper left', borderaxespad=0)\n",
    "    ax.set_xlabel('Decipher 1')\n",
    "    ax.set_ylabel('Decipher 2')"
   ]
  },
  {
   "cell_type": "code",
   "execution_count": null,
   "id": "2730241b-5955-4755-bb79-c067e16d9da3",
   "metadata": {},
   "outputs": [],
   "source": [
    "Tcell.var['mt'] = Tcell.var_names.str.startswith('MT-')  # annotate the group of mitochondrial genes as 'mt'\n",
    "sc.pp.calculate_qc_metrics(Tcell, qc_vars=['mt'], percent_top=None, log1p=False, inplace=True)"
   ]
  },
  {
   "cell_type": "code",
   "execution_count": null,
   "id": "5f63cecb-8fd0-4eca-aa70-ef87f845f299",
   "metadata": {},
   "outputs": [],
   "source": [
    "color=['GVHD_Grade_1',\n",
    "            'LPorIE',\n",
    "            'Tissue_Location',\n",
    "             \"leiden_0.5\",\n",
    "             'Transplant_Conditioning',\n",
    "             'Donor',\n",
    "             'Time_1stGVHD',\n",
    "             \"cellType_Terminal\\nexhaustion_markers\",\n",
    "             'cellType_Cytolytics \\neffector pathway_markers',\n",
    "             'cc_aa_alignment_same_v_size',\n",
    "             'clonal_expansion',\n",
    "             'PatientID',\n",
    "             'total_counts',\n",
    "             'pct_counts_mt',\n",
    "             'total_counts_mt',\n",
    "             'cellType_G2/M_markers', \n",
    "             'cellType_G1/S_markers']\n",
    "\n",
    "for meta in color:\n",
    "    randomize=np.arange(len(Tcell.obs[meta]))\n",
    "    np.random.shuffle(randomize)\n",
    "    fig, ax = plt.subplots(figsize=(6,6),dpi=300)\n",
    "    sns.set_style(\"whitegrid\", {'axes.grid' : False})\n",
    "    scatter=sns.scatterplot(x=Tcell.obsm[\"decipher_v\"][:,0][randomize],y=Tcell.obsm[\"decipher_v\"][:,1][randomize], hue=Tcell.obs[meta][randomize],s=4).set(title=meta)\n",
    "    plt.legend(bbox_to_anchor=(1.02, 1), loc='upper left', borderaxespad=0)\n",
    "    ax.set_xlabel('Decipher 1')\n",
    "    ax.set_ylabel('Decipher 2')"
   ]
  },
  {
   "cell_type": "code",
   "execution_count": null,
   "id": "eefb5926-eb20-4c3a-8239-2934e706c337",
   "metadata": {},
   "outputs": [],
   "source": [
    "color=['cc_aa_alignment_same_v_size',\n",
    "             'clonal_expansion',\n",
    "             'PatientID',\n",
    "             'total_counts',\n",
    "             'pct_counts_mt',\n",
    "             'total_counts_mt']\n",
    "\n",
    "for meta in color:\n",
    "    randomize=np.arange(len(Tcell.obs[meta]))\n",
    "    np.random.shuffle(randomize)\n",
    "    fig, ax = plt.subplots(figsize=(6,6),dpi=300)\n",
    "    sns.set_style(\"whitegrid\", {'axes.grid' : False})\n",
    "    scatter=sns.scatterplot(x=Tcell.obsm[\"decipher_v\"][:,0][randomize],y=Tcell.obsm[\"decipher_v\"][:,1][randomize], hue=Tcell.obs[meta][randomize],s=4).set(title=meta)\n",
    "    plt.legend(bbox_to_anchor=(1.02, 1), loc='upper left', borderaxespad=0)\n",
    "    ax.set_xlabel('Decipher 1')\n",
    "    ax.set_ylabel('Decipher 2')"
   ]
  },
  {
   "cell_type": "code",
   "execution_count": null,
   "id": "16749e20-ed58-4b35-bfc4-344656b34a8a",
   "metadata": {},
   "outputs": [],
   "source": [
    "color=['GZMK','GZMB','TIGIT']\n",
    "\n",
    "color=['CD3D','CD4','CD8A']\n",
    "\n",
    "dc.pl.decipher(\n",
    "    Tcell,\n",
    "    color,\n",
    "    ncols=3,\n",
    "    vmax=lambda x: np.quantile(x, 0.99),c\n",
    "    figsize=(6, 6),\n",
    "    axis_type=None\n",
    ");"
   ]
  },
  {
   "cell_type": "code",
   "execution_count": null,
   "id": "d42d3cbc-ee6a-4f77-bb68-b0e9ebdf5968",
   "metadata": {},
   "outputs": [],
   "source": [
    "Tcell.write('/burg/iicd/users/ls3456/GVHD/Final_pipeline/Paper_ready_pipeline/anndata_file/Tcells_sc_dc.h5ad')"
   ]
  },
  {
   "cell_type": "code",
   "execution_count": null,
   "id": "f008da21-2689-4b6a-9d9d-5c65c23ee659",
   "metadata": {},
   "outputs": [],
   "source": [
    "Tcell"
   ]
  },
  {
   "cell_type": "code",
   "execution_count": null,
   "id": "035e073a-0be0-4d21-a9f9-e97f860dbe85",
   "metadata": {},
   "outputs": [],
   "source": []
  }
 ],
 "metadata": {
  "kernelspec": {
   "display_name": "Python 3 (ipykernel)",
   "language": "python",
   "name": "python3"
  },
  "language_info": {
   "codemirror_mode": {
    "name": "ipython",
    "version": 3
   },
   "file_extension": ".py",
   "mimetype": "text/x-python",
   "name": "python",
   "nbconvert_exporter": "python",
   "pygments_lexer": "ipython3",
   "version": "3.11.8"
  }
 },
 "nbformat": 4,
 "nbformat_minor": 5
}
