{
 "cells": [
  {
   "cell_type": "markdown",
   "id": "7f404b12",
   "metadata": {},
   "source": [
    "# GVHD project integrated analysis"
   ]
  },
  {
   "cell_type": "markdown",
   "id": "de520539",
   "metadata": {},
   "source": [
    "Azizi lab\n",
    "Lingting Shi\n",
    "\n",
    "anndata     0.8.0\n",
    "scanpy      1.9.1\n",
    "-----\n",
    "PIL                         9.2.0\n",
    "appnope                     0.1.2\n",
    "asttokens                   NA\n",
    "backcall                    0.2.0\n",
    "beta_ufunc                  NA\n",
    "binom_ufunc                 NA\n",
    "cffi                        1.15.0\n",
    "cycler                      0.10.0\n",
    "cython_runtime              NA\n",
    "dateutil                    2.8.2\n",
    "debugpy                     1.5.1\n",
    "decorator                   5.1.1\n",
    "defusedxml                  0.7.1\n",
    "entrypoints                 0.4\n",
    "executing                   0.8.3\n",
    "h5py                        3.7.0\n",
    "hypergeom_ufunc             NA\n",
    "igraph                      0.9.11\n",
    "ipykernel                   6.9.1\n",
    "ipython_genutils            0.2.0\n",
    "jedi                        0.18.1\n",
    "joblib                      1.1.0\n",
    "kiwisolver                  1.4.4\n",
    "leidenalg                   0.8.10\n",
    "llvmlite                    0.38.1\n",
    "matplotlib                  3.5.2\n",
    "mpl_toolkits                NA\n",
    "natsort                     8.1.0\n",
    "nbinom_ufunc                NA\n",
    "numba                       0.55.2\n",
    "numpy                       1.21.0\n",
    "packaging                   21.3\n",
    "pandas                      1.3.5\n",
    "parso                       0.8.3\n",
    "pexpect                     4.8.0\n",
    "pickleshare                 0.7.5\n",
    "pkg_resources               NA\n",
    "prompt_toolkit              3.0.20\n",
    "psutil                      5.9.1\n",
    "ptyprocess                  0.7.0\n",
    "pure_eval                   0.2.2\n",
    "pydev_ipython               NA\n",
    "pydevconsole                NA\n",
    "pydevd                      2.6.0\n",
    "pydevd_concurrency_analyser NA\n",
    "pydevd_file_utils           NA\n",
    "pydevd_plugins              NA\n",
    "pydevd_tracing              NA\n",
    "pygments                    2.11.2\n",
    "pyparsing                   3.0.4\n",
    "pytz                        2022.1\n",
    "scipy                       1.8.1\n",
    "session_info                1.0.0\n",
    "setuptools                  63.2.0\n",
    "six                         1.16.0\n",
    "sklearn                     1.1.1\n",
    "stack_data                  0.2.0\n",
    "texttable                   1.6.4\n",
    "threadpoolctl               3.1.0\n",
    "tornado                     6.1\n",
    "tqdm                        4.64.0\n",
    "traitlets                   5.1.1\n",
    "typing_extensions           NA\n",
    "wcwidth                     0.2.5\n",
    "zmq                         23.2.0\n",
    "-----\n",
    "IPython             8.4.0\n",
    "jupyter_client      7.2.2\n",
    "jupyter_core        4.10.0\n",
    "notebook            6.4.11\n",
    "-----\n",
    "Python 3.10.5 | packaged by conda-forge | (main, Jun 14 2022, 07:05:37) [Clang 13.0.1 ]\n",
    "macOS-12.3-arm64-arm-64bit\n",
    "-----\n",
    "Session information updated at 2022-08-14 10:32"
   ]
  },
  {
   "cell_type": "markdown",
   "id": "ce5e883e",
   "metadata": {},
   "source": [
    " # verison 2\n",
    "absl-py                       1.2.0\n",
    "adjustText                    0.7.3\n",
    "aiohttp                       3.8.3\n",
    "aiosignal                     1.2.0\n",
    "alabaster                     0.7.12\n",
    "anndata                       0.8.0\n",
    "anyio                         3.6.1\n",
    "appdirs                       1.4.4\n",
    "appnope                       0.1.3\n",
    "argon2-cffi                   21.3.0\n",
    "argon2-cffi-bindings          21.2.0\n",
    "asttokens                     2.0.8\n",
    "async-timeout                 4.0.2\n",
    "attrs                         22.1.0\n",
    "Babel                         2.10.3\n",
    "backcall                      0.2.0\n",
    "backports.functools-lru-cache 1.6.4\n",
    "beautifulsoup4                4.11.1\n",
    "bioinfokit                    2.0.8\n",
    "biopython                     1.79\n",
    "bioservices                   1.10.0\n",
    "bleach                        5.0.1\n",
    "blinker                       1.4\n",
    "brotlipy                      0.7.0\n",
    "cached-property               1.5.2\n",
    "cachetools                    5.2.0\n",
    "certifi                       2022.9.24\n",
    "cffi                          1.15.1\n",
    "charset-normalizer            2.1.0\n",
    "chex                          0.1.5\n",
    "clang                         14.0\n",
    "click                         8.1.3\n",
    "colorama                      0.4.5\n",
    "colorlog                      6.6.0\n",
    "commonmark                    0.9.1\n",
    "community                     1.0.0b1\n",
    "cryptography                  37.0.4\n",
    "cycler                        0.11.0\n",
    "dataclasses                   0.8\n",
    "debugpy                       1.6.3\n",
    "decorator                     5.1.1\n",
    "defusedxml                    0.7.1\n",
    "Deprecated                    1.2.13\n",
    "dm-tree                       0.1.7\n",
    "docrep                        0.3.2\n",
    "docutils                      0.19\n",
    "easydev                       0.12.0\n",
    "entrypoints                   0.4\n",
    "et-xmlfile                    1.1.0\n",
    "etils                         0.8.0\n",
    "executing                     0.10.0\n",
    "fastjsonschema                2.16.1\n",
    "Flask                         2.2.2\n",
    "flax                          0.5.2\n",
    "flit_core                     3.7.1\n",
    "fonttools                     4.36.0\n",
    "frozenlist                    1.3.1\n",
    "fsspec                        2022.8.2\n",
    "future                        0.18.2\n",
    "gevent                        21.12.0\n",
    "google                        3.0.0\n",
    "google-auth                   2.11.0\n",
    "google-auth-oauthlib          0.4.6\n",
    "graphtools                    1.5.2\n",
    "greenlet                      1.1.2\n",
    "grequests                     0.6.0\n",
    "grpcio                        1.46.4\n",
    "gseapy                        0.12.1\n",
    "h5py                          3.7.0\n",
    "html5lib                      1.1\n",
    "hyperopt                      0.1.2\n",
    "idna                          3.3\n",
    "igraph                        0.9.11\n",
    "imageio                       2.21.1\n",
    "imagesize                     1.4.1\n",
    "importlib-metadata            4.11.4\n",
    "importlib-resources           5.9.0\n",
    "ipykernel                     6.15.1\n",
    "ipython                       8.4.0\n",
    "ipython-genutils              0.2.0\n",
    "ipywidgets                    8.0.2\n",
    "itsdangerous                  2.1.2\n",
    "jax                           0.3.17\n",
    "jaxlib                        0.3.15\n",
    "jedi                          0.18.1\n",
    "Jinja2                        3.1.2\n",
    "joblib                        1.1.0\n",
    "json5                         0.9.5\n",
    "jsonschema                    4.9.1\n",
    "jupyter-client                7.3.4\n",
    "jupyter_core                  4.11.1\n",
    "jupyter-server                1.18.1\n",
    "jupyterlab                    3.4.5\n",
    "jupyterlab-pygments           0.2.2\n",
    "jupyterlab-server             2.15.0\n",
    "jupyterlab-widgets            3.0.3\n",
    "kiwisolver                    1.4.4\n",
    "kneed                         0.7.0\n",
    "leidenalg                     0.8.10\n",
    "llvmlite                      0.38.1\n",
    "lxml                          4.9.1\n",
    "magic-impute                  3.0.0\n",
    "Markdown                      3.4.1\n",
    "MarkupSafe                    2.1.1\n",
    "matplotlib                    3.5.3\n",
    "matplotlib-inline             0.1.6\n",
    "matplotlib-venn               0.11.7\n",
    "mistune                       0.8.4\n",
    "mizani                        0.7.4\n",
    "msgpack                       1.0.4\n",
    "mudata                        0.2.0\n",
    "multidict                     6.0.2\n",
    "multipledispatch              0.6.0\n",
    "munkres                       1.1.4\n",
    "natsort                       8.1.0\n",
    "nbclassic                     0.4.3\n",
    "nbclient                      0.6.6\n",
    "nbconvert                     6.5.3\n",
    "nbformat                      5.4.0\n",
    "nest-asyncio                  1.5.5\n",
    "networkx                      2.8.5\n",
    "notebook                      6.4.12\n",
    "notebook-shim                 0.1.0\n",
    "numba                         0.55.2\n",
    "numpy                         1.22.4\n",
    "numpyro                       0.10.1\n",
    "oauthlib                      3.2.1\n",
    "opencv-python                 4.6.0.66\n",
    "openpyxl                      3.0.10\n",
    "opt-einsum                    3.3.0\n",
    "optax                         0.1.3\n",
    "packaging                     21.3\n",
    "palettable                    3.3.0\n",
    "pandas                        1.3.5\n",
    "pandocfilters                 1.5.0\n",
    "parso                         0.8.3\n",
    "patsy                         0.5.2\n",
    "pexpect                       4.8.0\n",
    "PhenoGraph                    1.5.7\n",
    "pickleshare                   0.7.5\n",
    "Pillow                        9.2.0\n",
    "pip                           22.2.2\n",
    "pkgutil_resolve_name          1.3.10\n",
    "plotly                        5.10.0\n",
    "plotnine                      0.9.0\n",
    "prometheus-client             0.14.1\n",
    "prompt-toolkit                3.0.30\n",
    "protobuf                      3.20.1\n",
    "psutil                        5.9.1\n",
    "ptyprocess                    0.7.0\n",
    "pure-eval                     0.2.2\n",
    "py-pcha                       0.1.3\n",
    "pyasn1                        0.4.8\n",
    "pyasn1-modules                0.2.7\n",
    "pycparser                     2.21\n",
    "pyDeprecate                   0.3.2\n",
    "Pygments                      2.13.0\n",
    "PyGSP                         0.5.1\n",
    "PyJWT                         2.5.0\n",
    "pymongo                       4.2.0\n",
    "pynndescent                   0.5.7\n",
    "pyOpenSSL                     22.0.0\n",
    "pyparsing                     3.0.9\n",
    "pyro-api                      0.1.2\n",
    "pyro-ppl                      1.8.2+2e3bd02\n",
    "pyrsistent                    0.18.1\n",
    "PySocks                       1.7.1\n",
    "python-dateutil               2.8.2\n",
    "python-Levenshtein            0.12.2\n",
    "python-louvain                0.16\n",
    "pytoml                        0.1.21\n",
    "pytorch-lightning             1.7.6\n",
    "pytz                          2022.2.1\n",
    "pyu2f                         0.1.5\n",
    "PyWavelets                    1.3.0\n",
    "PyYAML                        6.0\n",
    "pyzmq                         23.2.1\n",
    "requests                      2.28.1\n",
    "requests-cache                0.4.13\n",
    "requests-oauthlib             1.3.1\n",
    "rich                          11.1.0\n",
    "rsa                           4.9\n",
    "scanpy                        1.9.1\n",
    "scikit-dimension              0.3.2\n",
    "scikit-image                  0.19.3\n",
    "scikit-learn                  1.1.2\n",
    "scikit-misc                   0.1.4\n",
    "scipy                         1.9.0\n",
    "scprep                        1.2.0\n",
    "scvi                          0.6.8\n",
    "scvi-tools                    0.17.4\n",
    "seaborn                       0.11.2\n",
    "Send2Trash                    1.8.0\n",
    "session-info                  1.0.0\n",
    "setuptools                    65.0.2\n",
    "six                           1.16.0\n",
    "sniffio                       1.2.0\n",
    "snowballstemmer               2.2.0\n",
    "soupsieve                     2.3.2.post1\n",
    "Sphinx                        5.1.1\n",
    "sphinxcontrib-applehelp       1.0.2\n",
    "sphinxcontrib-devhelp         1.0.2\n",
    "sphinxcontrib-htmlhelp        2.0.0\n",
    "sphinxcontrib-jsmath          1.0.1\n",
    "sphinxcontrib-qthelp          1.0.3\n",
    "sphinxcontrib-serializinghtml 1.1.5\n",
    "squarify                      0.4.3\n",
    "stack-data                    0.4.0\n",
    "statannotations               0.4.4\n",
    "statsmodels                   0.13.2\n",
    "stdlib-list                   0.7.0\n",
    "suds-community                1.1.2\n",
    "tabulate                      0.8.10\n",
    "tangram-sc                    1.0.3\n",
    "tasklogger                    1.2.0\n",
    "tenacity                      8.0.1\n",
    "tensorboard                   2.10.0\n",
    "tensorboard-data-server       0.6.0\n",
    "tensorboard-plugin-wit        1.8.1\n",
    "terminado                     0.15.0\n",
    "texttable                     1.6.4\n",
    "textwrap3                     0.9.2\n",
    "threadpoolctl                 3.1.0\n",
    "tifffile                      2022.8.12\n",
    "tinycss2                      1.1.1\n",
    "tomli                         2.0.1\n",
    "toolz                         0.12.0\n",
    "torch                         1.13.0.dev20220925\n",
    "torchaudio                    0.13.0.dev20220925\n",
    "torchmetrics                  0.9.3\n",
    "torchvision                   0.14.0.dev20220925\n",
    "tornado                       6.2\n",
    "tqdm                          4.64.0\n",
    "traitlets                     5.3.0\n",
    "typing_extensions             4.3.0\n",
    "umap-learn                    0.5.3\n",
    "unicodedata2                  14.0.0\n",
    "urllib3                       1.26.11\n",
    "wcwidth                       0.2.5\n",
    "webencodings                  0.5.1\n",
    "websocket-client              1.3.3\n",
    "Werkzeug                      2.2.2\n",
    "wheel                         0.37.1\n",
    "widgetsnbextension            4.0.3\n",
    "wrapt                         1.14.1\n",
    "xlrd                          1.2.0\n",
    "xmltodict                     0.13.0\n",
    "yamlordereddictloader         0.4.0\n",
    "yarl                          1.7.2\n",
    "zipp                          3.8.1\n",
    "zope.event                    4.5.0\n",
    "zope.interface                5.4.0"
   ]
  },
  {
   "cell_type": "code",
   "execution_count": null,
   "id": "70b135a4",
   "metadata": {},
   "outputs": [],
   "source": [
    "#conda activate scanpy"
   ]
  },
  {
   "cell_type": "code",
   "execution_count": null,
   "id": "bfa64271",
   "metadata": {},
   "outputs": [],
   "source": [
    "#!pip list"
   ]
  },
  {
   "cell_type": "code",
   "execution_count": null,
   "id": "7e0d614b-d6e1-4cc4-9e64-0e6938011ec5",
   "metadata": {},
   "outputs": [],
   "source": [
    "#!pip install openpyxl\n",
    "#anndata needs to be 0.8.0\n",
    "from glob import glob\n",
    "import numpy as np\n",
    "import pandas as pd\n",
    "import scanpy as sc\n",
    "import anndata as ad\n",
    "import anndata\n",
    "import pickle\n",
    "import matplotlib.pyplot as plt\n",
    "from tqdm import tqdm\n",
    "import gc\n",
    "import tarfile\n",
    "import seaborn as sns\n",
    "import scvi\n",
    "import torch\n",
    "\n",
    "from collections import OrderedDict\n",
    "import pickle\n",
    "#import scrublet as scr\n",
    "import scipy.io\n",
    "import matplotlib.pyplot as plt\n",
    "import os"
   ]
  },
  {
   "cell_type": "code",
   "execution_count": null,
   "id": "76a46c82",
   "metadata": {},
   "outputs": [],
   "source": [
    "#!pip install scvi"
   ]
  },
  {
   "cell_type": "code",
   "execution_count": null,
   "id": "6ab4a6bc",
   "metadata": {},
   "outputs": [],
   "source": [
    "sc.settings.verbosity = 3             # verbosity: errors (0), warnings (1), info (2), hints (3)\n",
    "sc.logging.print_versions()\n",
    "sc.set_figure_params(dpi=80)"
   ]
  },
  {
   "cell_type": "markdown",
   "id": "6d87dafc",
   "metadata": {},
   "source": [
    "# Loading data"
   ]
  },
  {
   "cell_type": "code",
   "execution_count": null,
   "id": "db7777a4-fa2e-4e8e-b879-f582e5bbff41",
   "metadata": {},
   "outputs": [],
   "source": [
    "#!pip install openpyxl"
   ]
  },
  {
   "cell_type": "code",
   "execution_count": null,
   "id": "817a7a87-6029-41a9-b2e5-3cd1b70b0eba",
   "metadata": {},
   "outputs": [],
   "source": [
    "# You can update your data location in the meta file\n",
    "meta_df = pd.read_excel('/burg/iicd/users/ls3456/GVHD/scRNAseq_TCR_samples_meta_LS-13_f.xlsx')\n",
    "meta_df.index = meta_df['Sample ID']"
   ]
  },
  {
   "cell_type": "code",
   "execution_count": null,
   "id": "54196f8a",
   "metadata": {},
   "outputs": [],
   "source": [
    "meta_df.head()"
   ]
  },
  {
   "cell_type": "code",
   "execution_count": null,
   "id": "0d726ccc",
   "metadata": {},
   "outputs": [],
   "source": [
    "#Add genes from the major cell type to the batch correction\n",
    "markers = pd.read_excel('/burg/iicd/users/ls3456/GVHD/Major_cell_type_markers.xlsx')\n",
    "markers"
   ]
  },
  {
   "cell_type": "code",
   "execution_count": null,
   "id": "deb742d4-93e1-4bfe-ae47-bb6bb1cf1e78",
   "metadata": {},
   "outputs": [],
   "source": [
    "# Update the sample list here need to be the same as sample ID\n",
    "Sample_list = [\"R096_Tc17_up\",\"R096_Tc17_low\",\"RH01\",\"RH02\",\"RH03\",\"RH04\",\"RH05\",\"RH06\",\"RH07\",\"RH08\",\"RH09\",\"RH10\",\"RH11\",\"RH12\",\"RH13\",\"RH14\",\"UA01\",\"UA02\",\"UA03\",\"UA04\",\"UA05\",\"UA06\",\"UA07\",\"UA08\",\"UA09\",\"UA10\",\"UA11\",\"UA12\",'UA13','UA14','UA15','UA19','UA20','UA21','UA22','UA23','UA24','UA26','UA30','UA31','UA32','UA33','UA34','UA35','UA36','UA37','UA38','UA39','UA40','UA41']\n",
    "#Sample_list = [\"R096_Tc17_up\",\"R096_Tc17_low\",\"RH01\",\"RH02\",\"RH03\",\"RH04\"]"
   ]
  },
  {
   "cell_type": "code",
   "execution_count": null,
   "id": "1fc1bad0-3fab-4af2-9bad-a2b869e41210",
   "metadata": {},
   "outputs": [],
   "source": [
    "# Read in files and and update the info of meta data/ Check on every patient\n",
    "for i in range(len(Sample_list)):\n",
    "    vars()[\"adata_\" + str(Sample_list[i])] = sc.read_10x_mtx(meta_df.loc[Sample_list[i],'local_scRNAseq'],  # the directory with the `.mtx` file\n",
    "        var_names='gene_symbols',                  # use gene symbols for the variable names (variables-axis index)\n",
    "         cache=True)\n",
    "    print(\"Reading in ... \" + \"adata_\" + str(Sample_list[i]))\n",
    "    print(vars()[\"adata_\" + str(Sample_list[i])])\n",
    "    vars()[\"adata_\" + str(Sample_list[i])].obs['PatientID'] = np.repeat(meta_df.loc[Sample_list[i],'Patient ID'],vars()[\"adata_\" + str(Sample_list[i])].shape[0])\n",
    "    vars()[\"adata_\" + str(Sample_list[i])].obs['SampleID'] = np.repeat(meta_df.loc[Sample_list[i],'Sample ID'],vars()[\"adata_\" + str(Sample_list[i])].shape[0])\n",
    "    vars()[\"adata_\" + str(Sample_list[i])].obs['Biopsy_Date'] = np.repeat(meta_df.loc[Sample_list[i],'Biopsy Date'],vars()[\"adata_\" + str(Sample_list[i])].shape[0])\n",
    "    vars()[\"adata_\" + str(Sample_list[i])].obs['FreshorFrozen'] = np.repeat(meta_df.loc[Sample_list[i],'submission'],vars()[\"adata_\" + str(Sample_list[i])].shape[0])\n",
    "    vars()[\"adata_\" + str(Sample_list[i])].obs['Days_post-Transplant'] = np.repeat(meta_df.loc[Sample_list[i],'Days post-Transplant'],vars()[\"adata_\" + str(Sample_list[i])].shape[0])\n",
    "    vars()[\"adata_\" + str(Sample_list[i])].obs['Tissue_Location'] = np.repeat(meta_df.loc[Sample_list[i],'Tissue Location'],vars()[\"adata_\" + str(Sample_list[i])].shape[0])\n",
    "    vars()[\"adata_\" + str(Sample_list[i])].obs['LPorIE'] = np.repeat(meta_df.loc[Sample_list[i],'Cell Type'],vars()[\"adata_\" + str(Sample_list[i])].shape[0])\n",
    "    vars()[\"adata_\" + str(Sample_list[i])].obs['Enrichment Method'] = np.repeat(meta_df.loc[Sample_list[i],'Enrichment Method'],vars()[\"adata_\" + str(Sample_list[i])].shape[0])\n",
    "    #vars()[\"adata_\" + str(Sample_list[i])].obs['Clinical_grade_of_GVHD'] = np.repeat(meta_df.loc[Sample_list[i],'Clinical Grade of GVHD'],vars()[\"adata_\" + str(Sample_list[i])].shape[0])\n",
    "    vars()[\"adata_\" + str(Sample_list[i])].obs['Pathological_grade_of_GVHD'] = np.repeat(meta_df.loc[Sample_list[i],'Pathological Grade of GVHD'],vars()[\"adata_\" + str(Sample_list[i])].shape[0])\n",
    "    vars()[\"adata_\" + str(Sample_list[i])].obs['Pathological_grade_of_GVHD_num'] = np.repeat(meta_df.loc[Sample_list[i],'Pathological Grade number'],vars()[\"adata_\" + str(Sample_list[i])].shape[0])\n",
    "    vars()[\"adata_\" + str(Sample_list[i])].obs['Grade_num'] = np.repeat(meta_df.loc[Sample_list[i],'GVHD_Grade'],vars()[\"adata_\" + str(Sample_list[i])].shape[0])\n",
    "    vars()[\"adata_\" + str(Sample_list[i])].obs['GVHD_Grade_1'] = np.repeat(meta_df.loc[Sample_list[i],'GVHD Grade_1'],vars()[\"adata_\" + str(Sample_list[i])].shape[0])\n",
    "    vars()[\"adata_\" + str(Sample_list[i])].obs['GVHD_Grade_2'] = np.repeat(meta_df.loc[Sample_list[i],'GVHD Grade_2'],vars()[\"adata_\" + str(Sample_list[i])].shape[0])\n",
    "    vars()[\"adata_\" + str(Sample_list[i])].obs['GVHD_Grade_3'] = np.repeat(meta_df.loc[Sample_list[i],'GVHD Grade_3'],vars()[\"adata_\" + str(Sample_list[i])].shape[0])\n",
    "    vars()[\"adata_\" + str(Sample_list[i])].obs['Transplant_Conditioning'] = np.repeat(meta_df.loc[Sample_list[i],'Transplant Conditioning'],vars()[\"adata_\" + str(Sample_list[i])].shape[0])\n",
    "    vars()[\"adata_\" + str(Sample_list[i])].obs['Gender'] = np.repeat(meta_df.loc[Sample_list[i],'Biological Sex'],vars()[\"adata_\" + str(Sample_list[i])].shape[0])\n",
    "    vars()[\"adata_\" + str(Sample_list[i])].obs['DoT'] = np.repeat(meta_df.loc[Sample_list[i],'DoT'],vars()[\"adata_\" + str(Sample_list[i])].shape[0])\n",
    "    vars()[\"adata_\" + str(Sample_list[i])].obs['Time_1stGVHD'] = np.repeat(meta_df.loc[Sample_list[i],'Time_1stGVHD'],vars()[\"adata_\" + str(Sample_list[i])].shape[0])   \n",
    "    vars()[\"adata_\" + str(Sample_list[i])].obs['Donor'] = np.repeat(meta_df.loc[Sample_list[i],'Donor_type'],vars()[\"adata_\" + str(Sample_list[i])].shape[0])\n",
    "    vars()[\"adata_\" + str(Sample_list[i])].obs['Disease'] = np.repeat(meta_df.loc[Sample_list[i],'Disease'],vars()[\"adata_\" + str(Sample_list[i])].shape[0])\n",
    "    vars()[\"adata_\" + str(Sample_list[i])].obs['GVHD_Prophylaxis_Regimen'] = np.repeat(meta_df.loc[Sample_list[i],'GVHD Prophylaxis Regimen'],vars()[\"adata_\" + str(Sample_list[i])].shape[0])\n",
    "    vars()[\"adata_\" + str(Sample_list[i])].obs['Dates_from_Transplantation'] = np.repeat(meta_df.loc[Sample_list[i],'Dates_from_Transplantation'],vars()[\"adata_\" + str(Sample_list[i])].shape[0])\n",
    "    #sc.pp.filter_genes(vars()[\"adata_\" + str(Sample_list[i])], min_cells=10)\n",
    "    #sc.pp.filter_cells(vars()[\"adata_\" + str(Sample_list[i])], min_genes=200)\n",
    "    vars()[\"adata_\" + str(Sample_list[i])].var['mt'] = vars()[\"adata_\" + str(Sample_list[i])].var_names.str.startswith('MT-')  # annotate the group of mitochondrial genes as 'mt'\n",
    "    vars()[\"adata_\" + str(Sample_list[i])].var_names_make_unique()\n",
    "    sc.pp.calculate_qc_metrics(vars()[\"adata_\" + str(Sample_list[i])], qc_vars=['mt'], percent_top=None, log1p=False, inplace=True)\n",
    "    sc.pl.violin(vars()[\"adata_\" + str(Sample_list[i])], ['n_genes_by_counts', 'total_counts', 'pct_counts_mt'],\n",
    "             jitter=0.4, multi_panel=True)\n",
    "    \n",
    "    \n",
    "    "
   ]
  },
  {
   "cell_type": "markdown",
   "id": "0f3156a5",
   "metadata": {},
   "source": [
    "# Preprocessing"
   ]
  },
  {
   "cell_type": "code",
   "execution_count": null,
   "id": "54a44ab1-57a6-4350-bcde-3447f326f501",
   "metadata": {},
   "outputs": [],
   "source": [
    "#Concat the data together\n",
    "combined = ad.concat([adata_R096_Tc17_up, adata_R096_Tc17_low, adata_RH01, adata_RH02, adata_RH03, adata_RH04, adata_RH05, adata_RH06, adata_RH07, adata_RH08, adata_RH09,adata_RH10, adata_RH11,adata_RH12,adata_RH13,adata_RH14, adata_UA01, adata_UA02, adata_UA03, adata_UA04, adata_UA05, adata_UA06, adata_UA07, adata_UA08,adata_UA09, adata_UA10, adata_UA11, adata_UA12, adata_UA13,adata_UA14,adata_UA15,adata_UA19,adata_UA20,adata_UA21,adata_UA22,adata_UA23,adata_UA24,adata_UA26,adata_UA30,adata_UA31,adata_UA32,adata_UA33,adata_UA34,adata_UA35,adata_UA36,adata_UA37,adata_UA38,adata_UA39,adata_UA40,adata_UA41], join=\"outer\")\n",
    "#combined = ad.concat([adata_R096_Tc17_up, adata_R096_Tc17_low, adata_RH01, adata_RH02, adata_RH03, adata_RH04], join=\"outer\")"
   ]
  },
  {
   "cell_type": "code",
   "execution_count": null,
   "id": "84a565d8",
   "metadata": {},
   "outputs": [],
   "source": [
    "#del combined.obs['Biopsy_Date']\n",
    "#del combined.obs['Pathological_grade_of_GVHD_num']\n",
    "#del combined.obs['Grade_num']\n",
    "#del combined.obs['DoT']"
   ]
  },
  {
   "cell_type": "code",
   "execution_count": null,
   "id": "4d143421-66bc-472c-9b3c-6ed2fa5936fc",
   "metadata": {},
   "outputs": [],
   "source": [
    "#store the original files here\n",
    "combined_unfiltered = combined\n",
    "results_file = '/burg/iicd/users/ls3456/GVHD/adata_file/combined_unfiltered_newdata.h5ad'\n",
    "combined_unfiltered.write(results_file)"
   ]
  },
  {
   "cell_type": "code",
   "execution_count": null,
   "id": "dea3ff33",
   "metadata": {},
   "outputs": [],
   "source": [
    "# load in data from doublet discrimination\n",
    "combined_doublet = anndata.read_h5ad('/burg/iicd/users/ls3456/GVHD/adata_file/nodoublet_ls.h5ad')"
   ]
  },
  {
   "cell_type": "code",
   "execution_count": null,
   "id": "2198187f",
   "metadata": {},
   "outputs": [],
   "source": [
    "if list(combined.obs.index) == list(combined_doublet.obs.index):\n",
    "    print(\"The lists are identical\")\n",
    "else:\n",
    "    print(\"The lists are not identical\")"
   ]
  },
  {
   "cell_type": "code",
   "execution_count": null,
   "id": "6aea1819",
   "metadata": {},
   "outputs": [],
   "source": [
    "combined.obs['doublet_score'] = combined_doublet.obs['doublet_score']\n",
    "combined.obs['is_doublet']= combined_doublet.obs['is_doublet']"
   ]
  },
  {
   "cell_type": "code",
   "execution_count": null,
   "id": "d088addc",
   "metadata": {},
   "outputs": [],
   "source": [
    "combined"
   ]
  },
  {
   "cell_type": "code",
   "execution_count": null,
   "id": "374fb475",
   "metadata": {},
   "outputs": [],
   "source": [
    "sc.pl.violin(combined, ['n_genes_by_counts', 'total_counts', 'pct_counts_mt'],\n",
    "             jitter=0.4, multi_panel=True)"
   ]
  },
  {
   "cell_type": "code",
   "execution_count": null,
   "id": "fdcec71f",
   "metadata": {},
   "outputs": [],
   "source": [
    "sc.pl.scatter(combined, x='total_counts', y='pct_counts_mt')\n",
    "sc.pl.scatter(combined, x='total_counts', y='n_genes_by_counts')"
   ]
  },
  {
   "cell_type": "code",
   "execution_count": null,
   "id": "524fc63c",
   "metadata": {},
   "outputs": [],
   "source": [
    "combined.obs.columns"
   ]
  },
  {
   "cell_type": "code",
   "execution_count": null,
   "id": "37104d5e",
   "metadata": {},
   "outputs": [],
   "source": [
    "combined.obs['DoT']"
   ]
  },
  {
   "cell_type": "code",
   "execution_count": null,
   "id": "34b3376d",
   "metadata": {},
   "outputs": [],
   "source": [
    "combined.obs['Dates_from_Transplantation'].unique()"
   ]
  },
  {
   "cell_type": "code",
   "execution_count": null,
   "id": "ffd50ef0",
   "metadata": {},
   "outputs": [],
   "source": [
    "# Convert the 'Biopsy_Date' column to string representation\n",
    "#combined.obs['Biopsy_Date'] = combined.obs['Biopsy_Date'].dt.strftime('%Y-%m-%d')\n",
    "# Convert the 'Pathological_Grade_num' column to string representation\n",
    "combined.obs['Pathological_grade_of_GVHD_num'] = combined.obs['Pathological_grade_of_GVHD_num'].astype(str)\n",
    "# Convert the 'Grade_num' column to string representation\n",
    "combined.obs['Grade_num'] = combined.obs['Grade_num'].astype(str)\n",
    "# Convert the 'DoT' column to Unix timestamps\n",
    "#combined.obs['DoT'] = combined.obs['DoT'].astype(int)\n",
    "#combined.obs['Dates_from_Transplantation'] = combined.obs['Dates_from_Transplantation'].astype(int)"
   ]
  },
  {
   "cell_type": "code",
   "execution_count": null,
   "id": "16f53487",
   "metadata": {},
   "outputs": [],
   "source": [
    "#store the original files here\n",
    "#combined_unfiltered = combined\n",
    "#results_file = '/Users/lingtingshi/Documents/Azizi_lab/GVHD/adata_file/combined_unfiltered_newdata.h5ad'\n",
    "#combined_unfiltered.write(results_file)"
   ]
  },
  {
   "cell_type": "code",
   "execution_count": null,
   "id": "df0a269e",
   "metadata": {},
   "outputs": [],
   "source": [
    "# Filtering the cells based on gene count and mt counts\n",
    "#combined = combined[combined.obs.n_genes_by_counts < 6000, :]\n",
    "#combined = combined[combined.obs.pct_counts_mt < 20, :]\n",
    "#combined = combined[combined.obs.total_counts < 50000, :]\n",
    "#print(combined.shape)"
   ]
  },
  {
   "cell_type": "code",
   "execution_count": null,
   "id": "3aaf7700",
   "metadata": {},
   "outputs": [],
   "source": [
    "#store the raw files here\n",
    "#combined_raw = combined\n",
    "#results_file = '/Users/lingtingshi/Documents/Azizi_lab/GVHD/adata_file/combined_raw_newdata.h5ad'\n",
    "#combined_raw.write(results_file)"
   ]
  },
  {
   "cell_type": "code",
   "execution_count": null,
   "id": "a42568d5",
   "metadata": {},
   "outputs": [],
   "source": [
    "combined.obs['SampleID']"
   ]
  },
  {
   "cell_type": "code",
   "execution_count": null,
   "id": "e6148569",
   "metadata": {},
   "outputs": [],
   "source": [
    "#setting up anndata for our regular scvi model\n",
    "combined.layers['counts'] = combined.X.copy() # move count data into a layer\n",
    "sc.pp.normalize_total(combined, target_sum=1e4)\n",
    "sc.pp.log1p(combined)\n",
    "sc.pp.highly_variable_genes(combined, n_top_genes=8000, subset=False, layer=\"counts\",batch_key ='PatientID' )\n",
    "combined.raw = combined\n",
    "#scvi.model.SCVI.setup_anndata(combined, batch_key ='SampleID', layer='counts')"
   ]
  },
  {
   "cell_type": "code",
   "execution_count": null,
   "id": "dd7e8cbd",
   "metadata": {},
   "outputs": [],
   "source": [
    "Cell_type_interest = [\"Myeloid\",\"NK\",\"B Cells\",\"T cells\",\"DC\",'Macrophage','Monocyte','Endothelial','Fibroblast']\n",
    "markers_df = markers[Cell_type_interest]\n",
    "markers_df.head()\n",
    "add_genes = []\n",
    "for c in Cell_type_interest:\n",
    "    marker_genes = []\n",
    "    cc = np.array(markers_df[c].values.tolist())\n",
    "    marker_genes = np.append(marker_genes,[x for x in cc if str(x) != 'nan'])\n",
    "    real_genes = np.intersect1d(combined.var.index, marker_genes)\n",
    "    add_genes.extend(real_genes)\n",
    "    print(real_genes)"
   ]
  },
  {
   "cell_type": "code",
   "execution_count": null,
   "id": "d4d2a98d",
   "metadata": {},
   "outputs": [],
   "source": [
    "highly_var = list(combined.var[combined.var['highly_variable'] == True].index)\n",
    "\n",
    "merged_set = set(add_genes) | set(highly_var)\n",
    "\n",
    "len(merged_set)"
   ]
  },
  {
   "cell_type": "code",
   "execution_count": null,
   "id": "46f23475",
   "metadata": {},
   "outputs": [],
   "source": [
    "combined.var['highly_variable'].index"
   ]
  },
  {
   "cell_type": "code",
   "execution_count": null,
   "id": "bddbfa71",
   "metadata": {},
   "outputs": [],
   "source": [
    "# Filter the highly variable genes\n",
    "combined_high = combined[:,combined.var['highly_variable'].index.isin(merged_set)]\n",
    "combined_high"
   ]
  },
  {
   "cell_type": "code",
   "execution_count": null,
   "id": "2f2455ef",
   "metadata": {},
   "outputs": [],
   "source": [
    "sc.pp.neighbors(combined_high)\n",
    "sc.tl.umap(combined_high)"
   ]
  },
  {
   "cell_type": "code",
   "execution_count": null,
   "id": "cbe17fa4",
   "metadata": {},
   "outputs": [],
   "source": [
    "sc.pl.umap(combined_high, color= [\"CD3D\", 'CD4', 'CD8A'])"
   ]
  },
  {
   "cell_type": "code",
   "execution_count": null,
   "id": "0d3e606e",
   "metadata": {},
   "outputs": [],
   "source": [
    "combined_high.obs['log_library_size'] = np.log(combined_high.obs['total_counts'])"
   ]
  },
  {
   "cell_type": "code",
   "execution_count": null,
   "id": "a43973ed",
   "metadata": {},
   "outputs": [],
   "source": [
    "# plot all metadata out\n",
    "# REmove MT, ASLO BEFORE BATCH\n",
    "# c66 IS THE ONLY ONE HAS THE LATER TIME???\n",
    "for meta in combined_high.obs.columns:\n",
    "    randomize=np.arange(len(combined_high.obs[meta]))\n",
    "    np.random.shuffle(randomize)\n",
    "    fig, ax = plt.subplots(figsize=(8,8))\n",
    "    sns.set_style(\"whitegrid\", {'axes.grid' : False})\n",
    "    scatter=sns.scatterplot(x=combined_high.obsm[\"X_umap\"][:,0][randomize],y=combined_high.obsm[\"X_umap\"][:,1][randomize], hue=combined_high.obs[meta][randomize],s=2).set(title=meta)\n",
    "    plt.legend(bbox_to_anchor=(1.02, 1), loc='upper left', borderaxespad=0)"
   ]
  },
  {
   "cell_type": "code",
   "execution_count": null,
   "id": "171b7269",
   "metadata": {},
   "outputs": [],
   "source": [
    "combined_high.layers['counts'] = combined_high.X.copy()"
   ]
  },
  {
   "cell_type": "code",
   "execution_count": null,
   "id": "ed4ac2bc",
   "metadata": {},
   "outputs": [],
   "source": [
    "sc.tl.leiden(combined_high,resolution=0.1)#,resolution=0.1,\n",
    "combined.obs.index = combined.obs.index"
   ]
  },
  {
   "cell_type": "code",
   "execution_count": null,
   "id": "3800cb94",
   "metadata": {},
   "outputs": [],
   "source": [
    "sc.pl.umap(combined_high, color= ['leiden',\"CD3D\", 'CD4', 'CD8A'])"
   ]
  },
  {
   "cell_type": "code",
   "execution_count": null,
   "id": "cdff28f8",
   "metadata": {},
   "outputs": [],
   "source": [
    "sc.pl.umap(combined_high, color= ['leiden'])"
   ]
  },
  {
   "cell_type": "code",
   "execution_count": null,
   "id": "27e87b37",
   "metadata": {},
   "outputs": [],
   "source": [
    "combined.obs['leiden']= combined_high.obs['leiden']"
   ]
  },
  {
   "cell_type": "code",
   "execution_count": null,
   "id": "59f4e0ef",
   "metadata": {},
   "outputs": [],
   "source": [
    "#Get rid of mt high cells\n",
    "combined_high = combined_high[~combined_high.obs['leiden'].isin(['1','11','15'])]\n",
    "combined= combined[~combined.obs['leiden'].isin(['1','11','15'])]"
   ]
  },
  {
   "cell_type": "code",
   "execution_count": null,
   "id": "f7d9ee83",
   "metadata": {},
   "outputs": [],
   "source": [
    "#Ge rid of doublet\n",
    "combined = combined[combined.obs['is_doublet'] == \"False\"]\n",
    "combined_high = combined_high[combined_high.obs['is_doublet'] == \"False\"]"
   ]
  },
  {
   "cell_type": "code",
   "execution_count": null,
   "id": "c6d71655",
   "metadata": {},
   "outputs": [],
   "source": [
    "combined"
   ]
  },
  {
   "cell_type": "code",
   "execution_count": null,
   "id": "d1b5db10",
   "metadata": {},
   "outputs": [],
   "source": [
    "sc.pl.umap(combined_high, color= ['leiden',\"CD3D\", 'CD4', 'CD8A'])"
   ]
  },
  {
   "cell_type": "code",
   "execution_count": null,
   "id": "80e16d34",
   "metadata": {},
   "outputs": [],
   "source": [
    "sc.pp.neighbors(combined_high)\n",
    "sc.tl.umap(combined_high)"
   ]
  },
  {
   "cell_type": "code",
   "execution_count": null,
   "id": "c95ab16c",
   "metadata": {},
   "outputs": [],
   "source": [
    "sc.pl.umap(combined_high, color= ['leiden',\"CD3D\", 'CD4', 'CD8A'])"
   ]
  },
  {
   "cell_type": "code",
   "execution_count": null,
   "id": "17a3c290",
   "metadata": {},
   "outputs": [],
   "source": [
    "#!pip install scvi-tools -U"
   ]
  },
  {
   "cell_type": "code",
   "execution_count": null,
   "id": "7a44a343",
   "metadata": {},
   "outputs": [],
   "source": [
    "combined_high"
   ]
  },
  {
   "cell_type": "code",
   "execution_count": null,
   "id": "aedb8a02",
   "metadata": {},
   "outputs": [],
   "source": [
    "scvi.model.SCVI.setup_anndata(combined_high, batch_key ='PatientID', layer='counts')"
   ]
  },
  {
   "cell_type": "code",
   "execution_count": null,
   "id": "b477cd49",
   "metadata": {},
   "outputs": [],
   "source": [
    "vae = scvi.model.SCVI(combined_high,n_latent=30,gene_likelihood='nb')"
   ]
  },
  {
   "cell_type": "code",
   "execution_count": null,
   "id": "a9b7cd2d",
   "metadata": {},
   "outputs": [],
   "source": [
    "from pytorch_lightning import Trainer\n"
   ]
  },
  {
   "cell_type": "code",
   "execution_count": null,
   "id": "246eade0",
   "metadata": {},
   "outputs": [],
   "source": [
    "#torch.backends.mps.is_available()\n",
    "#torch.backends.mps.is_built()"
   ]
  },
  {
   "cell_type": "code",
   "execution_count": null,
   "id": "c3d7071f",
   "metadata": {},
   "outputs": [],
   "source": [
    "trainer = Trainer(accelerator=\"gpu\", devices = 1)"
   ]
  },
  {
   "cell_type": "code",
   "execution_count": null,
   "id": "e1407222",
   "metadata": {},
   "outputs": [],
   "source": [
    "vae.train()"
   ]
  },
  {
   "cell_type": "code",
   "execution_count": null,
   "id": "3386a758",
   "metadata": {},
   "outputs": [],
   "source": [
    "#vae.save(\"/Users/lingtingshi/Documents/Azizi_lab/GVHD/modeldefault_alldata_high.pt\")"
   ]
  },
  {
   "cell_type": "code",
   "execution_count": null,
   "id": "cb39fca7",
   "metadata": {},
   "outputs": [],
   "source": [
    "#vae = scvi.model.SCVI.load(\"/Users/lingtingshi/Documents/Azizi_lab/GVHD/modeldefault_alldata_high.pt\", adata=combined_high)"
   ]
  },
  {
   "cell_type": "code",
   "execution_count": null,
   "id": "10a68ab0",
   "metadata": {},
   "outputs": [],
   "source": [
    "#model.get_latent_representation()"
   ]
  },
  {
   "cell_type": "code",
   "execution_count": null,
   "id": "a6bc7b09",
   "metadata": {},
   "outputs": [],
   "source": [
    "combined_high.obsm[\"X_scVI\"] = vae.get_latent_representation()\n",
    "#combined.obsm[\"X_norm_scVI\"] = vae.get_normalized_expression()\n",
    "combined_high.layers[\"scvi_normalized\"] = vae.get_normalized_expression(\n",
    "    library_size=10e4) \n",
    "combined_high.obsm[\"scvi\"] =combined_high.layers['scvi_normalized']"
   ]
  },
  {
   "cell_type": "code",
   "execution_count": null,
   "id": "2748a933",
   "metadata": {},
   "outputs": [],
   "source": [
    "#combined = sc.read_h5ad('/Users/lingtingshi/Documents/Azizi_lab/GVHD/combined_batch_corrected.h5ad')"
   ]
  },
  {
   "cell_type": "code",
   "execution_count": null,
   "id": "84f3c81d",
   "metadata": {},
   "outputs": [],
   "source": [
    "# Normalize and log transform the data\n",
    "#sc.pp.normalize_total(combined, target_sum=1e4)\n",
    "#sc.pp.log1p(combined)\n",
    "#sc.pp.highly_variable_genes(combined, flavor=\"cell_ranger\", n_top_genes=5000)\n",
    "#combined.raw = combined"
   ]
  },
  {
   "cell_type": "code",
   "execution_count": null,
   "id": "545d240d",
   "metadata": {},
   "outputs": [],
   "source": [
    "#Regress out the total counts and mitochondrial count\n",
    "#sc.pp.regress_out(combined, ['total_counts', 'pct_counts_mt'])"
   ]
  },
  {
   "cell_type": "code",
   "execution_count": null,
   "id": "e1bb1b41",
   "metadata": {},
   "outputs": [],
   "source": [
    "#sc.pp.scale(combined, max_value=10)\n",
    "#sc.tl.pca(combined, svd_solver='arpack')\n",
    "\n",
    "#sc.pl.pca(combined, color='CD4')"
   ]
  },
  {
   "cell_type": "code",
   "execution_count": null,
   "id": "2e266967",
   "metadata": {},
   "outputs": [],
   "source": [
    "#sc.pl.pca_variance_ratio(combined, log=True,n_pcs =50)"
   ]
  },
  {
   "cell_type": "code",
   "execution_count": null,
   "id": "f9e2cd15",
   "metadata": {},
   "outputs": [],
   "source": [
    "combined.obsm['X_scVI'] = combined_high.obsm[\"X_scVI\"]"
   ]
  },
  {
   "cell_type": "code",
   "execution_count": null,
   "id": "5db753d6",
   "metadata": {},
   "outputs": [],
   "source": [
    "combined.obsm['scvi'] = combined_high.obsm[\"scvi\"]"
   ]
  },
  {
   "cell_type": "markdown",
   "id": "d635a014",
   "metadata": {},
   "source": [
    "# Umap visualization"
   ]
  },
  {
   "cell_type": "code",
   "execution_count": null,
   "id": "e243fc56",
   "metadata": {},
   "outputs": [],
   "source": [
    "sc.pp.neighbors(combined,use_rep=\"X_scVI\")\n",
    "sc.tl.umap(combined)\n",
    "\n",
    "#!pip3 install leidenalg\n",
    "\n",
    "# Use low resolution to find the major cell type\n",
    "sc.tl.leiden(combined,resolution=0.15)#,resolution=0.1,\n",
    "combined.obs.index = combined.obs.index\n",
    "#combined.obs.index = combined.obs.index+'_combined'"
   ]
  },
  {
   "cell_type": "code",
   "execution_count": null,
   "id": "9e33d3f2",
   "metadata": {},
   "outputs": [],
   "source": [
    "sc.tl.leiden(combined,resolution=0.15)#,resolution=0.1,\n",
    "combined.obs.index = combined.obs.index"
   ]
  },
  {
   "cell_type": "code",
   "execution_count": null,
   "id": "3ebcf703",
   "metadata": {},
   "outputs": [],
   "source": [
    "del combined.obs['Biopsy_Date']"
   ]
  },
  {
   "cell_type": "code",
   "execution_count": null,
   "id": "5ff35f11",
   "metadata": {},
   "outputs": [],
   "source": [
    "del combined.obs['DoT']"
   ]
  },
  {
   "cell_type": "code",
   "execution_count": null,
   "id": "2107bd65",
   "metadata": {},
   "outputs": [],
   "source": [
    "results_file = '/burg/iicd/users/ls3456/GVHD/adata_file/combined_batch_corrected_all.h5ad'\n",
    "combined.write(results_file)"
   ]
  }
 ],
 "metadata": {
  "kernelspec": {
   "display_name": "Python 3 (ipykernel)",
   "language": "python",
   "name": "python3"
  },
  "language_info": {
   "codemirror_mode": {
    "name": "ipython",
    "version": 3
   },
   "file_extension": ".py",
   "mimetype": "text/x-python",
   "name": "python",
   "nbconvert_exporter": "python",
   "pygments_lexer": "ipython3",
   "version": "3.11.8"
  },
  "vscode": {
   "interpreter": {
    "hash": "15a17b4873019ca273a3ebd27410a531cffac751f84497b09afeba222ba2b43d"
   }
  }
 },
 "nbformat": 4,
 "nbformat_minor": 5
}
