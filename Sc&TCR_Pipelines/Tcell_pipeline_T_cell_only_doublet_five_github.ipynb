{
 "cells": [
  {
   "cell_type": "code",
   "execution_count": null,
   "metadata": {
    "pycharm": {
     "name": "#%%\n"
    }
   },
   "outputs": [],
   "source": [
    "from glob import glob\n",
    "import numpy as np\n",
    "import pandas as pd\n",
    "import scanpy as sc\n",
    "import anndata as ad\n",
    "import anndata\n",
    "import pickle\n",
    "import matplotlib\n",
    "import matplotlib.pyplot as plt\n",
    "from tqdm import tqdm\n",
    "import gc\n",
    "import tarfile\n",
    "import community\n",
    "#from community import community_louvain\n",
    "#import community.community_louvain as community_louvain\n",
    "import networkx as nx\n",
    "from sklearn.neighbors import kneighbors_graph\n",
    "from scipy import stats\n",
    "import seaborn as sns\n",
    "import collections\n",
    "import scirpy as ir\n",
    "import random\n",
    "random.seed(10)\n",
    "#https://icbi-lab.github.io/scirpy/latest/tutorials/tutorial_3k_tcr.html\n",
    "# https://icbi-lab.github.io/scirpy-paper/wu2020.html"
   ]
  },
  {
   "cell_type": "code",
   "execution_count": null,
   "metadata": {},
   "outputs": [],
   "source": [
    "#pip install python-igraph==0.9.11"
   ]
  },
  {
   "cell_type": "code",
   "execution_count": null,
   "metadata": {},
   "outputs": [],
   "source": [
    "#!pip install numexpr==2.7.3"
   ]
  },
  {
   "cell_type": "code",
   "execution_count": null,
   "metadata": {},
   "outputs": [],
   "source": [
    "#!pip list"
   ]
  },
  {
   "cell_type": "code",
   "execution_count": null,
   "metadata": {},
   "outputs": [],
   "source": [
    "#!pip install scirpy"
   ]
  },
  {
   "cell_type": "code",
   "execution_count": null,
   "metadata": {},
   "outputs": [],
   "source": [
    "#!pip install community\n",
    "\n",
    "#!pip install community\n",
    "\n",
    "#!pip install scanpy\n",
    "\n",
    "#!pip install NumPy==1.22.3\n",
    "\n",
    "#!pip install daal==2021.4.0\n",
    "\n",
    "#!pip install Numba\n",
    "\n",
    "#!pip list\n",
    "#!pip install openpyxl==3.0.7"
   ]
  },
  {
   "cell_type": "code",
   "execution_count": null,
   "metadata": {},
   "outputs": [],
   "source": [
    "gc.collect()"
   ]
  },
  {
   "cell_type": "code",
   "execution_count": null,
   "metadata": {},
   "outputs": [],
   "source": [
    "meta_df = pd.read_excel('/burg/iicd/users/ls3456/GVHD/scRNAseq_TCR_samples_meta_LS-13_f.xlsx')\n",
    "meta_df.index = meta_df['Sample ID']"
   ]
  },
  {
   "cell_type": "code",
   "execution_count": null,
   "metadata": {
    "collapsed": false,
    "jupyter": {
     "outputs_hidden": false
    },
    "pycharm": {
     "name": "#%%\n"
    }
   },
   "outputs": [],
   "source": [
    "filtered_combined = anndata.read_h5ad('/burg/iicd/users/ls3456/GVHD/adata_file/filtered_combined_all_PatientID_f.h5ad')\n",
    "\n",
    "filtered_combined.obs_names_make_unique()\n",
    "\n",
    "#filtered_combined.uns['log1p'][\"base\"] = None\n",
    "#sc.tl.rank_genes_groups(filtered_combined, groupby=\"leiden\", method='wilcoxon', key_added = \"wilcoxon\", use_raw=False)\n",
    "#sc.pl.rank_genes_groups(filtered_combined, n_genes=25, sharey=False, key=\"wilcoxon\")\n",
    "\n",
    "filtered_combined"
   ]
  },
  {
   "cell_type": "code",
   "execution_count": null,
   "metadata": {
    "pycharm": {
     "name": "#%%\n"
    }
   },
   "outputs": [],
   "source": [
    "sc.pl.umap(filtered_combined,color=\"leiden_0.15\")"
   ]
  },
  {
   "cell_type": "code",
   "execution_count": null,
   "metadata": {},
   "outputs": [],
   "source": [
    "filtered_combined"
   ]
  },
  {
   "cell_type": "code",
   "execution_count": null,
   "metadata": {
    "pycharm": {
     "name": "#%%\n"
    }
   },
   "outputs": [],
   "source": [
    "tcell_ann = filtered_combined[filtered_combined.obs[\"leiden_0.15\"].isin([\"T_cells\"])]\n",
    "\n",
    "#tcell_ann = tcell_ann[tcell_ann.obs[\"LPorIE\"]==\"Lamina Propria Cells\"]\n",
    "\n",
    "tcell_ann"
   ]
  },
  {
   "cell_type": "code",
   "execution_count": null,
   "metadata": {},
   "outputs": [],
   "source": [
    "sc.pl.umap(tcell_ann, color= ['leiden_0.15'])"
   ]
  },
  {
   "cell_type": "code",
   "execution_count": null,
   "metadata": {},
   "outputs": [],
   "source": [
    "#sc.pl.umap(tcell_ann, color=['CD3D','CD3E',\"NCAM1\",\"KIR2DL4\",\"GNLY\",\"NCR1\",\"NKG7\",\"PTPRC\",'CD4','CD8A','FOXP3'])"
   ]
  },
  {
   "cell_type": "code",
   "execution_count": null,
   "metadata": {},
   "outputs": [],
   "source": [
    "gc.collect()"
   ]
  },
  {
   "cell_type": "code",
   "execution_count": null,
   "metadata": {},
   "outputs": [],
   "source": [
    "new_hub_colormap = [\n",
    "    'darkslateblue', #0\n",
    "    'cornflowerblue', #1\n",
    "    'teal',#2\n",
    "    'red',#3\n",
    "    'blueviolet',#4\n",
    "    'skyblue',#5\n",
    "    'orchid',#6\n",
    "    'yellowgreen',#7\n",
    "    'palevioletred',#8\n",
    "    'orange',#9\n",
    "    'cadetblue',#10\n",
    "    'limegreen',#11\n",
    "    'cyan',#12\n",
    "    'gold',#13\n",
    "    'slategray',#14\n",
    "    'olive',#15\n",
    "    'blue',#16\n",
    "    'linen',#17\n",
    "    'mistyrose',#18\n",
    "    'peru',#19\n",
    "    'darkturquoise',#20\n",
    "]"
   ]
  },
  {
   "cell_type": "code",
   "execution_count": null,
   "metadata": {},
   "outputs": [],
   "source": [
    "#for meta in tcell_ann.obs.columns:\n",
    "    #randomize=np.arange(len(tcell_ann.obs[meta]))\n",
    "    #np.random.shuffle(randomize)\n",
    "    #fig, ax = plt.subplots(figsize=(8,8))\n",
    "    #sns.set_style(\"whitegrid\", {'axes.grid' : False})\n",
    "    #colors = []\n",
    "    #for _ in range(len(tcell_ann.obs[meta].unique())):\n",
    "        #color = generate_random_color()\n",
    "        #colors.append(color)\n",
    "    #scatter=sns.scatterplot(x=tcell_ann.obsm[\"X_umap\"][:,0][randomize],y=tcell_ann.obsm[\"X_umap\"][:,1][randomize], hue=tcell_ann.obs[meta][randomize],s=2, palette= colors).set(title=meta)\n",
    "    #plt.legend(bbox_to_anchor=(1.02, 1), loc='upper left', borderaxespad=0)"
   ]
  },
  {
   "cell_type": "code",
   "execution_count": null,
   "metadata": {},
   "outputs": [],
   "source": [
    "for meta in tcell_ann.obs.columns:\n",
    "    randomize=np.arange(len(tcell_ann.obs[meta]))\n",
    "    np.random.shuffle(randomize)\n",
    "    fig, ax = plt.subplots(figsize=(8,8))\n",
    "    sns.set_style(\"whitegrid\", {'axes.grid' : False})\n",
    "    scatter=sns.scatterplot(x=tcell_ann.obsm[\"X_umap\"][:,0][randomize],y=tcell_ann.obsm[\"X_umap\"][:,1][randomize], hue=tcell_ann.obs[meta][randomize],s=2).set(title=meta)\n",
    "    plt.legend(bbox_to_anchor=(1.02, 1), loc='upper left', borderaxespad=0)"
   ]
  },
  {
   "cell_type": "code",
   "execution_count": null,
   "metadata": {
    "pycharm": {
     "name": "#%%\n"
    }
   },
   "outputs": [],
   "source": [
    "sc.pp.neighbors(tcell_ann, n_neighbors=30, use_rep=\"X_scVI\", n_pcs= 25)\n",
    "sc.tl.umap(tcell_ann)"
   ]
  },
  {
   "cell_type": "code",
   "execution_count": null,
   "metadata": {},
   "outputs": [],
   "source": [
    "tcell_ann.obsm['X_scVI'].shape"
   ]
  },
  {
   "cell_type": "code",
   "execution_count": null,
   "metadata": {},
   "outputs": [],
   "source": [
    "sc.pl.umap(tcell_ann, color=['CD3D','CD3E','CD3G',\"NCAM1\",\"KIR2DL4\",\"GNLY\",\"NCR1\",\"NKG7\",\"PTPRC\",'CD4','CD8A','FOXP3'])"
   ]
  },
  {
   "cell_type": "code",
   "execution_count": null,
   "metadata": {},
   "outputs": [],
   "source": [
    "for meta in tcell_ann.obs.columns:\n",
    "    randomize=np.arange(len(tcell_ann.obs[meta]))\n",
    "    np.random.shuffle(randomize)\n",
    "    fig, ax = plt.subplots(figsize=(8,8))\n",
    "    sns.set_style(\"whitegrid\", {'axes.grid' : False})\n",
    "    scatter=sns.scatterplot(x=tcell_ann.obsm[\"X_umap\"][:,0][randomize],y=tcell_ann.obsm[\"X_umap\"][:,1][randomize], hue=tcell_ann.obs[meta][randomize],s=2).set(title=meta)\n",
    "    plt.legend(bbox_to_anchor=(1.02, 1), loc='upper left', borderaxespad=0)"
   ]
  },
  {
   "cell_type": "code",
   "execution_count": null,
   "metadata": {},
   "outputs": [],
   "source": [
    "sc.pl.umap(tcell_ann, color=['leiden_0.15'])"
   ]
  },
  {
   "cell_type": "code",
   "execution_count": null,
   "metadata": {},
   "outputs": [],
   "source": [
    "tcell_ann.uns['log1p'][\"base\"] = None"
   ]
  },
  {
   "cell_type": "code",
   "execution_count": null,
   "metadata": {},
   "outputs": [],
   "source": [
    "tcell_ann"
   ]
  },
  {
   "cell_type": "code",
   "execution_count": null,
   "metadata": {},
   "outputs": [],
   "source": [
    "sc.set_figure_params(dpi=200)\n",
    "#sc.pl.umap(tcell_ann_concat,color = 'leiden')\n",
    "sc.pl.umap(tcell_ann,color = 'leiden',legend_loc = 'on data',legend_fontsize = 'xx-small')"
   ]
  },
  {
   "cell_type": "code",
   "execution_count": null,
   "metadata": {},
   "outputs": [],
   "source": [
    "sc.tl.leiden(tcell_ann,resolution=0.3, key_added= \"leiden\")#,resolution=0.1,\n",
    "\n",
    "sc.pl.umap(tcell_ann,color = 'leiden',legend_loc = 'on data',legend_fontsize = 'xx-small')"
   ]
  },
  {
   "cell_type": "markdown",
   "metadata": {},
   "source": [
    "# Doublet detection again"
   ]
  },
  {
   "cell_type": "code",
   "execution_count": null,
   "metadata": {},
   "outputs": [],
   "source": [
    "import numpy as np\n",
    "import pandas as pd\n",
    "#from matplotlib_venn import venn2\n",
    "\n",
    "import scanpy as sc\n",
    "\n",
    "from tqdm import tqdm\n",
    "from glob import glob\n",
    "import anndata as ad\n",
    "import pickle\n",
    "import matplotlib.pyplot as plt\n",
    "from tqdm import tqdm\n",
    "import gc\n",
    "import tarfile\n",
    "#import community.community_louvain as community_louvain\n",
    "import networkx as nx\n",
    "from sklearn.neighbors import kneighbors_graph\n",
    "from scipy import stats\n",
    "import seaborn as sns\n",
    "import collections\n",
    "#import scirpy as ir\n",
    "import random\n",
    "from scipy.stats import gaussian_kde"
   ]
  },
  {
   "cell_type": "code",
   "execution_count": null,
   "metadata": {},
   "outputs": [],
   "source": [
    "leidenlst  = [i for i in range(7)]"
   ]
  },
  {
   "cell_type": "code",
   "execution_count": null,
   "metadata": {},
   "outputs": [],
   "source": [
    "def view_doublets_bycluster(Tcell_markers,BCell_markers,namex,namey,tcell_ann_concat):\n",
    "    num_cols = 4\n",
    "    fig, ax = plt.subplots(7, 4, figsize=(20,25), gridspec_kw={'wspace':0.1},layout = 'constrained')\n",
    "\n",
    "    for i, leiden in enumerate(leidenlst):\n",
    "        row = i // num_cols\n",
    "        col = i % num_cols\n",
    "        subTcell = tcell_ann_concat[tcell_ann_concat.obs.leiden == str(leiden)]\n",
    "        x = subTcell[:,'CD3D'].X.toarray()\n",
    "\n",
    "        x_all =  np.zeros([np.shape(x)[0],len(Tcell_markers)])\n",
    "        for j in np.arange(len(Tcell_markers)):\n",
    "            x_all[:,j] = subTcell[:,Tcell_markers[j]].X.toarray()[:,0]\n",
    "        x = np.mean(x_all,axis =1)\n",
    "\n",
    "\n",
    "        y_all = np.zeros([np.shape(x)[0],len(BCell_markers)])\n",
    "        for j in np.arange(len(BCell_markers)):\n",
    "            y_all[:,j] = subTcell[:,BCell_markers[j]].X.toarray()[:,0]\n",
    "\n",
    "        y = np.mean(y_all,axis=1)\n",
    "        xy = np.vstack([x.T,y.T])\n",
    "        try:\n",
    "            z = gaussian_kde(xy)(xy)\n",
    "            #ax = ax[row][col]\n",
    "            im=ax[row][col].scatter(x,y, c=z, s=10)\n",
    "            ax[row][col].set_xlabel(namex)\n",
    "            ax[row][col].set_ylabel(namey)\n",
    "            ax[row][col].set_title(leiden)\n",
    "\n",
    "            plt.colorbar(im)\n",
    "        except:\n",
    "            pass\n",
    "\n",
    "    return\n",
    "\n",
    "def doublet_lst(Tcell_markers,BCell_markers,namex,namey,tcell_ann_concat):\n",
    "    x = tcell_ann_concat[:,'CD3D'].X.toarray()\n",
    "    x_all = np.zeros([np.shape(x)[0],len(Tcell_markers)])\n",
    "    y_all = np.zeros([np.shape(x)[0],len(BCell_markers)])\n",
    "    for j in np.arange(len(BCell_markers)):\n",
    "        y_all[:,j] = tcell_ann_concat[:,BCell_markers[j]].X.toarray()[:,0]\n",
    "    for j in np.arange(len(Tcell_markers)):\n",
    "        x_all[:,j] =tcell_ann_concat[:,Tcell_markers[j]].X.toarray()[:,0]\n",
    "    x = np.mean(x_all,axis =1)\n",
    "    y = np.mean(y_all,axis=1)\n",
    "    xy = np.vstack([x.T,y.T])\n",
    "\n",
    "    z = gaussian_kde(xy)(xy)\n",
    "    fig, ax = plt.subplots()\n",
    "    im=ax.scatter(x,y, c=z, s=10)\n",
    "    #ax.scatter(x,y, c=z, s=10)\n",
    "    ax.set_xlabel(namex)\n",
    "    ax.set_ylabel(namey)\n",
    "    plt.colorbar(im)\n",
    "    B_doublet_idx = y>0\n",
    "    print(sum(B_doublet_idx))\n",
    "    return B_doublet_idx"
   ]
  },
  {
   "cell_type": "code",
   "execution_count": null,
   "metadata": {},
   "outputs": [],
   "source": [
    "# Bcell & Tcell doublets_ls_GOOD\n",
    "# Studies have found 'CD79A' on T cells\n",
    "Tcell_markers = ['CD3E','CD3D','TRAC','TRBC1','TRBC2','TRDC']\n",
    "BCell_markers = ['CD19','MS4A1']\n",
    "namex = 'T cell'\n",
    "namey = 'B cell'\n",
    "view_doublets_bycluster(Tcell_markers,BCell_markers,namex,namey,tcell_ann)\n",
    "B_doublet_idx = doublet_lst(Tcell_markers,BCell_markers,namex,namey,tcell_ann)"
   ]
  },
  {
   "cell_type": "code",
   "execution_count": null,
   "metadata": {},
   "outputs": [],
   "source": [
    "# Myeloid & Tcell doublets_ls_GOOD\n",
    "Tcell_markers = ['CD3E','CD3D','TRAC','TRBC1','TRBC2','TRDC']\n",
    "Myeloid = ['CD68','APOE','CD163','CD1C','CD33','CSF1R','MERTK']\n",
    "namex = 'T cell'\n",
    "namey = 'Myeloid'\n",
    "view_doublets_bycluster(Tcell_markers,Myeloid,namex,namey,tcell_ann)\n",
    "Myeloid_doublet_idx = doublet_lst(Tcell_markers,Myeloid,namex,namey,tcell_ann)"
   ]
  },
  {
   "cell_type": "code",
   "execution_count": null,
   "metadata": {},
   "outputs": [],
   "source": [
    "# macrophage & T_ls_good\n",
    "Tcell_markers = ['CD3E','CD3D','TRAC','TRBC1','TRBC2','TRDC']\n",
    "Macrophage = ['CD68','MRC1','MSR1','NRP1']#,'CD86'\n",
    "namex = 'T cell'\n",
    "namey = 'Macrophage'\n",
    "view_doublets_bycluster(Tcell_markers,Macrophage,namex,namey,tcell_ann)\n",
    "macrophage_doublet_idx = doublet_lst(Tcell_markers,Macrophage,namex,namey,tcell_ann)"
   ]
  },
  {
   "cell_type": "code",
   "execution_count": null,
   "metadata": {},
   "outputs": [],
   "source": [
    "#nomocyte & t_ls_good\n",
    "Tcell_markers = ['CD3E','CD3D','TRAC','TRBC1','TRBC2','TRDC']\n",
    "Monocyte = ['CD33','LYZ','FCN1','CSF3R']\n",
    "namex = 'T cell'\n",
    "namey = 'Monocyte'\n",
    "view_doublets_bycluster(Tcell_markers,Monocyte,namex,namey,tcell_ann)\n",
    "Monocyte_doublet_idx = doublet_lst(Tcell_markers,Monocyte,namex,namey,tcell_ann)"
   ]
  },
  {
   "cell_type": "code",
   "execution_count": null,
   "metadata": {},
   "outputs": [],
   "source": [
    "# epithelial cell doublets_ls_good\n",
    "Tcell_markers = ['CD3E','CD3D','TRAC','TRBC1','TRBC2','TRDC']\n",
    "epithelial_markers = [ 'VIL1' , 'CLDN3'  ,'OLFM4' ,'LGR5' ]\n",
    "namex = 'T cell'\n",
    "namey = 'epithelial cell'\n",
    "view_doublets_bycluster(Tcell_markers,epithelial_markers,namex,namey,tcell_ann)\n",
    "epithelial_doublet_idx = doublet_lst(Tcell_markers,epithelial_markers,namex,namey,tcell_ann)"
   ]
  },
  {
   "cell_type": "code",
   "execution_count": null,
   "metadata": {},
   "outputs": [],
   "source": [
    "# Plasma cells_ MZB1 'MZB1'\n",
    "Tcell_markers = ['CD3E','CD3D','TRAC','TRBC1','TRBC2','TRDC']\n",
    "plasma_markers2 = ['TNFRSF17', 'SDC1']\n",
    "namex = 'T cell'\n",
    "namey = 'plasma cell'\n",
    "view_doublets_bycluster(Tcell_markers,plasma_markers2,namex,namey,tcell_ann)\n",
    "plasma_doublet2_idx = doublet_lst(Tcell_markers,plasma_markers2,namex,namey,tcell_ann)"
   ]
  },
  {
   "cell_type": "code",
   "execution_count": null,
   "metadata": {},
   "outputs": [],
   "source": [
    "# 'ACTA2'\n",
    "Fibroblast_markers = ['ACTA2']\n",
    "Tcell_markers = ['CD3E','CD3D','TRAC','TRBC1','TRBC2','TRDC']\n",
    "namex = 'T cell'\n",
    "namey = 'Fibroblast cell'\n",
    "view_doublets_bycluster(Tcell_markers,Fibroblast_markers,namex,namey,tcell_ann)\n",
    "Fibroblast_doublet_idx = doublet_lst(Tcell_markers,Fibroblast_markers,namex,namey,tcell_ann)"
   ]
  },
  {
   "cell_type": "code",
   "execution_count": null,
   "metadata": {},
   "outputs": [],
   "source": [
    "tcell_ann.obs['B_doublet'] = B_doublet_idx\n",
    "tcell_ann.obs['B_doublet'] = tcell_ann.obs['B_doublet'].astype(str)\n",
    "\n",
    "tcell_ann.obs['Myeloid_doublet'] = Myeloid_doublet_idx\n",
    "tcell_ann.obs['Myeloid_doublet'] = tcell_ann.obs['Myeloid_doublet'].astype(str)\n",
    "\n",
    "\n",
    "tcell_ann.obs['Macrophage_doublet'] = macrophage_doublet_idx\n",
    "tcell_ann.obs['Macrophage_doublet'] = tcell_ann.obs['Macrophage_doublet'].astype(str)\n",
    "\n",
    "tcell_ann.obs['Monocyte_doublet'] = Monocyte_doublet_idx\n",
    "tcell_ann.obs['Monocyte_doublet'] = tcell_ann.obs['Monocyte_doublet'].astype(str)\n",
    "\n",
    "tcell_ann.obs['Epithelial_doublet'] = epithelial_doublet_idx\n",
    "tcell_ann.obs['Epithelial_doublet'] = tcell_ann.obs['Epithelial_doublet'].astype(str)\n",
    "\n",
    "tcell_ann.obs['Fibroblast_doublet'] = Fibroblast_doublet_idx\n",
    "tcell_ann.obs['Fibroblast_doublet'] = tcell_ann.obs['Fibroblast_doublet'].astype(str)\n",
    "\n",
    "# tcell_ann_concat.obs['plasma_doublet'] = plasma_doublet_idx\n",
    "# tcell_ann_concat.obs['plasma_doublet'] = tcell_ann_concat.obs['plasma_doublet'].astype(str)\n",
    "\n",
    "\n",
    "tcell_ann.obs['plasma_doublet2'] = plasma_doublet2_idx\n",
    "tcell_ann.obs['plasma_doublet2'] = tcell_ann.obs['plasma_doublet2'].astype(str)"
   ]
  },
  {
   "cell_type": "code",
   "execution_count": null,
   "metadata": {},
   "outputs": [],
   "source": [
    "def plot_doublet(tcell_ann,colorlabel):\n",
    "# sc.pl.umap(tcell_ann_concat,color = 'B_doublet',\n",
    "    #            palette={'False':'grey','True':'tab:red'})\n",
    "    ax=sc.pl.umap(tcell_ann,color = colorlabel,groups=['True'],show=False)\n",
    "\n",
    "    # We can change the 'NA' in the legend that represents all cells outside of the\n",
    "    # specified groups\n",
    "    legend_texts=ax.get_legend().get_texts()\n",
    "    # Find legend object whose text is \"NA\" and change it\n",
    "    for legend_text in legend_texts:\n",
    "        if legend_text.get_text()==\"NA\":\n",
    "            legend_text.set_text('False')"
   ]
  },
  {
   "cell_type": "code",
   "execution_count": null,
   "metadata": {},
   "outputs": [],
   "source": [
    "plot_doublet(tcell_ann,'B_doublet')\n",
    "plot_doublet(tcell_ann,'Myeloid_doublet')\n",
    "plot_doublet(tcell_ann,'Macrophage_doublet')\n",
    "plot_doublet(tcell_ann,'Monocyte_doublet')\n",
    "plot_doublet(tcell_ann,'Epithelial_doublet')\n",
    "plot_doublet(tcell_ann,'Fibroblast_doublet')\n",
    "plot_doublet(tcell_ann,'plasma_doublet2')"
   ]
  },
  {
   "cell_type": "code",
   "execution_count": null,
   "metadata": {},
   "outputs": [],
   "source": [
    "B_doublet_idx\n",
    "Myeloid_doublet_idx\n",
    "macrophage_doublet_idx\n",
    "Monocyte_doublet_idx\n",
    "epithelial_doublet_idx\n",
    "#endothelial_doublet_idx\n",
    "Fibroblast_doublet_idx \n",
    "plasma_doublet2_idx\n",
    "result = [any([B_doublet_idx[i], Myeloid_doublet_idx[i], \n",
    "               macrophage_doublet_idx[i],Monocyte_doublet_idx[i],\n",
    "                epithelial_doublet_idx[i],Fibroblast_doublet_idx[i],plasma_doublet2_idx[i]]) for i in range(len(B_doublet_idx))]"
   ]
  },
  {
   "cell_type": "code",
   "execution_count": null,
   "metadata": {},
   "outputs": [],
   "source": [
    "tcell_ann.obs['if_doublet'] = result"
   ]
  },
  {
   "cell_type": "code",
   "execution_count": null,
   "metadata": {},
   "outputs": [],
   "source": [
    "tcell_ann.obs['if_doublet'] = tcell_ann.obs['if_doublet'].astype(str)"
   ]
  },
  {
   "cell_type": "code",
   "execution_count": null,
   "metadata": {},
   "outputs": [],
   "source": [
    "ax=sc.pl.umap(tcell_ann,color = 'if_doublet',groups=['True'],show=False)\n",
    "\n",
    "# We can change the 'NA' in the legend that represents all cells outside of the\n",
    "# specified groups\n",
    "legend_texts=ax.get_legend().get_texts()\n",
    "# Find legend object whose text is \"NA\" and change it\n",
    "for legend_text in legend_texts:\n",
    "    if legend_text.get_text()==\"NA\":\n",
    "        legend_text.set_text('False')"
   ]
  },
  {
   "cell_type": "code",
   "execution_count": null,
   "metadata": {},
   "outputs": [],
   "source": [
    "tcell_ann.obs['if_doublet']"
   ]
  },
  {
   "cell_type": "code",
   "execution_count": null,
   "metadata": {},
   "outputs": [],
   "source": [
    "tcell_ann"
   ]
  },
  {
   "cell_type": "code",
   "execution_count": null,
   "metadata": {},
   "outputs": [],
   "source": [
    "tcell_ann_sc = tcell_ann[tcell_ann.obs['if_doublet']== 'False']"
   ]
  },
  {
   "cell_type": "code",
   "execution_count": null,
   "metadata": {},
   "outputs": [],
   "source": [
    "tcell_ann_sc"
   ]
  },
  {
   "cell_type": "code",
   "execution_count": null,
   "metadata": {},
   "outputs": [],
   "source": [
    "tcell_ann_sc_loc = '/burg/iicd/users/ls3456/GVHD/adata_file/tcell_ann_sc.h5ad'\n",
    "tcell_ann_sc.write(tcell_ann_sc_loc)"
   ]
  },
  {
   "cell_type": "code",
   "execution_count": null,
   "metadata": {},
   "outputs": [],
   "source": [
    "tcell_ann_loc = '/burg/iicd/users/ls3456/GVHD/adata_file/tcell_ann.h5ad'\n",
    "tcell_ann.write(tcell_ann_loc)"
   ]
  }
 ],
 "metadata": {
  "kernelspec": {
   "display_name": "Python 3 (ipykernel)",
   "language": "python",
   "name": "python3"
  },
  "language_info": {
   "codemirror_mode": {
    "name": "ipython",
    "version": 3
   },
   "file_extension": ".py",
   "mimetype": "text/x-python",
   "name": "python",
   "nbconvert_exporter": "python",
   "pygments_lexer": "ipython3",
   "version": "3.11.8"
  },
  "vscode": {
   "interpreter": {
    "hash": "15a17b4873019ca273a3ebd27410a531cffac751f84497b09afeba222ba2b43d"
   }
  }
 },
 "nbformat": 4,
 "nbformat_minor": 4
}
