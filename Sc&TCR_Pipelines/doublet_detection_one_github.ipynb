{
 "cells": [
  {
   "cell_type": "markdown",
   "id": "c0cf0d85",
   "metadata": {},
   "source": [
    "# GVHD project integrated analysis -- doublet identification"
   ]
  },
  {
   "cell_type": "markdown",
   "id": "f0ed7366",
   "metadata": {},
   "source": [
    "<strong> Azizi lab <strong>\n",
    "\n",
    "Xumin Shen\n",
    "\n",
    "05-23-2023"
   ]
  },
  {
   "cell_type": "code",
   "execution_count": null,
   "id": "5529bea2",
   "metadata": {},
   "outputs": [],
   "source": [
    "# load modules\n",
    "import numpy as np\n",
    "import pandas as pd\n",
    "import scrublet as scr\n",
    "import scanpy as sc\n",
    "import anndata as ad\n",
    "import matplotlib.pyplot as plt"
   ]
  },
  {
   "cell_type": "code",
   "execution_count": null,
   "id": "52ecd2c8",
   "metadata": {},
   "outputs": [],
   "source": [
    "#!pip install scrublet"
   ]
  },
  {
   "cell_type": "code",
   "execution_count": null,
   "id": "17666f0c",
   "metadata": {},
   "outputs": [],
   "source": [
    "# Version\n",
    "#!pip list"
   ]
  },
  {
   "cell_type": "code",
   "execution_count": null,
   "id": "84e439f3",
   "metadata": {},
   "outputs": [],
   "source": [
    "# read in the meta data file which stores datalocation\n",
    "meta_df = pd.read_excel('/burg/iicd/users/ls3456/GVHD/scRNAseq_TCR_samples_meta_LS-14_f.xlsx')\n",
    "meta_df.index = meta_df['Sample ID']"
   ]
  },
  {
   "cell_type": "code",
   "execution_count": null,
   "id": "87f879c9-62bd-4dec-bd61-11b14a218055",
   "metadata": {},
   "outputs": [],
   "source": [
    "meta_df"
   ]
  },
  {
   "cell_type": "code",
   "execution_count": null,
   "id": "15a45554",
   "metadata": {},
   "outputs": [],
   "source": [
    "# Update the sample list here need to be the same as sample ID\n",
    "Sample_list = [\"R096_Tc17_up\",\"R096_Tc17_low\",\"RH01\",\"RH02\",\"RH03\",\"RH04\",\"RH05\",\"RH06\",\"RH07\",\"RH08\",\"RH09\",\"RH10\",\"RH11\",\"RH12\",\"RH13\",\"RH14\",\n",
    "               \"UA01\",\"UA02\",\"UA03\",\"UA04\",\"UA05\",\"UA06\",\"UA07\",\"UA08\",\"UA09\",\"UA10\",\"UA11\",\"UA12\",\"UA13\",\n",
    "               \"UA14\",\"UA15\",\"UA19\",\"UA20\",\"UA21\",\"UA22\",\"UA23\",\"UA24\",\"UA26\",\"UA30\",\"UA31\",\"UA32\",\"UA33\",\"UA34\",\"UA35\",\"UA36\",\"UA37\",\n",
    "               \"UA38\",\"UA39\",\"UA40\",\"UA41\"]"
   ]
  },
  {
   "cell_type": "code",
   "execution_count": null,
   "id": "bd9a1dab-075a-4874-992a-58eff163be10",
   "metadata": {},
   "outputs": [],
   "source": [
    "meta_df.columns"
   ]
  },
  {
   "cell_type": "code",
   "execution_count": null,
   "id": "0a583d2e",
   "metadata": {
    "scrolled": true
   },
   "outputs": [],
   "source": [
    "# Read in files and and update the info of meta data/ Check on every patient\n",
    "for i in range(len(Sample_list)):\n",
    "    vars()[\"adata_\" + str(Sample_list[i])] = sc.read_10x_mtx(meta_df.loc[Sample_list[i],'local_scRNAseq'],  # the directory with the `.mtx` file\n",
    "        var_names='gene_symbols',                  # use gene symbols for the variable names (variables-axis index)\n",
    "         cache=True)\n",
    "    print(\"Reading in ... \" + \"adata_\" + str(Sample_list[i]))\n",
    "    print(vars()[\"adata_\" + str(Sample_list[i])])\n",
    "    \n",
    "    vars()[\"adata_\" + str(Sample_list[i])].obs['PatientID'] = np.repeat(meta_df.loc[Sample_list[i],'Patient ID'],vars()[\"adata_\" + str(Sample_list[i])].shape[0])\n",
    "    vars()[\"adata_\" + str(Sample_list[i])].obs['SampleID'] = np.repeat(meta_df.loc[Sample_list[i],'Sample ID'],vars()[\"adata_\" + str(Sample_list[i])].shape[0])\n",
    "    vars()[\"adata_\" + str(Sample_list[i])].obs['Biopsy_Date'] = np.repeat(meta_df.loc[Sample_list[i],'Biopsy Date'],vars()[\"adata_\" + str(Sample_list[i])].shape[0])\n",
    "    vars()[\"adata_\" + str(Sample_list[i])].obs['submission'] = np.repeat(meta_df.loc[Sample_list[i],'submission'],vars()[\"adata_\" + str(Sample_list[i])].shape[0])\n",
    "    \n",
    "    vars()[\"adata_\" + str(Sample_list[i])].obs['Days_post-Transplant'] = np.repeat(meta_df.loc[Sample_list[i],'Days post-Transplant'],vars()[\"adata_\" + str(Sample_list[i])].shape[0])\n",
    "    vars()[\"adata_\" + str(Sample_list[i])].obs['Tissue_Location'] = np.repeat(meta_df.loc[Sample_list[i],'Tissue Location'],vars()[\"adata_\" + str(Sample_list[i])].shape[0])\n",
    "    vars()[\"adata_\" + str(Sample_list[i])].obs['LPorIE'] = np.repeat(meta_df.loc[Sample_list[i],'Cell Type'],vars()[\"adata_\" + str(Sample_list[i])].shape[0])\n",
    "    vars()[\"adata_\" + str(Sample_list[i])].obs['Enrichment_Method'] = np.repeat(meta_df.loc[Sample_list[i],'Enrichment Method'],vars()[\"adata_\" + str(Sample_list[i])].shape[0])\n",
    "    vars()[\"adata_\" + str(Sample_list[i])].obs['Pathological_Grade'] = np.repeat(meta_df.loc[Sample_list[i],'Pathological Grade of GVHD'],vars()[\"adata_\" + str(Sample_list[i])].shape[0])\n",
    "    vars()[\"adata_\" + str(Sample_list[i])].obs['Pathological_Grade_num'] = np.repeat(meta_df.loc[Sample_list[i],'Pathological Grade number'],vars()[\"adata_\" + str(Sample_list[i])].shape[0])\n",
    "    vars()[\"adata_\" + str(Sample_list[i])].obs['Grade_num'] = np.repeat(meta_df.loc[Sample_list[i],'GVHD_Grade'],vars()[\"adata_\" + str(Sample_list[i])].shape[0])\n",
    "\n",
    "    \n",
    "    vars()[\"adata_\" + str(Sample_list[i])].obs['Grade_1'] = np.repeat(meta_df.loc[Sample_list[i],'GVHD Grade_1'],vars()[\"adata_\" + str(Sample_list[i])].shape[0])\n",
    "    vars()[\"adata_\" + str(Sample_list[i])].obs['Grade_2'] = np.repeat(meta_df.loc[Sample_list[i],'GVHD Grade_2'],vars()[\"adata_\" + str(Sample_list[i])].shape[0])\n",
    "    vars()[\"adata_\" + str(Sample_list[i])].obs['Grade_3'] = np.repeat(meta_df.loc[Sample_list[i],'GVHD Grade_3'],vars()[\"adata_\" + str(Sample_list[i])].shape[0])\n",
    "    \n",
    "    #vars()[\"adata_\" + str(Sample_list[i])].obs['Clinical_GVHD_Grade'] = np.repeat(meta_df.loc[Sample_list[i],'Clinical Grade of GVHD'],vars()[\"adata_\" + str(Sample_list[i])].shape[0])\n",
    "    \n",
    "    vars()[\"adata_\" + str(Sample_list[i])].obs['Transplant_Conditioning'] = np.repeat(meta_df.loc[Sample_list[i],'Transplant Conditioning'],vars()[\"adata_\" + str(Sample_list[i])].shape[0])\n",
    "    vars()[\"adata_\" + str(Sample_list[i])].obs['Gender'] = np.repeat(meta_df.loc[Sample_list[i],'Biological Sex'],vars()[\"adata_\" + str(Sample_list[i])].shape[0])\n",
    "    vars()[\"adata_\" + str(Sample_list[i])].obs['DoT'] = np.repeat(meta_df.loc[Sample_list[i],'DoT'],vars()[\"adata_\" + str(Sample_list[i])].shape[0])\n",
    "    vars()[\"adata_\" + str(Sample_list[i])].obs['Time_1stGVHD'] = np.repeat(meta_df.loc[Sample_list[i],'Time_1stGVHD'],vars()[\"adata_\" + str(Sample_list[i])].shape[0])   \n",
    "\n",
    "    vars()[\"adata_\" + str(Sample_list[i])].obs['Donor'] = np.repeat(meta_df.loc[Sample_list[i],'Donor_type'],vars()[\"adata_\" + str(Sample_list[i])].shape[0])\n",
    "    vars()[\"adata_\" + str(Sample_list[i])].obs['Disease'] = np.repeat(meta_df.loc[Sample_list[i],'Disease'],vars()[\"adata_\" + str(Sample_list[i])].shape[0])\n",
    "    vars()[\"adata_\" + str(Sample_list[i])].obs['Doublet_rate'] = np.repeat(meta_df.loc[Sample_list[i],'Doublet_rate'],vars()[\"adata_\" + str(Sample_list[i])].shape[0])\n",
    "    vars()[\"adata_\" + str(Sample_list[i])].var_names_make_unique()\n",
    "    #TODO double check with filtering quaiteria it was min_cells = 1, and min genes = 100\n",
    "    #sc.pp.filter_genes(vars()[\"adata_\" + str(Sample_list[i])], min_cells=10)\n",
    "    #sc.pp.filter_cells(vars()[\"adata_\" + str(Sample_list[i])], min_genes=200)\n",
    "    vars()[\"adata_\" + str(Sample_list[i])].var['mt'] = vars()[\"adata_\" + str(Sample_list[i])].var_names.str.startswith('MT-')  # annotate the group of mitochondrial genes as 'mt'\n",
    "    sc.pp.calculate_qc_metrics(vars()[\"adata_\" + str(Sample_list[i])], qc_vars=['mt'], percent_top=None, log1p=False, inplace=True)\n",
    "    sc.pl.violin(vars()[\"adata_\" + str(Sample_list[i])], ['n_genes_by_counts', 'total_counts', 'pct_counts_mt'],\n",
    "            jitter=0.4, multi_panel=True)\n",
    "    \n",
    "    "
   ]
  },
  {
   "cell_type": "code",
   "execution_count": null,
   "id": "4ab4cedb",
   "metadata": {},
   "outputs": [],
   "source": [
    "adatalist = [adata_R096_Tc17_up, adata_R096_Tc17_low, adata_RH01, adata_RH02, adata_RH03, adata_RH04, adata_RH05, adata_RH06, adata_RH07, adata_RH08, adata_RH09,adata_RH10, adata_RH11,adata_RH12,adata_RH13,adata_RH14, adata_UA01, adata_UA02, adata_UA03, adata_UA04, adata_UA05, adata_UA06, adata_UA07, adata_UA08,adata_UA09, adata_UA10, adata_UA11, adata_UA12,\n",
    "                     adata_UA13,adata_UA14,adata_UA15,adata_UA19,adata_UA20,adata_UA21,adata_UA22,adata_UA23,adata_UA24,adata_UA26,adata_UA30,adata_UA31,adata_UA32,adata_UA33,adata_UA34,adata_UA35,adata_UA36,adata_UA37,\n",
    "             adata_UA38,adata_UA39,adata_UA40,adata_UA41]"
   ]
  },
  {
   "cell_type": "code",
   "execution_count": null,
   "id": "363d4866-1396-4650-bd88-7ad438c28a11",
   "metadata": {},
   "outputs": [],
   "source": [
    "adata.obs['Doublet_rate'].unique()[0]"
   ]
  },
  {
   "cell_type": "code",
   "execution_count": null,
   "id": "1ef17e2c",
   "metadata": {},
   "outputs": [],
   "source": [
    "for adata in adatalist:\n",
    "    print(np.unique(adata.obs[\"SampleID\"]))\n",
    "    \n",
    "    # log-transform if the doublet detection does not work well\n",
    "    #if np.any(adata.obs[\"SampleID\"]==\"RH12\") or np.any(adata.obs[\"SampleID\"]==\"UA11\"):\n",
    "        #sc.pp.normalize_total(adata, target_sum=1e4)\n",
    "        #sc.pp.log1p(adata)\n",
    "    \n",
    "    scrub = scr.Scrublet(adata.X, expected_doublet_rate=adata.obs['Doublet_rate'].unique()[0]) # initialize Scrublet object\n",
    "    doublet_scores, predicted_doublets = scrub.scrub_doublets(min_counts=2, \n",
    "                                                          min_cells=3, \n",
    "                                                          min_gene_variability_pctl=85, \n",
    "                                                          n_prin_comps=30) # run the default pipeline of doublet detection\n",
    "    \n",
    "    scrub.plot_histogram() # plot doublet score histograms \n",
    "    plt.show()   \n",
    "    \n",
    "    adata.obs[\"doublet_score\"]=doublet_scores\n",
    "    adata.obs[\"is_doublet\"]=predicted_doublets\n",
    "    adata.obs['is_doublet']=adata.obs['is_doublet'].astype(str)\n",
    "    \n",
    "    sc.pp.normalize_total(adata)\n",
    "    sc.pp.log1p(adata)\n",
    "    sc.tl.pca(adata, svd_solver='arpack')\n",
    "    sc.pp.neighbors(adata, n_neighbors=10, n_pcs=40)\n",
    "    sc.tl.umap(adata)\n",
    "    sc.pl.umap(adata, color=[\"is_doublet\", \"doublet_score\"])"
   ]
  },
  {
   "cell_type": "code",
   "execution_count": null,
   "id": "65963a4e",
   "metadata": {},
   "outputs": [],
   "source": [
    "#Concat the data together\n",
    "combined = ad.concat(adatalist, join=\"outer\")"
   ]
  },
  {
   "cell_type": "code",
   "execution_count": null,
   "id": "749f495a",
   "metadata": {},
   "outputs": [],
   "source": [
    "# Convert the 'Biopsy_Date' column to string representation\n",
    "combined.obs['Biopsy_Date'] = combined.obs['Biopsy_Date'].dt.strftime('%Y-%m-%d')\n",
    "# Convert the 'Pathological_Grade_num' column to string representation\n",
    "combined.obs['Pathological_Grade_num'] = combined.obs['Pathological_Grade_num'].astype(str)\n",
    "# Convert the 'Grade_num' column to string representation\n",
    "combined.obs['Grade_num'] = combined.obs['Grade_num'].astype(str)\n",
    "# Convert the 'DoT' column to Unix timestamps\n",
    "combined.obs['DoT'] = combined.obs['DoT'].astype(int)"
   ]
  },
  {
   "cell_type": "code",
   "execution_count": null,
   "id": "d8724274",
   "metadata": {},
   "outputs": [],
   "source": [
    "combined.write('/burg/iicd/users/ls3456/GVHD/adata_file/nodoublet_ls.h5ad')"
   ]
  }
 ],
 "metadata": {
  "kernelspec": {
   "display_name": "Python 3 (ipykernel)",
   "language": "python",
   "name": "python3"
  },
  "language_info": {
   "codemirror_mode": {
    "name": "ipython",
    "version": 3
   },
   "file_extension": ".py",
   "mimetype": "text/x-python",
   "name": "python",
   "nbconvert_exporter": "python",
   "pygments_lexer": "ipython3",
   "version": "3.11.8"
  }
 },
 "nbformat": 4,
 "nbformat_minor": 5
}
