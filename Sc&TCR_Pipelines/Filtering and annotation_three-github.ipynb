{
 "cells": [
  {
   "cell_type": "markdown",
   "id": "7f404b12",
   "metadata": {},
   "source": [
    "# GVHD project integrated analysis"
   ]
  },
  {
   "cell_type": "markdown",
   "id": "de520539",
   "metadata": {},
   "source": [
    "Lingting , Xumin, and Pranik\n",
    "\n",
    "anndata     0.8.0\n",
    "scanpy      1.9.1\n",
    "-----\n",
    "PIL                         9.2.0\n",
    "appnope                     0.1.2\n",
    "asttokens                   NA\n",
    "backcall                    0.2.0\n",
    "beta_ufunc                  NA\n",
    "binom_ufunc                 NA\n",
    "cffi                        1.15.0\n",
    "cycler                      0.10.0\n",
    "cython_runtime              NA\n",
    "dateutil                    2.8.2\n",
    "debugpy                     1.5.1\n",
    "decorator                   5.1.1\n",
    "defusedxml                  0.7.1\n",
    "entrypoints                 0.4\n",
    "executing                   0.8.3\n",
    "h5py                        3.7.0\n",
    "hypergeom_ufunc             NA\n",
    "igraph                      0.9.11\n",
    "ipykernel                   6.9.1\n",
    "ipython_genutils            0.2.0\n",
    "jedi                        0.18.1\n",
    "joblib                      1.1.0\n",
    "kiwisolver                  1.4.4\n",
    "leidenalg                   0.8.10\n",
    "llvmlite                    0.38.1\n",
    "matplotlib                  3.5.2\n",
    "mpl_toolkits                NA\n",
    "natsort                     8.1.0\n",
    "nbinom_ufunc                NA\n",
    "numba                       0.55.2\n",
    "numpy                       1.21.0\n",
    "packaging                   21.3\n",
    "pandas                      1.3.5\n",
    "parso                       0.8.3\n",
    "pexpect                     4.8.0\n",
    "pickleshare                 0.7.5\n",
    "pkg_resources               NA\n",
    "prompt_toolkit              3.0.20\n",
    "psutil                      5.9.1\n",
    "ptyprocess                  0.7.0\n",
    "pure_eval                   0.2.2\n",
    "pydev_ipython               NA\n",
    "pydevconsole                NA\n",
    "pydevd                      2.6.0\n",
    "pydevd_concurrency_analyser NA\n",
    "pydevd_file_utils           NA\n",
    "pydevd_plugins              NA\n",
    "pydevd_tracing              NA\n",
    "pygments                    2.11.2\n",
    "pyparsing                   3.0.4\n",
    "pytz                        2022.1\n",
    "scipy                       1.8.1\n",
    "session_info                1.0.0\n",
    "setuptools                  63.2.0\n",
    "six                         1.16.0\n",
    "sklearn                     1.1.1\n",
    "stack_data                  0.2.0\n",
    "texttable                   1.6.4\n",
    "threadpoolctl               3.1.0\n",
    "tornado                     6.1\n",
    "tqdm                        4.64.0\n",
    "traitlets                   5.1.1\n",
    "typing_extensions           NA\n",
    "wcwidth                     0.2.5\n",
    "zmq                         23.2.0\n",
    "-----\n",
    "IPython             8.4.0\n",
    "jupyter_client      7.2.2\n",
    "jupyter_core        4.10.0\n",
    "notebook            6.4.11\n",
    "-----\n",
    "Python 3.10.5 | packaged by conda-forge | (main, Jun 14 2022, 07:05:37) [Clang 13.0.1 ]\n",
    "macOS-12.3-arm64-arm-64bit\n",
    "-----\n",
    "Session information updated at 2022-08-14 10:32"
   ]
  },
  {
   "cell_type": "markdown",
   "id": "ce5e883e",
   "metadata": {},
   "source": [
    " # verison 2\n",
    "absl-py                       1.2.0\n",
    "adjustText                    0.7.3\n",
    "aiohttp                       3.8.3\n",
    "aiosignal                     1.2.0\n",
    "alabaster                     0.7.12\n",
    "anndata                       0.8.0\n",
    "anyio                         3.6.1\n",
    "appdirs                       1.4.4\n",
    "appnope                       0.1.3\n",
    "argon2-cffi                   21.3.0\n",
    "argon2-cffi-bindings          21.2.0\n",
    "asttokens                     2.0.8\n",
    "async-timeout                 4.0.2\n",
    "attrs                         22.1.0\n",
    "Babel                         2.10.3\n",
    "backcall                      0.2.0\n",
    "backports.functools-lru-cache 1.6.4\n",
    "beautifulsoup4                4.11.1\n",
    "bioinfokit                    2.0.8\n",
    "biopython                     1.79\n",
    "bioservices                   1.10.0\n",
    "bleach                        5.0.1\n",
    "blinker                       1.4\n",
    "brotlipy                      0.7.0\n",
    "cached-property               1.5.2\n",
    "cachetools                    5.2.0\n",
    "certifi                       2022.9.24\n",
    "cffi                          1.15.1\n",
    "charset-normalizer            2.1.0\n",
    "chex                          0.1.5\n",
    "clang                         14.0\n",
    "click                         8.1.3\n",
    "colorama                      0.4.5\n",
    "colorlog                      6.6.0\n",
    "commonmark                    0.9.1\n",
    "community                     1.0.0b1\n",
    "cryptography                  37.0.4\n",
    "cycler                        0.11.0\n",
    "dataclasses                   0.8\n",
    "debugpy                       1.6.3\n",
    "decorator                     5.1.1\n",
    "defusedxml                    0.7.1\n",
    "Deprecated                    1.2.13\n",
    "dm-tree                       0.1.7\n",
    "docrep                        0.3.2\n",
    "docutils                      0.19\n",
    "easydev                       0.12.0\n",
    "entrypoints                   0.4\n",
    "et-xmlfile                    1.1.0\n",
    "etils                         0.8.0\n",
    "executing                     0.10.0\n",
    "fastjsonschema                2.16.1\n",
    "Flask                         2.2.2\n",
    "flax                          0.5.2\n",
    "flit_core                     3.7.1\n",
    "fonttools                     4.36.0\n",
    "frozenlist                    1.3.1\n",
    "fsspec                        2022.8.2\n",
    "future                        0.18.2\n",
    "gevent                        21.12.0\n",
    "google                        3.0.0\n",
    "google-auth                   2.11.0\n",
    "google-auth-oauthlib          0.4.6\n",
    "graphtools                    1.5.2\n",
    "greenlet                      1.1.2\n",
    "grequests                     0.6.0\n",
    "grpcio                        1.46.4\n",
    "gseapy                        0.12.1\n",
    "h5py                          3.7.0\n",
    "html5lib                      1.1\n",
    "hyperopt                      0.1.2\n",
    "idna                          3.3\n",
    "igraph                        0.9.11\n",
    "imageio                       2.21.1\n",
    "imagesize                     1.4.1\n",
    "importlib-metadata            4.11.4\n",
    "importlib-resources           5.9.0\n",
    "ipykernel                     6.15.1\n",
    "ipython                       8.4.0\n",
    "ipython-genutils              0.2.0\n",
    "ipywidgets                    8.0.2\n",
    "itsdangerous                  2.1.2\n",
    "jax                           0.3.17\n",
    "jaxlib                        0.3.15\n",
    "jedi                          0.18.1\n",
    "Jinja2                        3.1.2\n",
    "joblib                        1.1.0\n",
    "json5                         0.9.5\n",
    "jsonschema                    4.9.1\n",
    "jupyter-client                7.3.4\n",
    "jupyter_core                  4.11.1\n",
    "jupyter-server                1.18.1\n",
    "jupyterlab                    3.4.5\n",
    "jupyterlab-pygments           0.2.2\n",
    "jupyterlab-server             2.15.0\n",
    "jupyterlab-widgets            3.0.3\n",
    "kiwisolver                    1.4.4\n",
    "kneed                         0.7.0\n",
    "leidenalg                     0.8.10\n",
    "llvmlite                      0.38.1\n",
    "lxml                          4.9.1\n",
    "magic-impute                  3.0.0\n",
    "Markdown                      3.4.1\n",
    "MarkupSafe                    2.1.1\n",
    "matplotlib                    3.5.3\n",
    "matplotlib-inline             0.1.6\n",
    "matplotlib-venn               0.11.7\n",
    "mistune                       0.8.4\n",
    "mizani                        0.7.4\n",
    "msgpack                       1.0.4\n",
    "mudata                        0.2.0\n",
    "multidict                     6.0.2\n",
    "multipledispatch              0.6.0\n",
    "munkres                       1.1.4\n",
    "natsort                       8.1.0\n",
    "nbclassic                     0.4.3\n",
    "nbclient                      0.6.6\n",
    "nbconvert                     6.5.3\n",
    "nbformat                      5.4.0\n",
    "nest-asyncio                  1.5.5\n",
    "networkx                      2.8.5\n",
    "notebook                      6.4.12\n",
    "notebook-shim                 0.1.0\n",
    "numba                         0.55.2\n",
    "numpy                         1.22.4\n",
    "numpyro                       0.10.1\n",
    "oauthlib                      3.2.1\n",
    "opencv-python                 4.6.0.66\n",
    "openpyxl                      3.0.10\n",
    "opt-einsum                    3.3.0\n",
    "optax                         0.1.3\n",
    "packaging                     21.3\n",
    "palettable                    3.3.0\n",
    "pandas                        1.3.5\n",
    "pandocfilters                 1.5.0\n",
    "parso                         0.8.3\n",
    "patsy                         0.5.2\n",
    "pexpect                       4.8.0\n",
    "PhenoGraph                    1.5.7\n",
    "pickleshare                   0.7.5\n",
    "Pillow                        9.2.0\n",
    "pip                           22.2.2\n",
    "pkgutil_resolve_name          1.3.10\n",
    "plotly                        5.10.0\n",
    "plotnine                      0.9.0\n",
    "prometheus-client             0.14.1\n",
    "prompt-toolkit                3.0.30\n",
    "protobuf                      3.20.1\n",
    "psutil                        5.9.1\n",
    "ptyprocess                    0.7.0\n",
    "pure-eval                     0.2.2\n",
    "py-pcha                       0.1.3\n",
    "pyasn1                        0.4.8\n",
    "pyasn1-modules                0.2.7\n",
    "pycparser                     2.21\n",
    "pyDeprecate                   0.3.2\n",
    "Pygments                      2.13.0\n",
    "PyGSP                         0.5.1\n",
    "PyJWT                         2.5.0\n",
    "pymongo                       4.2.0\n",
    "pynndescent                   0.5.7\n",
    "pyOpenSSL                     22.0.0\n",
    "pyparsing                     3.0.9\n",
    "pyro-api                      0.1.2\n",
    "pyro-ppl                      1.8.2+2e3bd02\n",
    "pyrsistent                    0.18.1\n",
    "PySocks                       1.7.1\n",
    "python-dateutil               2.8.2\n",
    "python-Levenshtein            0.12.2\n",
    "python-louvain                0.16\n",
    "pytoml                        0.1.21\n",
    "pytorch-lightning             1.7.6\n",
    "pytz                          2022.2.1\n",
    "pyu2f                         0.1.5\n",
    "PyWavelets                    1.3.0\n",
    "PyYAML                        6.0\n",
    "pyzmq                         23.2.1\n",
    "requests                      2.28.1\n",
    "requests-cache                0.4.13\n",
    "requests-oauthlib             1.3.1\n",
    "rich                          11.1.0\n",
    "rsa                           4.9\n",
    "scanpy                        1.9.1\n",
    "scikit-dimension              0.3.2\n",
    "scikit-image                  0.19.3\n",
    "scikit-learn                  1.1.2\n",
    "scikit-misc                   0.1.4\n",
    "scipy                         1.9.0\n",
    "scprep                        1.2.0\n",
    "scvi                          0.6.8\n",
    "scvi-tools                    0.17.4\n",
    "seaborn                       0.11.2\n",
    "Send2Trash                    1.8.0\n",
    "session-info                  1.0.0\n",
    "setuptools                    65.0.2\n",
    "six                           1.16.0\n",
    "sniffio                       1.2.0\n",
    "snowballstemmer               2.2.0\n",
    "soupsieve                     2.3.2.post1\n",
    "Sphinx                        5.1.1\n",
    "sphinxcontrib-applehelp       1.0.2\n",
    "sphinxcontrib-devhelp         1.0.2\n",
    "sphinxcontrib-htmlhelp        2.0.0\n",
    "sphinxcontrib-jsmath          1.0.1\n",
    "sphinxcontrib-qthelp          1.0.3\n",
    "sphinxcontrib-serializinghtml 1.1.5\n",
    "squarify                      0.4.3\n",
    "stack-data                    0.4.0\n",
    "statannotations               0.4.4\n",
    "statsmodels                   0.13.2\n",
    "stdlib-list                   0.7.0\n",
    "suds-community                1.1.2\n",
    "tabulate                      0.8.10\n",
    "tangram-sc                    1.0.3\n",
    "tasklogger                    1.2.0\n",
    "tenacity                      8.0.1\n",
    "tensorboard                   2.10.0\n",
    "tensorboard-data-server       0.6.0\n",
    "tensorboard-plugin-wit        1.8.1\n",
    "terminado                     0.15.0\n",
    "texttable                     1.6.4\n",
    "textwrap3                     0.9.2\n",
    "threadpoolctl                 3.1.0\n",
    "tifffile                      2022.8.12\n",
    "tinycss2                      1.1.1\n",
    "tomli                         2.0.1\n",
    "toolz                         0.12.0\n",
    "torch                         1.13.0.dev20220925\n",
    "torchaudio                    0.13.0.dev20220925\n",
    "torchmetrics                  0.9.3\n",
    "torchvision                   0.14.0.dev20220925\n",
    "tornado                       6.2\n",
    "tqdm                          4.64.0\n",
    "traitlets                     5.3.0\n",
    "typing_extensions             4.3.0\n",
    "umap-learn                    0.5.3\n",
    "unicodedata2                  14.0.0\n",
    "urllib3                       1.26.11\n",
    "wcwidth                       0.2.5\n",
    "webencodings                  0.5.1\n",
    "websocket-client              1.3.3\n",
    "Werkzeug                      2.2.2\n",
    "wheel                         0.37.1\n",
    "widgetsnbextension            4.0.3\n",
    "wrapt                         1.14.1\n",
    "xlrd                          1.2.0\n",
    "xmltodict                     0.13.0\n",
    "yamlordereddictloader         0.4.0\n",
    "yarl                          1.7.2\n",
    "zipp                          3.8.1\n",
    "zope.event                    4.5.0\n",
    "zope.interface                5.4.0"
   ]
  },
  {
   "cell_type": "code",
   "execution_count": null,
   "id": "70b135a4",
   "metadata": {},
   "outputs": [],
   "source": [
    "#conda activate scanpy"
   ]
  },
  {
   "cell_type": "code",
   "execution_count": null,
   "id": "bfa64271",
   "metadata": {},
   "outputs": [],
   "source": [
    "#!pip list"
   ]
  },
  {
   "cell_type": "code",
   "execution_count": null,
   "id": "b5985472-5ac0-40dc-b3ab-a0c8f8e00274",
   "metadata": {},
   "outputs": [],
   "source": [
    "#!conda info --envs"
   ]
  },
  {
   "cell_type": "code",
   "execution_count": null,
   "id": "efa19e38-8a02-42e5-b4af-3da1a5180c14",
   "metadata": {},
   "outputs": [],
   "source": [
    "#!pip install torchmetrics==0.9.3\n"
   ]
  },
  {
   "cell_type": "code",
   "execution_count": null,
   "id": "06f9856a-4012-4ee7-a183-94b73a4dee39",
   "metadata": {},
   "outputs": [],
   "source": [
    "#!pip show pytorch_lightning torchmetrics"
   ]
  },
  {
   "cell_type": "code",
   "execution_count": null,
   "id": "b4e84771-7b93-4241-a1f0-81c269af47f0",
   "metadata": {},
   "outputs": [],
   "source": []
  },
  {
   "cell_type": "code",
   "execution_count": null,
   "id": "7e0d614b-d6e1-4cc4-9e64-0e6938011ec5",
   "metadata": {},
   "outputs": [],
   "source": [
    "#!pip install openpyxl\n",
    "#anndata needs to be 0.8.0\n",
    "from glob import glob\n",
    "import numpy as np\n",
    "import pandas as pd\n",
    "import scanpy as sc\n",
    "import anndata as ad\n",
    "import anndata\n",
    "import pickle\n",
    "import matplotlib.pyplot as plt\n",
    "from tqdm import tqdm\n",
    "import gc\n",
    "import tarfile\n",
    "import seaborn as sns\n",
    "import scvi\n",
    "import torch\n",
    "\n",
    "from collections import OrderedDict\n",
    "import pickle\n",
    "#import scrublet as scr\n",
    "import scipy.io\n",
    "import matplotlib.pyplot as plt\n",
    "import os"
   ]
  },
  {
   "cell_type": "code",
   "execution_count": null,
   "id": "76a46c82",
   "metadata": {},
   "outputs": [],
   "source": [
    "#!pip install scvi"
   ]
  },
  {
   "cell_type": "code",
   "execution_count": null,
   "id": "6ab4a6bc",
   "metadata": {},
   "outputs": [],
   "source": [
    "sc.settings.verbosity = 3             # verbosity: errors (0), warnings (1), info (2), hints (3)\n",
    "#sc.logging.print_versions()\n",
    "sc.set_figure_params(dpi=80)"
   ]
  },
  {
   "cell_type": "markdown",
   "id": "6d87dafc",
   "metadata": {},
   "source": [
    "# Loading data"
   ]
  },
  {
   "cell_type": "code",
   "execution_count": null,
   "id": "db7777a4-fa2e-4e8e-b879-f582e5bbff41",
   "metadata": {},
   "outputs": [],
   "source": [
    "#!pip install openpyxl"
   ]
  },
  {
   "cell_type": "code",
   "execution_count": null,
   "id": "817a7a87-6029-41a9-b2e5-3cd1b70b0eba",
   "metadata": {},
   "outputs": [],
   "source": [
    "# You can update your data location in the meta file\n",
    "#meta_df = pd.read_excel('/burg/iicd/users/ls3456/GVHD/scRNAseq_TCR_samples_meta_LS-13_f.xlsx')\n",
    "#meta_df.index = meta_df['Sample ID']"
   ]
  },
  {
   "cell_type": "code",
   "execution_count": null,
   "id": "54196f8a",
   "metadata": {},
   "outputs": [],
   "source": [
    "#meta_df.head()"
   ]
  },
  {
   "cell_type": "code",
   "execution_count": null,
   "id": "0d726ccc",
   "metadata": {},
   "outputs": [],
   "source": [
    "#Add genes from the major cell type to the batch correction\n",
    "#markers = pd.read_excel('/burg/iicd/users/ls3456/GVHD/Major_cell_type_markers.xlsx')\n",
    "#markers"
   ]
  },
  {
   "cell_type": "code",
   "execution_count": null,
   "id": "fb75e044",
   "metadata": {},
   "outputs": [],
   "source": [
    "# Update the sample list here need to be the same as sample ID\n",
    "Sample_list = [\"R096_Tc17_up\",\"R096_Tc17_low\",\"RH01\",\"RH02\",\"RH03\",\"RH04\",\"RH05\",\"RH06\",\"RH07\",\"RH08\",\"RH09\",\"RH10\",\"RH11\",\"RH12\",\"RH13\",\"RH14\",\"UA01\",\"UA02\",\"UA03\",\"UA04\",\"UA05\",\"UA06\",\"UA07\",\"UA08\",\"UA09\",\"UA10\",\"UA11\",\"UA12\",'UA13','UA14','UA15','UA19','UA20','UA21','UA22','UA23','UA24','UA26','UA30','UA31','UA32','UA33','UA34','UA35','UA36','UA37','UA38','UA39','UA40','UA41']\n",
    "#Sample_list = [\"R096_Tc17_up\",\"R096_Tc17_low\",\"RH01\",\"RH02\",\"RH03\",\"RH04\"]"
   ]
  },
  {
   "cell_type": "code",
   "execution_count": null,
   "id": "3256b19c",
   "metadata": {},
   "outputs": [],
   "source": [
    "combined = anndata.read_h5ad('/burg/iicd/users/ls3456/GVHD/adata_file/combined_batch_corrected_all.h5ad')"
   ]
  },
  {
   "cell_type": "code",
   "execution_count": null,
   "id": "88b7a1d0",
   "metadata": {},
   "outputs": [],
   "source": [
    "combined"
   ]
  },
  {
   "cell_type": "code",
   "execution_count": null,
   "id": "4c5f8c78",
   "metadata": {},
   "outputs": [],
   "source": [
    "plt.figure(figsize=(12, 10), dpi=300)\n",
    "sc.pl.umap(combined, color=['leiden'], frameon=False)\n",
    "\n",
    "# Save the figure with the desired DPI\n",
    "plt.savefig('_umap_plot.png', dpi=300)\n"
   ]
  },
  {
   "cell_type": "code",
   "execution_count": null,
   "id": "4e0bd955",
   "metadata": {},
   "outputs": [],
   "source": [
    "sc.pl.umap(combined, color=['leiden','total_counts', 'pct_counts_mt'])"
   ]
  },
  {
   "cell_type": "code",
   "execution_count": null,
   "id": "36c8033c",
   "metadata": {},
   "outputs": [],
   "source": [
    "sc.pl.umap(combined[combined.obs.pct_counts_mt<=20], color=['leiden','total_counts', 'pct_counts_mt'])"
   ]
  },
  {
   "cell_type": "code",
   "execution_count": null,
   "id": "92b65a9a",
   "metadata": {},
   "outputs": [],
   "source": [
    "plt.hist(combined.obs['total_counts'], bins= 3000)\n",
    "plt.xlim(0, 6000)"
   ]
  },
  {
   "cell_type": "code",
   "execution_count": null,
   "id": "5e537e4e",
   "metadata": {},
   "outputs": [],
   "source": [
    "plt.hist(combined[combined.obs['total_counts']>=1250].obs['total_counts'], bins= 3000)\n",
    "plt.xlim(0, 6000)"
   ]
  },
  {
   "cell_type": "code",
   "execution_count": null,
   "id": "dcb237e7",
   "metadata": {},
   "outputs": [],
   "source": [
    "combined = combined[combined.obs.total_counts >=1250, :]"
   ]
  },
  {
   "cell_type": "code",
   "execution_count": null,
   "id": "c98113e8",
   "metadata": {},
   "outputs": [],
   "source": [
    "combined = combined[combined.obs.pct_counts_mt < 20, :]"
   ]
  },
  {
   "cell_type": "code",
   "execution_count": null,
   "id": "9512ec86",
   "metadata": {},
   "outputs": [],
   "source": [
    "combined"
   ]
  },
  {
   "cell_type": "code",
   "execution_count": null,
   "id": "0b948206",
   "metadata": {},
   "outputs": [],
   "source": [
    "sc.pl.umap(combined, color=['leiden','total_counts', 'pct_counts_mt'])"
   ]
  },
  {
   "cell_type": "code",
   "execution_count": null,
   "id": "6360e165",
   "metadata": {},
   "outputs": [],
   "source": [
    "sc.pp.neighbors(combined,n_neighbors = 30, use_rep=\"X_scVI\")\n",
    "sc.tl.umap(combined)"
   ]
  },
  {
   "cell_type": "code",
   "execution_count": null,
   "id": "98f6e616-46c6-4b55-a641-5ec5fe682dbd",
   "metadata": {},
   "outputs": [],
   "source": [
    "sc.pl.umap(combined, color=['leiden','total_counts', 'pct_counts_mt'])"
   ]
  },
  {
   "cell_type": "code",
   "execution_count": null,
   "id": "ca3f28ab-7697-4bf7-b270-b6380d74466d",
   "metadata": {},
   "outputs": [],
   "source": [
    "#!pip3 install leidenalg"
   ]
  },
  {
   "cell_type": "code",
   "execution_count": null,
   "id": "54b4f43b-70c5-4c98-b768-8d4cc859ea06",
   "metadata": {},
   "outputs": [],
   "source": [
    "#sc.tl.leiden(combined,resolution=0.15)#,resolution=0.1,"
   ]
  },
  {
   "cell_type": "code",
   "execution_count": null,
   "id": "632e70f0",
   "metadata": {},
   "outputs": [],
   "source": [
    "#sc.pl.umap(combined, color=['leiden','total_counts', 'pct_counts_mt'])"
   ]
  },
  {
   "cell_type": "code",
   "execution_count": null,
   "id": "c4e26756",
   "metadata": {},
   "outputs": [],
   "source": [
    "combined.obs['leiden_old']=combined.obs['leiden']"
   ]
  },
  {
   "cell_type": "code",
   "execution_count": null,
   "id": "b450653e",
   "metadata": {},
   "outputs": [],
   "source": [
    "sc.tl.leiden(combined,resolution=0.15,key_added='leiden_0.15' )#,resolution=0.1,"
   ]
  },
  {
   "cell_type": "code",
   "execution_count": null,
   "id": "0d0f99c9-2af9-4548-9f52-ae168154a51b",
   "metadata": {},
   "outputs": [],
   "source": [
    "plt.figure(figsize=(12, 10), dpi=300)\n",
    "sc.pl.umap(combined, color=['leiden_0.15'], frameon=False)\n",
    "\n",
    "# Save the figure with the desired DPI\n",
    "plt.savefig('_umap_plot.png', dpi=300)"
   ]
  },
  {
   "cell_type": "code",
   "execution_count": null,
   "id": "5336e6a5",
   "metadata": {},
   "outputs": [],
   "source": [
    "#T cells\n",
    "plt.figure(figsize=(12, 10), dpi=300)\n",
    "sc.pl.umap(combined, color=[\"CD3D\",\"CD3E\",\"CD3G\",'CD4', 'CD8A','CD8B'], ncols= 3)"
   ]
  },
  {
   "cell_type": "code",
   "execution_count": null,
   "id": "c7d589d4-2c5a-4e55-acb0-f913f5940de9",
   "metadata": {},
   "outputs": [],
   "source": [
    "#B cells\n",
    "sc.pl.umap(combined, color=[\"CD19\",\"PTPRC\",\"CD27\",\"IGHM\",\"CD40\",\"IGHD\",\"EBF1\",\"TCF3\",\"MS4A1\",\"CR2\",\"CD27\",\"CD22\",\"CD79A\",'POU2F2',\"IGHG1\",\"IGHM\"])"
   ]
  },
  {
   "cell_type": "code",
   "execution_count": null,
   "id": "1ecaa6f7",
   "metadata": {},
   "outputs": [],
   "source": [
    "#Myeoloid\n",
    "sc.pl.umap(combined, color=[\"ITGAM\",\"ITGAX\",\"CD14\",\"ADGRE1\",\"FCGR1A\",\"MERTK\",\"CD68\",\"FCGR3A\",\"CD163\",\"CSF1R\",\"CD9\",'APOE','CD81','CD1C','CD33','CSF1R'])"
   ]
  },
  {
   "cell_type": "code",
   "execution_count": null,
   "id": "c3b9a9a6",
   "metadata": {},
   "outputs": [],
   "source": [
    "#Macrophage\n",
    "sc.pl.umap(combined, color=['C5AR1','CD14','CD163','CD68','CD81','CD82','CD86','MRC1','MSR1','NRP1'], ncols = 5)"
   ]
  },
  {
   "cell_type": "code",
   "execution_count": null,
   "id": "b1f6f5ef",
   "metadata": {},
   "outputs": [],
   "source": [
    "#NK cells\n",
    "sc.pl.umap(combined, color=[\"NCAM1\",'GNLY','NCR1','KIR2DL4','KIR2DL1','KIR2DL3','KIR3DL2',\"KIR3DL1\"])"
   ]
  },
  {
   "cell_type": "code",
   "execution_count": null,
   "id": "41f636e6",
   "metadata": {},
   "outputs": [],
   "source": [
    "#Epithelial cells\n",
    "sc.pl.umap(combined, color=[\"EPCAM\"])"
   ]
  },
  {
   "cell_type": "code",
   "execution_count": null,
   "id": "9aaf9ac5",
   "metadata": {},
   "outputs": [],
   "source": [
    "#DC from seurat pbmc tutorial\n",
    "sc.pl.umap(combined, color=[\"FCER1A\", \"CST3\"])"
   ]
  },
  {
   "cell_type": "code",
   "execution_count": null,
   "id": "18a7cb01",
   "metadata": {},
   "outputs": [],
   "source": [
    "#palette\n",
    "for meta in combined.obs.columns:\n",
    "    randomize=np.arange(len(combined.obs[meta]))\n",
    "    np.random.shuffle(randomize)\n",
    "    sns.set_style(\"white\", {'axes.grid' : False})\n",
    "    sns.despine(bottom=True, left=True)\n",
    "    fig, ax = plt.subplots(figsize=(8,8), dpi=300)\n",
    "    scatter=sns.scatterplot(x=combined.obsm[\"X_umap\"][:,0][randomize],y=combined.obsm[\"X_umap\"][:,1][randomize], hue=combined.obs[meta][randomize],s=2).set(title=meta)\n",
    "    plt.xticks([])\n",
    "    plt.yticks([])\n",
    "    #plt.legend(bbox_to_anchor=(1.02, 1), , borderaxespad=0)\n",
    "    plt.legend(frameon=False,loc='upper right', bbox_to_anchor=(1.2, 1))\n",
    "    plt.savefig('/burg/iicd/users/ls3456/GVHD/Figures/single_cell_figures/'+ meta + '_umap.pdf',transparent=True)\n",
    "    plt.savefig('/burg/iicd/users/ls3456/GVHD/Figures/single_cell_figures/'+ meta + '_umap.png',transparent=True)\n",
    "\n",
    "    "
   ]
  },
  {
   "cell_type": "code",
   "execution_count": null,
   "id": "ac029ba2",
   "metadata": {},
   "outputs": [],
   "source": [
    "sc.pl.umap(combined,color= 'pct_counts_mt')"
   ]
  },
  {
   "cell_type": "code",
   "execution_count": null,
   "id": "33a1eea8",
   "metadata": {},
   "outputs": [],
   "source": [
    "sc.pl.umap(combined,color= 'total_counts')"
   ]
  },
  {
   "cell_type": "code",
   "execution_count": null,
   "id": "e4155a87",
   "metadata": {},
   "outputs": [],
   "source": [
    "#Plot all the features on UMAP\n",
    "sc.pl.umap(combined,color=combined.obs[combined.obs[\"SampleID\"]==\"RH01\"])"
   ]
  },
  {
   "cell_type": "code",
   "execution_count": null,
   "id": "a92f48a0",
   "metadata": {},
   "outputs": [],
   "source": [
    "combined.uns['log1p'][\"base\"] = None"
   ]
  },
  {
   "cell_type": "code",
   "execution_count": null,
   "id": "cc9e133b",
   "metadata": {},
   "outputs": [],
   "source": [
    "sc.tl.rank_genes_groups(combined, groupby=\"leiden_0.15\",use_raw=False, method='wilcoxon')\n",
    "\n",
    "dedf = sc.get.rank_genes_groups_df(combined, group=None)\n",
    "dedf.to_csv('/burg/iicd/users/ls3456/GVHD/adata_file/dedf_david_f.csv')\n"
   ]
  },
  {
   "cell_type": "code",
   "execution_count": null,
   "id": "31dffd67",
   "metadata": {},
   "outputs": [],
   "source": [
    "#Get rid of mitochondrial genes and ribosomal genes\n",
    "filtered_combined_list = [name for name in combined.var_names if not name.startswith(\"MT\") and not name.startswith(\"RPS\") and not name.startswith(\"RPL\")]"
   ]
  },
  {
   "cell_type": "code",
   "execution_count": null,
   "id": "67b77580",
   "metadata": {},
   "outputs": [],
   "source": [
    "filtered_combined = combined[:, filtered_combined_list]"
   ]
  },
  {
   "cell_type": "code",
   "execution_count": null,
   "id": "16a12cb7",
   "metadata": {},
   "outputs": [],
   "source": [
    "len(filtered_combined_list)"
   ]
  },
  {
   "cell_type": "code",
   "execution_count": null,
   "id": "df487dad",
   "metadata": {},
   "outputs": [],
   "source": [
    "combined"
   ]
  },
  {
   "cell_type": "code",
   "execution_count": null,
   "id": "d9c7cc3e",
   "metadata": {},
   "outputs": [],
   "source": [
    "filtered_combined"
   ]
  },
  {
   "cell_type": "code",
   "execution_count": null,
   "id": "52483d31",
   "metadata": {},
   "outputs": [],
   "source": [
    "#Double check those gene are gone\n",
    "filtered_combined.var['mt'] = filtered_combined.var_names.str.startswith('MT-')  # annotate the group of mitochondrial genes as 'mt'\n",
    "sc.pp.calculate_qc_metrics(filtered_combined, qc_vars=['mt'], percent_top=None, log1p=False, inplace=True)"
   ]
  },
  {
   "cell_type": "code",
   "execution_count": null,
   "id": "c02e2200",
   "metadata": {},
   "outputs": [],
   "source": [
    "sc.pl.violin(filtered_combined, ['n_genes_by_counts', 'total_counts', 'pct_counts_mt'],\n",
    "             jitter=0.4, multi_panel=True)"
   ]
  },
  {
   "cell_type": "code",
   "execution_count": null,
   "id": "328e4858-8fba-4941-a44e-32f0f12719dd",
   "metadata": {},
   "outputs": [],
   "source": [
    "results_file_all = '/burg/iicd/users/ls3456/GVHD/adata_file/filtered_combined_all_patientID_f.h5ad'\n",
    "filtered_combined.write(results_file_all)"
   ]
  },
  {
   "cell_type": "markdown",
   "id": "3146f503-9623-4d37-bc10-cf2578aafbf1",
   "metadata": {},
   "source": [
    "# Load in filtered data"
   ]
  },
  {
   "cell_type": "code",
   "execution_count": null,
   "id": "066f8a6f",
   "metadata": {},
   "outputs": [],
   "source": [
    "\n",
    "\n",
    "\n",
    "filtered_combined= anndata.read_h5ad('/Users/lingting/Documents/GVHD_project/Paper_ready_pipeline/anndata_file/filtered_combined_all_patientID_f.h5ad')\n",
    "\n",
    "\n"
   ]
  },
  {
   "cell_type": "code",
   "execution_count": null,
   "id": "5bc58bda-b26e-43db-bcfd-a9aa9ab60bb3",
   "metadata": {},
   "outputs": [],
   "source": [
    "sc.pl.umap(filtered_combined, color = ['leiden_0.15','XBP1','IRF4','SPIB','PAX5'])"
   ]
  },
  {
   "cell_type": "code",
   "execution_count": null,
   "id": "1330f25d-adc1-4094-93d5-52744dbddf65",
   "metadata": {},
   "outputs": [],
   "source": [
    "sc.tl.leiden(filtered_combined,resolution=0.18,key_added='leiden_0.2' )#,resolution=0.1,"
   ]
  },
  {
   "cell_type": "code",
   "execution_count": null,
   "id": "e83f216d-da49-4a81-ac95-a3d1f233e9b2",
   "metadata": {},
   "outputs": [],
   "source": [
    "sc.pl.umap(filtered_combined, color = ['leiden_0.2'])"
   ]
  },
  {
   "cell_type": "code",
   "execution_count": null,
   "id": "6c5001fa-b5e3-4a4c-a615-5b5f858410b6",
   "metadata": {},
   "outputs": [],
   "source": [
    "sc.tl.rank_genes_groups(filtered_combined, groupby=\"leiden_0.2\",use_raw=False, method='wilcoxon')"
   ]
  },
  {
   "cell_type": "code",
   "execution_count": null,
   "id": "f5342ed8-fa93-4dd7-a91d-4310d51e048b",
   "metadata": {},
   "outputs": [],
   "source": [
    "dedf = sc.get.rank_genes_groups_df(filtered_combined, group=None)\n",
    "#dedf.to_csv('/burg/iicd/users/ls3456/GVHD/adata_file/dedf_david_f.csv')"
   ]
  },
  {
   "cell_type": "code",
   "execution_count": null,
   "id": "64e36883-cb4a-4743-b6d9-3c63227fba6c",
   "metadata": {},
   "outputs": [],
   "source": [
    "dedf[dedf['group'] ==\"9\"].head(30)['names']"
   ]
  },
  {
   "cell_type": "code",
   "execution_count": null,
   "id": "0a634c59-66cf-481c-ae82-94818bcb0e8c",
   "metadata": {},
   "outputs": [],
   "source": [
    "dedf[dedf['group'] ==\"10\"].head(30)['names']"
   ]
  },
  {
   "cell_type": "code",
   "execution_count": null,
   "id": "e39aae6a-927e-44f5-84ee-607e7101fe02",
   "metadata": {
    "scrolled": true
   },
   "outputs": [],
   "source": [
    "sc.pl.umap(filtered_combined, color = dedf[dedf['group'] ==\"9\"].head(100)['names'])"
   ]
  },
  {
   "cell_type": "code",
   "execution_count": null,
   "id": "2fda3d68-d1ad-4c21-8164-cc2d65d18ca6",
   "metadata": {
    "scrolled": true
   },
   "outputs": [],
   "source": [
    "sc.pl.umap(filtered_combined, color = dedf[dedf['group'] ==\"10\"].head(100)['names'])"
   ]
  },
  {
   "cell_type": "code",
   "execution_count": null,
   "id": "07a66302-6246-427a-a1ba-3b5849ae9e3b",
   "metadata": {
    "scrolled": true
   },
   "outputs": [],
   "source": [
    "sc.pl.umap(filtered_combined, color = dedf[dedf['group'] ==\"6\"].head(200)['names'])"
   ]
  },
  {
   "cell_type": "code",
   "execution_count": null,
   "id": "6e82824e-b2d8-4726-b299-5ab4f29b0a4c",
   "metadata": {},
   "outputs": [],
   "source": [
    "#Epi TA\n",
    "sc.pl.umap(filtered_combined, color = ['leiden_0.15','SOX9','CENPM','EPHB2'])"
   ]
  },
  {
   "cell_type": "code",
   "execution_count": null,
   "id": "29eba7b2-0ef6-4157-b5ad-f7d272318efd",
   "metadata": {},
   "outputs": [],
   "source": [
    "#Epi TA\n",
    "sc.pl.umap(filtered_combined, color = ['leiden_0.15','OLFM4'])"
   ]
  },
  {
   "cell_type": "code",
   "execution_count": null,
   "id": "37589363-8c60-47e6-ad29-0b23cd87bf52",
   "metadata": {},
   "outputs": [],
   "source": [
    "#Epi stem cells"
   ]
  },
  {
   "cell_type": "code",
   "execution_count": null,
   "id": "c5e65440-ff66-4e81-9a27-a048628b5166",
   "metadata": {},
   "outputs": [],
   "source": [
    "sc.pl.umap(filtered_combined, color = ['leiden_0.15','LGR5','AXIN2','ASCL2','SMOC2'])"
   ]
  },
  {
   "cell_type": "code",
   "execution_count": null,
   "id": "251e91a1-669f-4cbd-9131-6806f8dbed10",
   "metadata": {},
   "outputs": [],
   "source": [
    "dedf = pd.read_csv('/Users/lingting/Documents/GVHD_project/Paper_ready_pipeline/anndata_file/dedf_Tcells_leiden_0.5_w_notraw.csv')\n",
    "dedf"
   ]
  },
  {
   "cell_type": "code",
   "execution_count": null,
   "id": "f8c900e3-9277-42be-8bc2-54e25115bf3e",
   "metadata": {},
   "outputs": [],
   "source": [
    "sc.pl.umap(filtered_combined, color = dedf[dedf['group'] ==1].head(200)['names'])"
   ]
  },
  {
   "cell_type": "code",
   "execution_count": null,
   "id": "ffbe4054-ee9e-450a-8475-0e2f7d89e1a3",
   "metadata": {},
   "outputs": [],
   "source": [
    "dedf = pd.read_csv('/Users/lingting/Documents/GVHD_project/Paper_ready_pipeline/anndata_file/tworesident_cluster.csv')\n",
    "dedf\n",
    "sc.pl.umap(filtered_combined, color = dedf[dedf['group'] ==1].head(100)['names'])"
   ]
  },
  {
   "cell_type": "code",
   "execution_count": null,
   "id": "5fea33a2-ebec-44c8-8a06-ff4a8e737d99",
   "metadata": {},
   "outputs": [],
   "source": [
    "sc.pl.umap(filtered_combined, color = dedf[dedf['group'] ==0].head(100)['names'])"
   ]
  },
  {
   "cell_type": "code",
   "execution_count": null,
   "id": "660398c7-cb0b-41fb-862c-92eb96b4294d",
   "metadata": {},
   "outputs": [],
   "source": [
    "sc.pl.umap(filtered_combined, color = ['EPHB2','ASCL2','LGR5'])"
   ]
  },
  {
   "cell_type": "code",
   "execution_count": null,
   "id": "eed258bc-b45a-4881-b276-df277d4cfe7b",
   "metadata": {},
   "outputs": [],
   "source": [
    "epithelial = filtered_combined[filtered_combined.obs['leiden_0.15'].isin([\"6\",\"7\"])]"
   ]
  },
  {
   "cell_type": "code",
   "execution_count": null,
   "id": "cf05a2b0-f378-4c0e-8f12-a4ef1bc4eee5",
   "metadata": {},
   "outputs": [],
   "source": [
    "sc.tl.leiden(epithelial,resolution=0.5,key_added='leiden_0.5' )\n",
    "sc.pl.umap(epithelial, color = ['leiden_0.5'])"
   ]
  },
  {
   "cell_type": "code",
   "execution_count": null,
   "id": "508835c5-6d4c-4f1b-aae4-a9d966e705ac",
   "metadata": {},
   "outputs": [],
   "source": []
  },
  {
   "cell_type": "code",
   "execution_count": null,
   "id": "9650de72-d1f9-4c75-be4e-0558bfacb24c",
   "metadata": {},
   "outputs": [],
   "source": [
    "sc.pl.umap(epithelial, color = ['VCAM1','PRF1'])"
   ]
  },
  {
   "cell_type": "code",
   "execution_count": null,
   "id": "65b91e29-9db0-4f8f-a8ae-ac6aa8c85bb3",
   "metadata": {},
   "outputs": [],
   "source": []
  },
  {
   "cell_type": "markdown",
   "id": "10b4856c",
   "metadata": {},
   "source": [
    "# Major cell type markers"
   ]
  },
  {
   "cell_type": "code",
   "execution_count": null,
   "id": "1645324d-c86f-4923-838c-d7c700da1e8f",
   "metadata": {},
   "outputs": [],
   "source": [
    "#We combined macrophage, monocyte, dc and myeloid all into myeloid\n",
    "markers = pd.read_excel('/Users/lingting/Documents/GVHD_project/Paper_ready_pipeline/Major_cell_type_markers.xlsx')\n",
    "markers.head()\n",
    "\n",
    "Cell_type_interest = [\"Myeloid\",\"NK\",\"B Cells\",\"T cells\",\"DC\",'Macrophage','Monocyte','Endothelial','Fibroblast']\n",
    "markers_df = markers[Cell_type_interest]\n",
    "markers_df.head()\n",
    "\n",
    "for c in Cell_type_interest:\n",
    "    marker_genes = []\n",
    "    cc = np.array(markers_df[c].values.tolist())\n",
    "    marker_genes = np.append(marker_genes,[x for x in cc if str(x) != 'nan'])\n",
    "    real_genes = np.intersect1d(filtered_combined.var.index, marker_genes)\n",
    "    print (c)\n",
    "    print(marker_genes)\n",
    "    print(\"Genes that are in the filtered combined adata\")\n",
    "    print(real_genes)\n",
    "    #Tcells_sc_3.obs['naive'] = np.sum(Tcells_sc_3.to_df().loc[:,naive_genes], axis= 1)/len(naive_genes)\n",
    "    val = np.sum(filtered_combined.to_df().loc[:,real_genes],axis=1) # sum for each row across columns\n",
    "    val = np.array(val).flatten()\n",
    "\n",
    "    label = str(c)\n",
    "    filtered_combined.obs[label] = val/len(real_genes)\n",
    "\n",
    "    sc.pl.scatter(filtered_combined,color=label,legend_loc='none',basis='umap',color_map='Spectral_r')\n",
    "    sc.pl.umap(filtered_combined, color=real_genes)"
   ]
  },
  {
   "cell_type": "code",
   "execution_count": null,
   "id": "efad5b74-e19a-4937-838c-3ee54d40ffe1",
   "metadata": {},
   "outputs": [],
   "source": [
    "markers = pd.read_csv('/Users/lingting/Documents/GVHD_project/Spatial data/data/GVHD_spatial_signature_v8_major_curated_unique_epi.csv',  encoding='latin1')\n",
    "markers.head()"
   ]
  },
  {
   "cell_type": "code",
   "execution_count": null,
   "id": "2ad0ce10-fed4-430a-8f2b-ba4daf86bc90",
   "metadata": {},
   "outputs": [],
   "source": [
    "import matplotlib as mpl\n",
    "# Update your existing rcParams\n",
    "# Update your existing rcParams\n",
    "mpl.rcParams.update({\n",
    "    'font.size': 8,\n",
    "    'svg.fonttype': 'none',\n",
    "    'font.family': 'Arial',\n",
    "    'figure.figsize': (3, 3),  # Set default figure size to 3×3 inches\n",
    "    'lines.linewidth': 1  # Set default line width to 1\n",
    "})\n",
    "mpl.rcParams['axes.titlesize'] = 8\n",
    "mpl.rcParams['xtick.labelsize'] = 8  # Colorbar tick label size \n",
    "mpl.rcParams['ytick.labelsize'] = 8  # Colorbar tick label size\n",
    "\n",
    "\n",
    "Cell_type_interest = [\"Myeloid\",\"NK cells\",\"B cells\",\"T cells\",\"Plasma cells\",'Epithelial cells_6','Epithelial cell_9','Epithelial cell_10','Endothelial cell','Fibroblast', 'Mast cell']\n",
    "markers_df = markers[Cell_type_interest]\n",
    "markers_df.head()\n",
    "\n",
    "for c in Cell_type_interest:\n",
    "    marker_genes = []\n",
    "    cc = np.array(markers_df[c].values.tolist())\n",
    "    marker_genes = np.append(marker_genes,[x for x in cc if str(x) != 'nan'])\n",
    "    real_genes = np.intersect1d(filtered_combined.var.index, marker_genes)\n",
    "    print (c)\n",
    "    print(marker_genes)\n",
    "    print(\"Genes that are in the filtered combined adata\")\n",
    "    print(real_genes)\n",
    "    #Tcells_sc_3.obs['naive'] = np.sum(Tcells_sc_3.to_df().loc[:,naive_genes], axis= 1)/len(naive_genes)\n",
    "    val = np.sum(filtered_combined.to_df().loc[:,real_genes],axis=1) # sum for each row across columns\n",
    "    val = np.array(val).flatten()\n",
    "\n",
    "    label = str(c)\n",
    "    filtered_combined.obs[label] = val/len(real_genes)\n",
    "\n",
    "    #sc.pl.scatter(filtered_combined,color=label,legend_loc='none',basis='umap',color_map='Spectral_r')\n",
    "\n",
    "    plt.figure(figsize=(2, 2))  # Width, height in inches\n",
    "\n",
    "    # Use sc.pl instead of sc.pl.scatter (more flexible plotting)\n",
    "    ax = sc.pl.scatter(filtered_combined, color=label, legend_loc='none', basis='umap',\n",
    "                      color_map='Spectral_r', show=False)\n",
    "    plt.tight_layout(pad=1.5)  # Increase padding around the figure\n",
    "    # Save the figure\n",
    "    plt.savefig(f'/Users/lingting/Documents/GVHD_project/Paper_ready_pipeline/Figures/single_cell_figures/{c}_signature_all_cells.png', \n",
    "               dpi=300, bbox_inches='tight', transparent=False)\n",
    "\n",
    "    # Save the figure\n",
    "    plt.savefig(f'/Users/lingting/Documents/GVHD_project/Paper_ready_pipeline/Figures/single_cell_figures/{c}_signature_all_cells.pdf', \n",
    "               dpi=300, bbox_inches='tight', transparent=False)\n",
    "\n",
    "    plt.savefig(f'/Users/lingting/Documents/GVHD_project/Paper_ready_pipeline/Figures/single_cell_figures/{c}_signature_all_cells.svg', \n",
    "               dpi=300, bbox_inches='tight', transparent=False)\n",
    "    \n",
    "\n",
    "    \n",
    "\n",
    "\n",
    "    sc.pl.umap(filtered_combined, color=real_genes)\n",
    "\n",
    "\n",
    "    "
   ]
  },
  {
   "cell_type": "code",
   "execution_count": null,
   "id": "30b5eddc-b9db-4a84-9b23-96d9c45438a3",
   "metadata": {
    "scrolled": true
   },
   "outputs": [],
   "source": [
    "#We combined macrophage, monocyte, dc and myeloid all into myeloid\n",
    "markers = pd.read_csv('/Users/lingting/Documents/GVHD_project/Spatial data/data/GVHD_spatial_signature_v4_AU_major_tcells.csv')\n",
    "markers.head()\n",
    "\n",
    "Cell_type_interest = markers.columns\n",
    "markers_df = markers[Cell_type_interest]\n",
    "markers_df.head()\n",
    "\n",
    "for c in Cell_type_interest:\n",
    "    marker_genes = []\n",
    "    cc = np.array(markers_df[c].values.tolist())\n",
    "    marker_genes = np.append(marker_genes,[x for x in cc if str(x) != 'nan'])\n",
    "    print(marker_genes)\n",
    "    real_genes = np.intersect1d(filtered_combined.var.index, marker_genes)\n",
    "    print (c)\n",
    "    print(marker_genes)\n",
    "    print(\"Genes that are in the filtered combined adata\")\n",
    "    print(real_genes)\n",
    "    #Tcells_sc_3.obs['naive'] = np.sum(Tcells_sc_3.to_df().loc[:,naive_genes], axis= 1)/len(naive_genes)\n",
    "    val = np.sum(filtered_combined.to_df().loc[:,real_genes],axis=1) # sum for each row across columns\n",
    "    val = np.array(val).flatten()\n",
    "\n",
    "    label = str(c)\n",
    "    filtered_combined.obs[label] = val/len(real_genes)\n",
    "\n",
    "    sc.pl.scatter(filtered_combined,color=label,legend_loc='none',basis='umap',color_map='Spectral_r')\n",
    "    sc.pl.umap(filtered_combined, color=real_genes)"
   ]
  },
  {
   "cell_type": "code",
   "execution_count": null,
   "id": "3ed6ae34-b2ab-4132-aa56-785493332b79",
   "metadata": {
    "scrolled": true
   },
   "outputs": [],
   "source": [
    "#We combined macrophage, monocyte, dc and myeloid all into myeloid\n",
    "markers = pd.read_csv('/Users/lingting/Documents/GVHD_project/Spatial data/data/GVHD_spatial_signature_v7.csv')\n",
    "markers.head()\n",
    "\n",
    "Cell_type_interest = markers.columns\n",
    "markers_df = markers[Cell_type_interest]\n",
    "markers_df.head()\n",
    "\n",
    "for c in Cell_type_interest:\n",
    "    marker_genes = []\n",
    "    cc = np.array(markers_df[c].values.tolist())\n",
    "    marker_genes = np.append(marker_genes,[x for x in cc if str(x) != 'nan'])\n",
    "    print(marker_genes)\n",
    "    real_genes = np.intersect1d(filtered_combined.var.index, marker_genes)\n",
    "    print (c)\n",
    "    print(marker_genes)\n",
    "    print(\"Genes that are in the filtered combined adata\")\n",
    "    print(real_genes)\n",
    "    #Tcells_sc_3.obs['naive'] = np.sum(Tcells_sc_3.to_df().loc[:,naive_genes], axis= 1)/len(naive_genes)\n",
    "    val = np.sum(filtered_combined.to_df().loc[:,real_genes],axis=1) # sum for each row across columns\n",
    "    val = np.array(val).flatten()\n",
    "\n",
    "    label = str(c)\n",
    "    filtered_combined.obs[label] = val/len(real_genes)\n",
    "\n",
    "    sc.pl.scatter(filtered_combined,color=label,legend_loc='none',basis='umap',color_map='Spectral_r')\n",
    "    sc.pl.umap(filtered_combined, color=real_genes)"
   ]
  },
  {
   "cell_type": "code",
   "execution_count": null,
   "id": "e351389e",
   "metadata": {},
   "outputs": [],
   "source": [
    "#Plasma cell add to slides\n",
    "sc.pl.umap(filtered_combined, color = ['PRDM1','XBP1','IRF4', 'TRAC'])"
   ]
  },
  {
   "cell_type": "code",
   "execution_count": null,
   "id": "a781981d-9d46-4f17-857d-4c592d6a958d",
   "metadata": {},
   "outputs": [],
   "source": []
  },
  {
   "cell_type": "code",
   "execution_count": null,
   "id": "1296dab0",
   "metadata": {},
   "outputs": [],
   "source": [
    "#Mast cell\n",
    "sc.pl.umap(filtered_combined, color = [\"TPSAB1\",\"TPSB2\",'CMA1',\"CPA3\",'FCER1A','KIT','CD34'])"
   ]
  },
  {
   "cell_type": "code",
   "execution_count": null,
   "id": "510a049c-dfdb-40ab-a53e-0cbf49a94e34",
   "metadata": {},
   "outputs": [],
   "source": [
    "#Epithelial cells\n",
    "sc.pl.umap(filtered_combined, color=[\"EPCAM\"])"
   ]
  },
  {
   "cell_type": "code",
   "execution_count": null,
   "id": "de2a81c7-4ad1-43a0-8928-6c339f7d7e4a",
   "metadata": {},
   "outputs": [],
   "source": [
    "sc.pl.umap(filtered_combined,color=\"leiden_0.15\")\n"
   ]
  },
  {
   "cell_type": "code",
   "execution_count": null,
   "id": "a7b3aad2-6838-44b6-8005-2cc85923cb4f",
   "metadata": {},
   "outputs": [],
   "source": [
    "def filter_small_clusters(adata, cluster_key='leiden_0.15', min_cells=100):\n",
    "    \"\"\"\n",
    "    Filter out small clusters from AnnData object\n",
    "    \n",
    "    Parameters:\n",
    "    -----------\n",
    "    adata : AnnData object\n",
    "        Annotated data matrix\n",
    "    cluster_key : str\n",
    "        Key for clusters in adata.obs (default: 'leiden_0.15')\n",
    "    min_cells : int\n",
    "        Minimum number of cells required to keep a cluster (default: 100)\n",
    "    \n",
    "    Returns:\n",
    "    --------\n",
    "    AnnData object with small clusters filtered out\n",
    "    \"\"\"\n",
    "    # Get cluster sizes\n",
    "    cluster_sizes = adata.obs[cluster_key].value_counts()\n",
    "    print(f\"Original number of clusters: {len(cluster_sizes)}\")\n",
    "    \n",
    "    # Identify large enough clusters\n",
    "    large_clusters = cluster_sizes[cluster_sizes >= min_cells].index\n",
    "    print(f\"Number of clusters after filtering: {len(large_clusters)}\")\n",
    "    \n",
    "    # Create a boolean mask for cells in large clusters\n",
    "    large_cluster_mask = adata.obs[cluster_key].isin(large_clusters)\n",
    "    \n",
    "    # Filter the AnnData object\n",
    "    adata_filtered = adata[large_cluster_mask].copy()\n",
    "    \n",
    "    # Print summary statistics\n",
    "    print(\"\\nCluster sizes after filtering:\")\n",
    "    print(adata_filtered.obs[cluster_key].value_counts())\n",
    "    \n",
    "    return adata_filtered"
   ]
  },
  {
   "cell_type": "code",
   "execution_count": null,
   "id": "228de32f-27c9-4a73-aea7-7c173e412a9d",
   "metadata": {},
   "outputs": [],
   "source": [
    "filtered_combined.obs['leiden_0.15']"
   ]
  },
  {
   "cell_type": "code",
   "execution_count": null,
   "id": "58b972e8-dbc6-4980-ba6c-241f9fe1c671",
   "metadata": {},
   "outputs": [],
   "source": [
    "filtered_combined = filter_small_clusters(filtered_combined, min_cells=500)"
   ]
  },
  {
   "cell_type": "code",
   "execution_count": null,
   "id": "31191c2d-2f57-4e52-9d7a-872b8810af5d",
   "metadata": {
    "scrolled": true
   },
   "outputs": [],
   "source": [
    "new_cluster_names = ['T cells','Plasma cells',\"Myeloid\",\"Fibroblast\",\"B cells\",\"NK cells\",\"Epithelial\",\"Epithelial \",'Endothelial', \"Mast cells\",\"Fibroblast \"]\n",
    "filtered_combined.rename_categories('leiden_0.15', new_cluster_names)\n",
    "\n",
    "sc.pl.umap(filtered_combined, color='leiden_0.15', legend_loc='on data', title='', frameon=False, save='.pdf')"
   ]
  },
  {
   "cell_type": "code",
   "execution_count": null,
   "id": "7f69622f-d883-40af-b0f5-88b4888b03f8",
   "metadata": {
    "scrolled": true
   },
   "outputs": [],
   "source": [
    "filtered_combined.uns['leiden_0.15_colors']"
   ]
  },
  {
   "cell_type": "code",
   "execution_count": null,
   "id": "31ba5697-2185-4609-ad6d-150db97b3085",
   "metadata": {
    "scrolled": true
   },
   "outputs": [],
   "source": [
    "filtered_combined.uns['leiden_0.15_colors'] = ['#2E8D9E', '#4ECDC4', '#A3E6DE', '#FBB5B1', '#FF6B6B', '#FFA96C', '#FFE66D', '#D2AD73', '#A57378', '#AA33FF', '#FF99CF']"
   ]
  },
  {
   "cell_type": "markdown",
   "id": "9ced2ff2-77bb-4ad5-8a70-03e0b503a511",
   "metadata": {},
   "source": [
    "# Figure 4a"
   ]
  },
  {
   "cell_type": "code",
   "execution_count": null,
   "id": "f8796f6e-9372-4f36-b482-5c97d73fec68",
   "metadata": {
    "scrolled": true
   },
   "outputs": [],
   "source": [
    "import matplotlib as mpl\n",
    "# Update your existing rcParams\n",
    "mpl.rcParams.update({\n",
    "    'font.size': 8,\n",
    "    'svg.fonttype': 'none',\n",
    "    'font.family': 'Arial',\n",
    "    'figure.figsize': (2.5, 2.5)  # Set default figure size to 6×4 inches\n",
    "})\n",
    "mpl.rcParams['axes.titlesize'] = 8\n",
    "mpl.rcParams['xtick.labelsize'] = 8  # Colorbar tick label size \n",
    "mpl.rcParams['ytick.labelsize'] = 8  # Colorbar tick label size\n",
    "\n",
    "# Generate UMAP plot with larger dots and transparency\n",
    "sc.pl.umap(\n",
    "    filtered_combined,\n",
    "    color='leiden_0.15',\n",
    "    legend_loc='on data',\n",
    "    title='',\n",
    "    frameon=False,\n",
    "    size=1,  # Adjust this value to make the dots bigger (default is 120)\n",
    "    alpha=0.6,  # Add transparency to the dots (range is 0 to 1)\n",
    "    show=False  # We will save it manually\n",
    ")\n",
    "\n",
    "# Save the plot manually with DPI 300\n",
    "plt.savefig('/Users/lingting/Documents/GVHD_project/Paper_ready_pipeline/Figures/single_cell_figures/umap_clusters_major_cell_types.pdf', dpi=300, bbox_inches='tight', transparent = True)\n",
    "plt.savefig('/Users/lingting/Documents/GVHD_project/Paper_ready_pipeline/Figures/single_cell_figures/umap_clusters_major_cell_types.png', dpi=300, bbox_inches='tight', transparent = True)\n",
    "plt.savefig('/Users/lingting/Documents/GVHD_project/Paper_ready_pipeline/Figures/single_cell_figures/umap_clusters_major_cell_types.svg', dpi=300, bbox_inches='tight', transparent = True)\n",
    "# Show the plot (optional, if you want to see it before saving)\n",
    "plt.show()"
   ]
  },
  {
   "cell_type": "code",
   "execution_count": null,
   "id": "9a4b5a44-6f59-47d3-98df-102aef8c9c5a",
   "metadata": {
    "scrolled": true
   },
   "outputs": [],
   "source": [
    "# Set the figure size manually\n",
    "\n",
    "# Generate UMAP plot with larger dots and transparency\n",
    "sc.pl.umap(\n",
    "    filtered_combined,\n",
    "    color='PatientID',\n",
    "    title='',\n",
    "    frameon=False,\n",
    "    size=1,  # Adjust this value to make the dots bigger (default is 120)\n",
    "    alpha=0.6,  # Add transparency to the dots (range is 0 to 1)\n",
    "    show=False  # We will save it manually\n",
    ")\n",
    "\n",
    "# Save the plot manually with DPI 300\n",
    "plt.savefig('/Users/lingting/Documents/GVHD_project/Paper_ready_pipeline/Figures/single_cell_figures/umap_clusters_major_cell_types_patientID.pdf', dpi=300, bbox_inches='tight', transparent = True)\n",
    "plt.savefig('/Users/lingting/Documents/GVHD_project/Paper_ready_pipeline/Figures/single_cell_figures/umap_clusters_major_cell_types_patientID.png', dpi=300, bbox_inches='tight', transparent = True)\n",
    "plt.savefig('/Users/lingting/Documents/GVHD_project/Paper_ready_pipeline/Figures/single_cell_figures/umap_clusters_major_cell_types_patientID.svg', dpi=300, bbox_inches='tight', transparent = True)\n",
    "\n",
    "# Show the plot (optional, if you want to see it before saving)\n",
    "plt.show()"
   ]
  },
  {
   "cell_type": "code",
   "execution_count": null,
   "id": "424051f0-7e9d-49b6-86b1-7b99a7b51d65",
   "metadata": {
    "scrolled": true
   },
   "outputs": [],
   "source": [
    "cluster_sizes = filtered_combined.obs['leiden_0.15'].value_counts()\n",
    "cluster_sizes"
   ]
  },
  {
   "cell_type": "code",
   "execution_count": null,
   "id": "1e078144-a3eb-4b98-aac7-801508efb9bc",
   "metadata": {},
   "outputs": [],
   "source": [
    "#filtered_anndata = anndata_object[anndata_object.obs['cluster_column'].isin(selected_clusters)]"
   ]
  },
  {
   "cell_type": "code",
   "execution_count": null,
   "id": "10ad6a79",
   "metadata": {},
   "outputs": [],
   "source": [
    "results_file_all = '/Users/lingting/Documents/GVHD_project/Paper_ready_pipeline/anndata_file/filtered_combined_all_PatientID_f.h5ad'\n",
    "filtered_combined.write(results_file_all)"
   ]
  },
  {
   "cell_type": "markdown",
   "id": "6d470589",
   "metadata": {},
   "source": [
    "# Cell type identification"
   ]
  },
  {
   "cell_type": "code",
   "execution_count": null,
   "id": "d2b53914",
   "metadata": {},
   "outputs": [],
   "source": [
    "#!pip install celltypist"
   ]
  },
  {
   "cell_type": "code",
   "execution_count": null,
   "id": "0887e23c",
   "metadata": {},
   "outputs": [],
   "source": [
    "import celltypist\n",
    "from celltypist import models"
   ]
  },
  {
   "cell_type": "code",
   "execution_count": null,
   "id": "0862f98e",
   "metadata": {
    "scrolled": true
   },
   "outputs": [],
   "source": [
    "models.download_models(force_update = True)"
   ]
  },
  {
   "cell_type": "code",
   "execution_count": null,
   "id": "518bd756",
   "metadata": {},
   "outputs": [],
   "source": [
    "filtered_combined.uns['log1p'][\"base\"] = None"
   ]
  },
  {
   "cell_type": "code",
   "execution_count": null,
   "id": "2010c217",
   "metadata": {},
   "outputs": [],
   "source": [
    "filtered_combined.obs_names_make_unique()"
   ]
  },
  {
   "cell_type": "code",
   "execution_count": null,
   "id": "340a3cd4",
   "metadata": {},
   "outputs": [],
   "source": [
    "predictions = celltypist.annotate(filtered_combined, model = 'Immune_All_High.pkl', majority_voting = True)"
   ]
  },
  {
   "cell_type": "code",
   "execution_count": null,
   "id": "ff959bec",
   "metadata": {},
   "outputs": [],
   "source": [
    "filtered_combined.obs['predicted_labels'] = predictions.predicted_labels['predicted_labels'].values"
   ]
  },
  {
   "cell_type": "code",
   "execution_count": null,
   "id": "22e2ff25",
   "metadata": {},
   "outputs": [],
   "source": [
    "sc.pl.umap(filtered_combined, color=['leiden_0.15', 'predicted_labels'],legend_loc='on data')"
   ]
  },
  {
   "cell_type": "code",
   "execution_count": null,
   "id": "3679e08c",
   "metadata": {},
   "outputs": [],
   "source": [
    "sc.pl.umap(filtered_combined, color=['predicted_labels'])"
   ]
  },
  {
   "cell_type": "code",
   "execution_count": null,
   "id": "38094c59",
   "metadata": {},
   "outputs": [],
   "source": [
    "sc.pl.umap(filtered_combined, color=['leiden_0.15'])"
   ]
  }
 ],
 "metadata": {
  "kernelspec": {
   "display_name": "Python 3 (ipykernel)",
   "language": "python",
   "name": "python3"
  },
  "language_info": {
   "codemirror_mode": {
    "name": "ipython",
    "version": 3
   },
   "file_extension": ".py",
   "mimetype": "text/x-python",
   "name": "python",
   "nbconvert_exporter": "python",
   "pygments_lexer": "ipython3",
   "version": "3.11.8"
  },
  "vscode": {
   "interpreter": {
    "hash": "15a17b4873019ca273a3ebd27410a531cffac751f84497b09afeba222ba2b43d"
   }
  }
 },
 "nbformat": 4,
 "nbformat_minor": 5
}
