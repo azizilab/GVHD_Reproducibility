{
 "cells": [
  {
   "cell_type": "code",
   "execution_count": null,
   "metadata": {
    "pycharm": {
     "name": "#%%\n"
    }
   },
   "outputs": [],
   "source": [
    "from glob import glob\n",
    "import numpy as np\n",
    "import pandas as pd\n",
    "import scanpy as sc\n",
    "import anndata as ad\n",
    "import anndata\n",
    "import pickle\n",
    "import matplotlib\n",
    "import matplotlib.pyplot as plt\n",
    "from tqdm import tqdm\n",
    "import gc\n",
    "import tarfile\n",
    "#import community\n",
    "#from community import community_louvain\n",
    "#import community.community_louvain as community_louvain\n",
    "import networkx as nx\n",
    "from sklearn.neighbors import kneighbors_graph\n",
    "from scipy import stats\n",
    "import seaborn as sns\n",
    "import collections\n",
    "import scirpy as ir\n",
    "import random\n",
    "random.seed(10)\n",
    "#https://icbi-lab.github.io/scirpy/latest/tutorials/tutorial_3k_tcr.html\n",
    "# https://icbi-lab.github.io/scirpy-paper/wu2020.html"
   ]
  },
  {
   "cell_type": "code",
   "execution_count": null,
   "metadata": {},
   "outputs": [],
   "source": [
    "#pip install python-igraph==0.9.11"
   ]
  },
  {
   "cell_type": "code",
   "execution_count": null,
   "metadata": {},
   "outputs": [],
   "source": [
    "#!pip install numexpr==2.7.3"
   ]
  },
  {
   "cell_type": "code",
   "execution_count": null,
   "metadata": {},
   "outputs": [],
   "source": [
    "#!pip list"
   ]
  },
  {
   "cell_type": "code",
   "execution_count": null,
   "metadata": {},
   "outputs": [],
   "source": [
    "!conda list envs"
   ]
  },
  {
   "cell_type": "code",
   "execution_count": null,
   "metadata": {},
   "outputs": [],
   "source": [
    "#!conda install -c bioconda parasail\n",
    "#!pip install scirpy==0.12.2\n",
    "\n",
    "\n",
    "#!pip install scirpy==0.12.2\n",
    "#!pip install scirpy\n"
   ]
  },
  {
   "cell_type": "code",
   "execution_count": null,
   "metadata": {},
   "outputs": [],
   "source": [
    "#!pip list"
   ]
  },
  {
   "cell_type": "code",
   "execution_count": null,
   "metadata": {},
   "outputs": [],
   "source": [
    "#!pip install community\n",
    "\n",
    "#!pip install community\n",
    "\n",
    "#!pip install scanpy\n",
    "\n",
    "#!pip install NumPy==1.22.3\n",
    "\n",
    "#!pip install daal==2021.4.0\n",
    "\n",
    "#!pip install Numba\n",
    "\n",
    "#!pip list\n",
    "#!pip install openpyxl==3.0.7"
   ]
  },
  {
   "cell_type": "code",
   "execution_count": null,
   "metadata": {},
   "outputs": [],
   "source": [
    "gc.collect()"
   ]
  },
  {
   "cell_type": "code",
   "execution_count": null,
   "metadata": {},
   "outputs": [],
   "source": [
    "meta_df = pd.read_excel('/burg/iicd/users/ls3456/GVHD/scRNAseq_TCR_samples_meta_LS-13_f.xlsx')\n",
    "meta_df.index = meta_df['Sample ID']"
   ]
  },
  {
   "cell_type": "code",
   "execution_count": null,
   "metadata": {},
   "outputs": [],
   "source": [
    "tcell_ann = anndata.read_h5ad('/Users/lingting/Documents/GVHD_project/Paper_ready_pipeline/anndata_file/tcell_ann_concat_Tcell_only_annotated.h5ad')"
   ]
  },
  {
   "cell_type": "code",
   "execution_count": null,
   "metadata": {},
   "outputs": [],
   "source": [
    "tcell_ann"
   ]
  },
  {
   "cell_type": "code",
   "execution_count": null,
   "metadata": {},
   "outputs": [],
   "source": [
    "sc.pl.umap(tcell_ann, color=['leiden_0.5'], legend_loc='on data')"
   ]
  },
  {
   "cell_type": "code",
   "execution_count": null,
   "metadata": {
    "scrolled": true
   },
   "outputs": [],
   "source": [
    "tcell_ann.obs['leiden_0.5'].cat.categories"
   ]
  },
  {
   "cell_type": "markdown",
   "metadata": {},
   "source": [
    "# Load in TCR data"
   ]
  },
  {
   "cell_type": "code",
   "execution_count": null,
   "metadata": {},
   "outputs": [],
   "source": [
    "tcell_ann.obs[\"SampleID\"]"
   ]
  },
  {
   "cell_type": "code",
   "execution_count": null,
   "metadata": {},
   "outputs": [],
   "source": [
    "tcell_ann_copy = tcell_ann"
   ]
  },
  {
   "cell_type": "code",
   "execution_count": null,
   "metadata": {},
   "outputs": [],
   "source": [
    "Sample_list = [\"R096_Tc17_up\",\"R096_Tc17_low\",\"RH01\",\"RH02\",\"RH03\",\"RH04\",\"RH05\",\"RH06\",\"RH07\",\"RH08\",\"RH09\",\"RH10\",\"RH11\",\"RH12\",\"RH13\",\"RH14\",\"UA01\",\"UA02\",\"UA03\",\"UA04\",\"UA05\",\"UA06\",\"UA07\",\"UA08\",\"UA09\",\"UA10\",\"UA11\",\"UA12\",'UA13','UA14','UA15','UA19','UA20','UA21','UA22','UA23','UA24','UA26','UA30','UA31','UA32','UA33','UA34','UA35','UA36','UA37','UA38','UA39','UA40','UA41']\n",
    "tcell_ann =tcell_ann[tcell_ann.obs[\"SampleID\"].isin(Sample_list)]\n",
    "tcell_ann.obs[\"SampleID\"].unique()"
   ]
  },
  {
   "cell_type": "code",
   "execution_count": null,
   "metadata": {},
   "outputs": [],
   "source": [
    "#import muon as mu"
   ]
  },
  {
   "cell_type": "code",
   "execution_count": null,
   "metadata": {},
   "outputs": [],
   "source": [
    "#!pip install muon"
   ]
  },
  {
   "cell_type": "code",
   "execution_count": null,
   "metadata": {},
   "outputs": [],
   "source": [
    "data_directory = \"/burg/iicd/users/ls3456/GVHD/filtered_contig_annotations/\"\n",
    "for sample in Sample_list:\n",
    "    vars()[\"tcell_ann\" + str(sample)] = tcell_ann[tcell_ann.obs[\"SampleID\"]==sample]\n",
    "    vars()[\"tcr\" + str(sample)] = ir.io.read_10x_vdj(data_directory + str(sample) + \"_contig.csv\")\n",
    "    ir.pp.merge_with_ir(vars()[\"tcell_ann\" + str(sample)], vars()[\"tcr\" + str(sample)])\n",
    "    print(sample)"
   ]
  },
  {
   "cell_type": "code",
   "execution_count": null,
   "metadata": {},
   "outputs": [],
   "source": [
    "tcell_ann_concat = ad.concat([tcell_annR096_Tc17_up, tcell_annR096_Tc17_low, tcell_annRH01, tcell_annRH02, tcell_annRH03, tcell_annRH04, tcell_annRH05, tcell_annRH06, tcell_annRH07, tcell_annRH08, tcell_annRH09,tcell_annRH10, tcell_annRH11,tcell_annRH12,tcell_annRH13,tcell_annRH14, tcell_annUA01, tcell_annUA02, tcell_annUA03, tcell_annUA04, tcell_annUA05, tcell_annUA06, tcell_annUA07, tcell_annUA08,tcell_annUA09, tcell_annUA10, tcell_annUA11, tcell_annUA12,tcell_annUA13, tcell_annUA14,tcell_annUA15,tcell_annUA19,tcell_annUA20,tcell_annUA21,tcell_annUA22,tcell_annUA23,tcell_annUA24,tcell_annUA26,tcell_annUA30,tcell_annUA31,tcell_annUA32,tcell_annUA33,tcell_annUA34,tcell_annUA35,tcell_annUA36,tcell_annUA37,tcell_annUA38,tcell_annUA39,tcell_annUA40,tcell_annUA41], join=\"outer\")"
   ]
  },
  {
   "cell_type": "code",
   "execution_count": null,
   "metadata": {},
   "outputs": [],
   "source": [
    "tcell_ann"
   ]
  },
  {
   "cell_type": "code",
   "execution_count": null,
   "metadata": {},
   "outputs": [],
   "source": [
    "tcell_ann_concat"
   ]
  },
  {
   "cell_type": "code",
   "execution_count": null,
   "metadata": {},
   "outputs": [],
   "source": [
    "sc.pl.umap(tcell_ann_concat, color=[\"has_ir\"])"
   ]
  },
  {
   "cell_type": "code",
   "execution_count": null,
   "metadata": {},
   "outputs": [],
   "source": [
    "sc.pl.umap(tcell_ann_concat, color=[\"has_ir\",'PatientID','CD4','CD8A','CD3D','CD3E','CD3G',\"NCAM1\",\"KIR2DL4\",\"GNLY\",\"NCR1\",\"NKG7\",\"PTPRC\"], ncols= 2)"
   ]
  },
  {
   "cell_type": "code",
   "execution_count": null,
   "metadata": {},
   "outputs": [],
   "source": [
    "sc.pl.umap(tcell_ann_concat[tcell_ann_concat.obs['has_ir']==\"True\"], color=[\"has_ir\",'PatientID','CD4','CD8A'])"
   ]
  },
  {
   "cell_type": "code",
   "execution_count": null,
   "metadata": {},
   "outputs": [],
   "source": [
    "sc.pl.umap(\n",
    "    tcell_ann_concat,\n",
    "    color=[ \"CD8A\", \"CD4\", \"FOXP3\"],#\"sample\", \"patient\", \"cluster\",\n",
    "    ncols=2,\n",
    "    wspace=0.7,\n",
    ")"
   ]
  },
  {
   "cell_type": "code",
   "execution_count": null,
   "metadata": {},
   "outputs": [],
   "source": [
    "tcell_ann_concat"
   ]
  },
  {
   "cell_type": "code",
   "execution_count": null,
   "metadata": {},
   "outputs": [],
   "source": [
    "#del tcell_ann_concat.obs['IR_VDJ_2_duplicate_count']"
   ]
  },
  {
   "cell_type": "code",
   "execution_count": null,
   "metadata": {},
   "outputs": [],
   "source": [
    "tcell_ann_concat_files= '/burg/iicd/users/ls3456/GVHD/adata_file/tcell_ann_concat_all_f.h5ad'\n",
    "tcell_ann_concat.write(tcell_ann_concat_files)"
   ]
  },
  {
   "cell_type": "code",
   "execution_count": null,
   "metadata": {},
   "outputs": [],
   "source": [
    "\n",
    "tcell_ann_concat= anndata.read_h5ad('/burg/iicd/users/ls3456/GVHD/adata_file/tcell_ann_concat_all_f.h5ad'"
   ]
  },
  {
   "cell_type": "code",
   "execution_count": null,
   "metadata": {},
   "outputs": [],
   "source": [
    "#list(tcell_ann_concat.obs.columns)"
   ]
  },
  {
   "cell_type": "code",
   "execution_count": null,
   "metadata": {},
   "outputs": [],
   "source": [
    "parameters = ['PatientID', 'SampleID', 'FreshorFrozen',\n",
    "       'Days_post-Transplant', 'Tissue_Location', 'LPorIE',\n",
    "       'Enrichment Method', 'Pathological_grade_of_GVHD',\n",
    "       'Pathological_grade_of_GVHD_num', 'Grade_num', 'GVHD_Grade_1',\n",
    "       'GVHD_Grade_2', 'GVHD_Grade_3','Transplant_Conditioning', 'Gender','Time_1stGVHD', 'Donor',\n",
    "       'Disease', 'GVHD_Prophylaxis_Regimen', 'leiden_48']"
   ]
  },
  {
   "cell_type": "code",
   "execution_count": null,
   "metadata": {},
   "outputs": [],
   "source": [
    "for meta in parameters:\n",
    "    tcell_ann_concat.obs[meta] = pd.Categorical(tcell_ann_concat.obs[meta])"
   ]
  },
  {
   "cell_type": "code",
   "execution_count": null,
   "metadata": {
    "scrolled": true
   },
   "outputs": [],
   "source": [
    "ir.tl.chain_qc(tcell_ann_concat)\n",
    "for meta in parameters:\n",
    "    ax = ir.pl.group_abundance(tcell_ann_concat, groupby=\"receptor_subtype\", target_col=meta)\n"
   ]
  },
  {
   "cell_type": "code",
   "execution_count": null,
   "metadata": {},
   "outputs": [],
   "source": [
    "for meta in parameters:\n",
    "    ax = ir.pl.group_abundance(tcell_ann_concat, groupby=\"chain_pairing\", target_col=meta)"
   ]
  },
  {
   "cell_type": "code",
   "execution_count": null,
   "metadata": {},
   "outputs": [],
   "source": [
    "print(\n",
    "    \"Fraction of cells with more than one pair of TCRs: {:.2f}\".format(\n",
    "        np.sum(\n",
    "            tcell_ann_concat.obs[\"chain_pairing\"].isin(\n",
    "                [\"extra VJ\", \"extra VDJ\", \"two full chains\"]\n",
    "            )\n",
    "        )\n",
    "        / tcell_ann_concat.n_obs\n",
    "    )\n",
    ")"
   ]
  },
  {
   "cell_type": "code",
   "execution_count": null,
   "metadata": {},
   "outputs": [],
   "source": [
    "sc.pl.umap(tcell_ann_concat, color=\"chain_pairing\", groups=\"multichain\")"
   ]
  },
  {
   "cell_type": "code",
   "execution_count": null,
   "metadata": {},
   "outputs": [],
   "source": [
    "#TODO Should we filter out multichain or single chain, but their RNA seq data were fine"
   ]
  },
  {
   "cell_type": "code",
   "execution_count": null,
   "metadata": {},
   "outputs": [],
   "source": [
    "tcell_ann_concat"
   ]
  },
  {
   "cell_type": "code",
   "execution_count": null,
   "metadata": {},
   "outputs": [],
   "source": [
    "#sc.pl.umap(tcell_ann_concat,color='Louvain',legend_loc='on data')"
   ]
  },
  {
   "cell_type": "code",
   "execution_count": null,
   "metadata": {},
   "outputs": [],
   "source": [
    "ir.pp.ir_dist(tcell_ann_concat)"
   ]
  },
  {
   "cell_type": "code",
   "execution_count": null,
   "metadata": {},
   "outputs": [],
   "source": [
    "tcell_ann_concat.uns['ir_dist_nt_identity']"
   ]
  },
  {
   "cell_type": "code",
   "execution_count": null,
   "metadata": {},
   "outputs": [],
   "source": [
    "ir.tl.define_clonotypes(tcell_ann_concat, receptor_arms=\"all\", dual_ir=\"primary_only\")"
   ]
  },
  {
   "cell_type": "code",
   "execution_count": null,
   "metadata": {},
   "outputs": [],
   "source": [
    "tcell_ann_concat.uns['clone_id']"
   ]
  },
  {
   "cell_type": "code",
   "execution_count": null,
   "metadata": {},
   "outputs": [],
   "source": [
    "ir.tl.clonotype_network(tcell_ann_concat, min_cells=2)"
   ]
  },
  {
   "cell_type": "code",
   "execution_count": null,
   "metadata": {},
   "outputs": [],
   "source": [
    "parameters = ['PatientID', 'SampleID', 'FreshorFrozen','leiden_48',\n",
    "              'Tissue_Location', 'LPorIE',\n",
    "       'Enrichment Method', 'Pathological_grade_of_GVHD',\n",
    "       'Pathological_grade_of_GVHD_num', 'Grade_num', 'GVHD_Grade_1',\n",
    "       'GVHD_Grade_2', 'GVHD_Grade_3','Transplant_Conditioning', 'Gender','Time_1stGVHD', 'Donor',\n",
    "       'Disease', 'GVHD_Prophylaxis_Regimen','Days_post-Transplant']"
   ]
  },
  {
   "cell_type": "code",
   "execution_count": null,
   "metadata": {},
   "outputs": [],
   "source": [
    "# difficult to interpret so not ploting now\n",
    "for meta in parameters:\n",
    "    ir.pl.clonotype_network(tcell_ann_concat, color=meta, base_size=17, label_fontsize=7, panel_size=(6, 6))"
   ]
  },
  {
   "cell_type": "code",
   "execution_count": null,
   "metadata": {},
   "outputs": [],
   "source": [
    "ir.pl.clonotype_network(tcell_ann_concat, color=\"leiden_48\", base_size=6, show_labels = False, panel_size=(7, 7))"
   ]
  },
  {
   "cell_type": "code",
   "execution_count": null,
   "metadata": {},
   "outputs": [],
   "source": [
    "for meta in parameters:\n",
    "    ir.pl.clonotype_network(tcell_ann_concat, color=meta, base_size=17, show_labels = False, panel_size=(5, 5))"
   ]
  },
  {
   "cell_type": "code",
   "execution_count": null,
   "metadata": {},
   "outputs": [],
   "source": [
    "tcell_ann_concat.obs.index"
   ]
  },
  {
   "cell_type": "code",
   "execution_count": null,
   "metadata": {},
   "outputs": [],
   "source": [
    "ir.pp.ir_dist(\n",
    "    tcell_ann_concat,\n",
    "    metric=\"alignment\",\n",
    "    sequence=\"aa\",\n",
    "    cutoff=15,\n",
    ")\n"
   ]
  },
  {
   "cell_type": "code",
   "execution_count": null,
   "metadata": {},
   "outputs": [],
   "source": [
    "tcell_ann_concat.uns['ir_dist_aa_alignment']"
   ]
  },
  {
   "cell_type": "code",
   "execution_count": null,
   "metadata": {},
   "outputs": [],
   "source": [
    "ir.tl.define_clonotype_clusters(tcell_ann_concat, sequence=\"aa\", metric=\"alignment\", receptor_arms=\"all\", dual_ir=\"any\")"
   ]
  },
  {
   "cell_type": "code",
   "execution_count": null,
   "metadata": {},
   "outputs": [],
   "source": [
    "#!pip list"
   ]
  },
  {
   "cell_type": "code",
   "execution_count": null,
   "metadata": {},
   "outputs": [],
   "source": [
    "#!pip install numpy==1.23.1"
   ]
  },
  {
   "cell_type": "code",
   "execution_count": null,
   "metadata": {},
   "outputs": [],
   "source": [
    "import numpy as np\n",
    "np.bool = np.bool_"
   ]
  },
  {
   "cell_type": "code",
   "execution_count": null,
   "metadata": {},
   "outputs": [],
   "source": [
    "ir.tl.clonotype_network(tcell_ann_concat, min_cells=3, sequence=\"aa\", metric=\"alignment\")"
   ]
  },
  {
   "cell_type": "code",
   "execution_count": null,
   "metadata": {},
   "outputs": [],
   "source": [
    "for meta in parameters:\n",
    "    ir.pl.clonotype_network(tcell_ann_concat, color=meta, label_fontsize=7, panel_size=(8,8), base_size=10)"
   ]
  },
  {
   "cell_type": "code",
   "execution_count": null,
   "metadata": {},
   "outputs": [],
   "source": [
    "for meta in parameters:\n",
    "    ir.pl.clonotype_network(tcell_ann_concat, color=meta, show_labels = False, panel_size=(8,8), base_size=10)"
   ]
  },
  {
   "cell_type": "code",
   "execution_count": null,
   "metadata": {},
   "outputs": [],
   "source": [
    "tcell_ann_concat.obs.loc[tcell_ann_concat.obs[\"cc_aa_alignment\"] == \"3495\", :].groupby(\n",
    "    [\n",
    "        \"IR_VJ_1_junction_aa\",\n",
    "        \"IR_VJ_2_junction_aa\",\n",
    "        \"IR_VDJ_1_junction_aa\",\n",
    "        \"IR_VDJ_2_junction_aa\",\n",
    "        \"receptor_subtype\",\n",
    "    ],\n",
    "    observed=True,\n",
    ").size().reset_index(name=\"n_cells\")"
   ]
  },
  {
   "cell_type": "code",
   "execution_count": null,
   "metadata": {},
   "outputs": [],
   "source": [
    "ir.tl.define_clonotype_clusters(\n",
    "    tcell_ann_concat,\n",
    "    sequence=\"aa\",\n",
    "    metric=\"alignment\",\n",
    "    receptor_arms=\"all\",\n",
    "    dual_ir=\"any\",\n",
    "    same_v_gene=True,\n",
    "    key_added=\"cc_aa_alignment_same_v\",\n",
    ")\n",
    "\n",
    "# find clonotypes with more than one `clonotype_same_v`\n",
    "ct_different_v = tcell_ann_concat.obs.groupby(\"cc_aa_alignment\").apply(\n",
    "    lambda x: x[\"cc_aa_alignment_same_v\"].nunique() > 1\n",
    ")\n",
    "ct_different_v = ct_different_v[ct_different_v].index.values.tolist()\n",
    "ct_different_v\n",
    "\n",
    "tcell_ann_concat.obs.loc[\n",
    "    tcell_ann_concat.obs[\"cc_aa_alignment\"].isin(ct_different_v),\n",
    "    [\n",
    "        \"cc_aa_alignment\",\n",
    "        \"cc_aa_alignment_same_v\",\n",
    "        \"IR_VJ_1_v_call\",\n",
    "        \"IR_VDJ_1_v_call\",\n",
    "    ],\n",
    "].sort_values(\"cc_aa_alignment\").drop_duplicates().reset_index(drop=True)\n",
    "\n"
   ]
  },
  {
   "cell_type": "code",
   "execution_count": null,
   "metadata": {},
   "outputs": [],
   "source": [
    "tcell_ann_concat.obs.loc[\n",
    "    tcell_ann_concat.obs[\"cc_aa_alignment\"].isin(ct_different_v),\n",
    "    [\n",
    "        \"cc_aa_alignment\",\n",
    "        \"cc_aa_alignment_same_v\",\n",
    "        \"IR_VJ_1_v_call\",\n",
    "        \"IR_VDJ_1_v_call\",\n",
    "    ],\n",
    "].sort_values(\"cc_aa_alignment\").drop_duplicates().reset_index(drop=True)"
   ]
  },
  {
   "cell_type": "code",
   "execution_count": null,
   "metadata": {},
   "outputs": [],
   "source": [
    "tcell_ann_loc = '/burg/iicd/users/ls3456/GVHD/adata_file/tcell_ann_concat_all_f.h5ad'\n",
    "tcell_ann_concat.write(tcell_ann_loc)"
   ]
  },
  {
   "cell_type": "markdown",
   "metadata": {},
   "source": [
    "# START HERE after loading in data "
   ]
  },
  {
   "cell_type": "code",
   "execution_count": null,
   "metadata": {},
   "outputs": [],
   "source": [
    "tcell_ann_concat = anndata.read_h5ad('/Users/lingting/Documents/GVHD_project/Paper_ready_pipeline/anndata_file/tcell_ann_concat_all_f.h5ad')\n",
    "\n"
   ]
  },
  {
   "cell_type": "code",
   "execution_count": null,
   "metadata": {},
   "outputs": [],
   "source": [
    "#tcell_ann.obs['leiden_0.5'].cat.categories"
   ]
  },
  {
   "cell_type": "code",
   "execution_count": null,
   "metadata": {},
   "outputs": [],
   "source": [
    "tcell_ann_concat.obs['leiden_0.5'].cat.categories"
   ]
  },
  {
   "cell_type": "code",
   "execution_count": null,
   "metadata": {},
   "outputs": [],
   "source": [
    "sc.pl.umap(tcell_ann_concat, color=['leiden_0.5'], legend_loc='on data')"
   ]
  },
  {
   "cell_type": "markdown",
   "metadata": {},
   "source": [
    "\n",
    "new_cluster_names = [\n",
    "    'Activated Unconventional CD8+ T-cells',\n",
    "    'CD4+ Central Memory',\n",
    "    'CXCR3 high Resident CD8 T cells',\n",
    "    'Effector CD4+ T-cells',\n",
    "    'Homeostatic unconventional CD8+ T cells',\n",
    "    'Low CD3'\n",
    "    'Infiltrating activated cytotoxic T-cells',\n",
    "    'Proliferating CD8+ T-cells',\n",
    "    'Resident CD8+ T-cells',\n",
    "    'T-regs'\n",
    "]\n",
    "\n",
    "tcell_ann_concat.rename_categories('leiden_0.5', new_cluster_names)"
   ]
  },
  {
   "cell_type": "code",
   "execution_count": null,
   "metadata": {},
   "outputs": [],
   "source": [
    "tcell_ann_concat.obs['leiden_0.5'].cat.categories"
   ]
  },
  {
   "cell_type": "code",
   "execution_count": null,
   "metadata": {},
   "outputs": [],
   "source": [
    "tcell_ann_concat.uns['leiden_0.5_colors']"
   ]
  },
  {
   "cell_type": "code",
   "execution_count": null,
   "metadata": {},
   "outputs": [],
   "source": [
    "tcell_ann_concat.uns['leiden_0.5_colors'] = tcell_ann.uns['leiden_0.5_colors']"
   ]
  },
  {
   "cell_type": "code",
   "execution_count": null,
   "metadata": {},
   "outputs": [],
   "source": [
    "sc.pl.umap(tcell_ann_concat, color=['leiden_0.5'], legend_loc='on data')"
   ]
  },
  {
   "cell_type": "code",
   "execution_count": null,
   "metadata": {},
   "outputs": [],
   "source": [
    "### This is from clustering\n",
    "Resi = anndata.read('/Users/lingting/Documents/GVHD_project/Paper_ready_pipeline/anndata_file/Resi.h5ad')\n",
    "\n",
    "tcell_ann_concat.obs['leiden_new_cluster_2'] =tcell_ann_concat.obs['leiden_0.5']\n",
    "tcell_ann_concat.obs['leiden_new_cluster_2'] = tcell_ann_concat.obs['leiden_new_cluster_2'].cat.add_categories(['CD8+ Hobit+ Resident Memory T cells'])\n",
    "tcell_ann_concat.obs.loc[tcell_ann_concat.obs.index.isin(Resi[Resi.obs['leiden']=='1'].obs.index),'leiden_new_cluster_2'] = 'CD8+ Hobit+ Resident Memory T cells'\n",
    "updated_colors = ['#1f77b4', '#ff7f0e', '#2ca02c', '#d62728', '#9467bd', '#8c564b',\n",
    "       '#e377c2', '#7f7f7f', '#bcbd22', '#17becf','#FFA500']\n",
    "tcell_ann_concat.uns['leiden_new_cluster_2_colors'] = updated_colors\n",
    "colors = tcell_ann_concat.uns['leiden_new_cluster_2_colors']\n",
    "\n",
    "# Extract unique cluster labels from Tcell_sc_3_7000deg.obs['leiden_0.5']\n",
    "#unique_clusters = tcell_ann_concat.obs['leiden_new_cluster_2'].cat.categories\n",
    "\n",
    "# Create a mapping from cluster labels to colors\n",
    "#cluster_colors = {cluster: color for cluster, color in zip(unique_clusters, colors)}"
   ]
  },
  {
   "cell_type": "code",
   "execution_count": null,
   "metadata": {},
   "outputs": [],
   "source": [
    "sc.pl.umap(tcell_ann_concat[np.random.permutation(len(tcell_ann_concat))], color=['leiden_new_cluster_2'],s=10)"
   ]
  },
  {
   "cell_type": "code",
   "execution_count": null,
   "metadata": {},
   "outputs": [],
   "source": [
    "tcell_ann_concat.uns['leiden_0.5_colors']"
   ]
  },
  {
   "cell_type": "code",
   "execution_count": null,
   "metadata": {},
   "outputs": [],
   "source": [
    "# New cluster names\n",
    "new_cluster_names = [\n",
    "    'CD8+ Effector T cells', 'CD4+ Effector T cells', \n",
    "    'CD8+ Tissue Resident Memory T cells', \"CD4+ Central Memory T cells\",\n",
    "    \"CD8+ Cytotoxic Unconventional T cells\", 'Low CD3', \n",
    "    \"CD8+ Proliferating T cells\", \"CD4+ Regulatory T cells\",\n",
    "    'CD8+ Homeostatic Unconventional T cells','CD8+ Hobit+ Resident Memory T cells'\n",
    "]\n",
    "\n",
    "# Rename clusters\n",
    "tcell_ann_concat.rename_categories('leiden_new_cluster_2', new_cluster_names)"
   ]
  },
  {
   "cell_type": "code",
   "execution_count": null,
   "metadata": {},
   "outputs": [],
   "source": [
    "sc.pl.umap(tcell_ann_concat[np.random.permutation(len(tcell_ann_concat))], color=['leiden_new_cluster_2'],s=10)"
   ]
  },
  {
   "cell_type": "markdown",
   "metadata": {},
   "source": [
    "# Define the desired order of the categories\n",
    "desired_order = ['CD4+ Central Memory','Effector CD4+ T-cells', 'T-regs','Infiltrating activated cytotoxic T-cells', 'Resident CD8+ T-cells','Activated Unconventional CD8+ T-cells',\n",
    "                 'Homeostatic unconventional CD8+ T cells',\n",
    "                 'Proliferating CD8+ T-cells',\n",
    "                 'CXCR3 high Resident CD8 T cells',\n",
    "                 'Low CD3']\n",
    "\n",
    "# Ensure the 'leiden_0.5' column is of type 'category'\n",
    "tcell_ann_concat.obs['leiden_0.5'] = tcell_ann_concat.obs['leiden_0.5'].astype('category')\n",
    "\n",
    "# Set the order of the categories\n",
    "tcell_ann_concat.obs['leiden_0.5'].cat.reorder_categories(desired_order, inplace=True)"
   ]
  },
  {
   "cell_type": "code",
   "execution_count": null,
   "metadata": {},
   "outputs": [],
   "source": [
    "# Step 1: Count the number of observations in each category\n",
    "category_counts = tcell_ann_concat.obs['leiden_new_cluster_2'].value_counts()\n",
    "\n",
    "# Step 2: Sort the categories by the counts\n",
    "sorted_categories = category_counts.index.tolist()\n",
    "\n",
    "# Step 3: Reorder the categories based on the sorted order\n",
    "tcell_ann_concat.obs['leiden_new_cluster_2'] = tcell_ann_concat.obs['leiden_new_cluster_2'].astype('category')\n",
    "#tcell_ann_concat.obs['leiden_0.5'].cat.reorder_categories(sorted_categories, inplace=True)\n",
    "\n",
    "# Plot the clonal expansion with the reordered categories\n",
    "#ir.pl.clonal_expansion(tcell_ann_concat, groupby=\"leiden_0.5\", clip_at=3, normalize=False)"
   ]
  },
  {
   "cell_type": "code",
   "execution_count": null,
   "metadata": {},
   "outputs": [],
   "source": [
    "category_counts"
   ]
  },
  {
   "cell_type": "code",
   "execution_count": null,
   "metadata": {},
   "outputs": [],
   "source": []
  },
  {
   "cell_type": "code",
   "execution_count": null,
   "metadata": {},
   "outputs": [],
   "source": [
    "### Remove small clusters\n",
    "# Get the value counts\n",
    "cluster_counts = tcell_ann_concat.obs['leiden_new_cluster_2'].value_counts()\n",
    "\n",
    "# Filter out clusters with counts lower than 200\n",
    "filtered_clusters = cluster_counts[cluster_counts >= 200]\n",
    "\n",
    "# Get the names of the clusters to keep\n",
    "clusters_to_keep = filtered_clusters.index\n",
    "\n",
    "# Filter the AnnData object to keep only the cells in those clusters\n",
    "filtered_tcell_ann_concat = tcell_ann_concat[tcell_ann_concat.obs['leiden_new_cluster_2'].isin(clusters_to_keep)]\n",
    "\n",
    "# Optionally, view the filtered counts\n",
    "filtered_counts = filtered_tcell_ann_concat.obs['leiden_new_cluster_2'].value_counts()\n",
    "filtered_counts\n",
    "\n",
    "tcell_ann_concat = filtered_tcell_ann_concat"
   ]
  },
  {
   "cell_type": "code",
   "execution_count": null,
   "metadata": {},
   "outputs": [],
   "source": [
    "# New cluster names\n",
    "#new_cluster_names = ['CD8+ Effector T cells','CD4+ Effector T cells','CD8+ Tissue Resident Memory T cells', \"CD4+ Central Memory T cells\",\"CD8+ Cytotoxic Unconventional T cells\",'Low CD3',\"CD8+ ProliferatingT cells\",\"CD4+ Regulatory T cells\",'CD8+ Homeostatic Unconventional T cells'\n",
    "#]\n",
    "\n",
    "# Rename clusters\n",
    "#tcell_ann_concat.rename_categories('leiden_0.5', new_cluster_names)"
   ]
  },
  {
   "cell_type": "code",
   "execution_count": null,
   "metadata": {},
   "outputs": [],
   "source": []
  },
  {
   "cell_type": "code",
   "execution_count": null,
   "metadata": {},
   "outputs": [],
   "source": [
    "tcell_ann_concat.uns['clonal_expansion_colors'] = ['#1f77b4', '#ff7f0e', '#2ca02c', '#e7ecef']"
   ]
  },
  {
   "cell_type": "code",
   "execution_count": null,
   "metadata": {},
   "outputs": [],
   "source": [
    "# Step 1: Calculate the category counts\n",
    "category_counts = tcell_ann_concat.obs['leiden_new_cluster_2'].value_counts()\n",
    "\n",
    "# Step 2: Generate the UMAP plot and extract the colors used\n",
    "sc.pl.umap(tcell_ann_concat, color='leiden_new_cluster_2', show=False)\n",
    "umap_fig = plt.gcf()\n",
    "umap_ax = umap_fig.get_axes()[0]\n",
    "\n",
    "# Extract colors from UMAP plot\n",
    "handles, labels = umap_ax.get_legend_handles_labels()\n",
    "category_colors = {label: handle.get_facecolor()[0] for handle, label in zip(handles, labels)}\n",
    "\n",
    "# Step 3: Create a bar plot using the extracted colors\n",
    "fig, ax = plt.subplots(figsize=(12, 8))\n",
    "\n",
    "bars = ax.bar(category_counts.index, category_counts.values, color=[category_colors[cat] for cat in category_counts.index])\n",
    "\n",
    "# Add labels and title with increased font size\n",
    "ax.set_xlabel('Cell Types', fontsize=16)\n",
    "ax.set_ylabel('Counts of Cells', fontsize=16)\n",
    "ax.set_title('Category Counts for Each Cell Types', fontsize=16)\n",
    "\n",
    "# Increase the font size of the tick labels\n",
    "plt.xticks(rotation=90, fontsize=16)\n",
    "plt.yticks(fontsize=16)\n",
    "\n",
    "# Display the plot\n",
    "plt.show()\n"
   ]
  },
  {
   "cell_type": "code",
   "execution_count": null,
   "metadata": {
    "scrolled": true
   },
   "outputs": [],
   "source": [
    "ir.tl.clonal_expansion(tcell_ann_concat)\n",
    "sc.pl.umap(tcell_ann_concat, color=[\"clonal_expansion\", \"clone_id_size\"], size = 8)\n",
    "ir.pl.clonal_expansion(tcell_ann_concat, groupby=\"leiden_new_cluster_2\", clip_at=3, normalize=False)\n",
    "ir.pl.clonal_expansion(tcell_ann_concat, \"leiden_new_cluster_2\")"
   ]
  },
  {
   "cell_type": "code",
   "execution_count": null,
   "metadata": {
    "scrolled": true
   },
   "outputs": [],
   "source": [
    "import matplotlib as mpl\n",
    "# Update your existing rcParams\n",
    "mpl.rcParams.update({\n",
    "    'font.size': 8,\n",
    "    'svg.fonttype': 'none',\n",
    "    'font.family': 'Arial',\n",
    "    'figure.figsize': (4, 3)  # Set default figure size to 6×4 inches\n",
    "})\n",
    "mpl.rcParams['axes.titlesize'] = 8\n",
    "mpl.rcParams['xtick.labelsize'] = 8  # Colorbar tick label size \n",
    "mpl.rcParams['ytick.labelsize'] = 8  # Colorbar tick label size\n",
    "\n",
    "\n",
    "# Generate UMAP plot with larger dots\n",
    "sc.pl.umap(tcell_ann_concat, color=[\"clonal_expansion\", \"clone_id_size\"], size = 5, show=False  # We will save it manually\n",
    ")\n",
    "\n",
    "# Save the plot manually with DPI 300\n",
    "plt.savefig('/Users/lingting/Documents/GVHD_project/Paper_ready_pipeline/Figures/single_cell_figures/umap_clonal_expansion_cloneid.pdf', dpi=300, bbox_inches='tight', transparent = True)\n",
    "plt.savefig('/Users/lingting/Documents/GVHD_project/Paper_ready_pipeline/Figures/single_cell_figures/umap_clonal_expansion_cloneid.png', dpi=300, bbox_inches='tight', transparent = True)\n",
    "plt.savefig('/Users/lingting/Documents/GVHD_project/Paper_ready_pipeline/Figures/single_cell_figures/umap_clonal_expansion_cloneid.svg', dpi=300, bbox_inches='tight', transparent = True)\n",
    "# Show the plot (optional, if you want to see it before saving)\n",
    "plt.show()"
   ]
  },
  {
   "cell_type": "code",
   "execution_count": null,
   "metadata": {},
   "outputs": [],
   "source": [
    "import pandas as pd\n",
    "\n",
    "# Specify the desired order of clusters\n",
    "new_order = list(category_counts.index.values)\n",
    "# Reorder the categories\n",
    "tcell_ann_concat.obs[\"leiden_new_cluster_2\"] = pd.Categorical(\n",
    "    tcell_ann_concat.obs[\"leiden_new_cluster_2\"],\n",
    "    categories=new_order,\n",
    "    ordered=True\n",
    ")\n",
    "\n",
    "ir.pl.clonal_expansion(tcell_ann_concat, groupby=\"leiden_new_cluster_2\", clip_at=3, normalize=False)"
   ]
  },
  {
   "cell_type": "code",
   "execution_count": null,
   "metadata": {},
   "outputs": [],
   "source": [
    "ir.pl.clonal_expansion(tcell_ann_concat, \"leiden_new_cluster_2\")"
   ]
  },
  {
   "cell_type": "code",
   "execution_count": null,
   "metadata": {},
   "outputs": [],
   "source": [
    "# Define the GVHD grade categories\n",
    "gvhd_grades = ['Severe', 'Mild', 'No', 'ND']\n",
    "\n",
    "# Import matplotlib and set parameters (do this once)\n",
    "import matplotlib as mpl\n",
    "import matplotlib.pyplot as plt\n",
    "import scanpy as sc\n",
    "import scirpy as ir\n",
    "import os\n",
    "\n",
    "# Update matplotlib parameters\n",
    "mpl.rcParams.update({\n",
    "    'font.size': 10,\n",
    "    'svg.fonttype': 'none',\n",
    "    'font.family': 'Arial',\n",
    "    'figure.figsize': (4, 3)  # Set default figure size to 4×3 inches\n",
    "})\n",
    "mpl.rcParams['axes.titlesize'] = 14\n",
    "mpl.rcParams['xtick.labelsize'] = 10\n",
    "mpl.rcParams['ytick.labelsize'] = 10\n",
    "\n",
    "# Create output directory if it doesn't exist\n",
    "output_dir = '/Users/lingting/Documents/GVHD_project/Paper_ready_pipeline/Figures/single_cell_figures'\n",
    "os.makedirs(output_dir, exist_ok=True)\n",
    "\n",
    "# Iterate through each GVHD grade and perform the analysis\n",
    "for grade in gvhd_grades:\n",
    "    print(f\"Processing GVHD grade: {grade}\")\n",
    "    \n",
    "    # Filter the data for the current grade\n",
    "    tcell_grade = tcell_ann_concat[tcell_ann_concat.obs['GVHD_Grade_1'] == grade]\n",
    "    \n",
    "    # Skip if no cells with this grade\n",
    "    if tcell_grade.shape[0] == 0:\n",
    "        print(f\"No cells found for GVHD grade: {grade}\")\n",
    "        continue\n",
    "    \n",
    "    # Compute clonal expansion\n",
    "    ir.tl.clonal_expansion(tcell_grade)\n",
    "    \n",
    "    # Generate UMAP plots\n",
    "    sc.pl.umap(tcell_grade, color=[\"clonal_expansion\", \"clone_id_size\"], size=5, show=False)\n",
    "    \n",
    "    # Save the plots with grade-specific filenames\n",
    "    grade_lower = grade.lower()\n",
    "    plt.savefig(f'{output_dir}/{grade_lower}_umap_clonal_expansion_cloneid.pdf', \n",
    "                dpi=300, bbox_inches='tight', transparent=True)\n",
    "    plt.savefig(f'{output_dir}/{grade_lower}_umap_clonal_expansion_cloneid.png', \n",
    "                dpi=300, bbox_inches='tight', transparent=True)\n",
    "    plt.savefig(f'{output_dir}/{grade_lower}_umap_clonal_expansion_cloneid.svg', \n",
    "                dpi=300, bbox_inches='tight', transparent=True)\n",
    "    \n",
    "    # Close the current figure to avoid overlapping with the next one\n",
    "    plt.show()\n",
    "    \n",
    "    # Generate clonal expansion plots\n",
    "    print(f\"Generating clonal expansion plots for {grade}\")\n",
    "    \n",
    "    # Non-normalized plot\n",
    "    ir.pl.clonal_expansion(tcell_grade, groupby=\"leiden_new_cluster_2\", clip_at=3, normalize=False, \n",
    "                          title=f\"{grade} GVHD - Non-normalized\")\n",
    "    plt.savefig(f'{output_dir}/{grade_lower}_clonal_expansion_non_normalized.pdf', \n",
    "                dpi=300, bbox_inches='tight', transparent=True)\n",
    "    plt.savefig(f'{output_dir}/{grade_lower}_clonal_expansion_non_normalized.png', \n",
    "                dpi=300, bbox_inches='tight', transparent=True)\n",
    "    plt.savefig(f'{output_dir}/{grade_lower}_clonal_expansion_non_normalized.svg', \n",
    "                dpi=300, bbox_inches='tight', transparent=True)\n",
    "    plt.show()\n",
    "    \n",
    "    # Normalized plot\n",
    "    ir.pl.clonal_expansion(tcell_grade, groupby=\"leiden_new_cluster_2\", clip_at=3,\n",
    "                          title=f\"{grade} GVHD - Normalized\")\n",
    "    plt.savefig(f'{output_dir}/{grade_lower}_clonal_expansion_normalized.pdf', \n",
    "                dpi=300, bbox_inches='tight', transparent=True)\n",
    "    plt.savefig(f'{output_dir}/{grade_lower}_clonal_expansion_normalized.png', \n",
    "                dpi=300, bbox_inches='tight', transparent=True)\n",
    "    plt.savefig(f'{output_dir}/{grade_lower}_clonal_expansion_normalized.svg', \n",
    "                dpi=300, bbox_inches='tight', transparent=True)\n",
    "    plt.show()\n",
    "    \n",
    "    print(f\"Completed processing for {grade} GVHD\")\n",
    "\n",
    "print(\"All GVHD grades processed successfully\")"
   ]
  },
  {
   "cell_type": "code",
   "execution_count": null,
   "metadata": {},
   "outputs": [],
   "source": [
    "sc.pl.umap(tcell_ann_concat, color=[\"GVHD_Grade_1\"])"
   ]
  },
  {
   "cell_type": "code",
   "execution_count": null,
   "metadata": {},
   "outputs": [],
   "source": [
    "tcell_ann_concat.obs['PatientID_Grade']= tcell_ann_concat.obs['GVHD_Grade_1'].astype(str) +'_'+tcell_ann_concat.obs['PatientID'].astype(str)\n",
    "sc.pl.umap(tcell_ann_concat, color=['PatientID_Grade'])"
   ]
  },
  {
   "cell_type": "code",
   "execution_count": null,
   "metadata": {},
   "outputs": [],
   "source": [
    "ir.pl.clonal_expansion(tcell_ann_concat, groupby=\"PatientID\", clip_at=3, normalize=False)\n",
    "ir.pl.clonal_expansion(tcell_ann_concat, 'PatientID_Grade')"
   ]
  },
  {
   "cell_type": "code",
   "execution_count": null,
   "metadata": {},
   "outputs": [],
   "source": [
    "ir.pl.clonal_expansion(tcell_ann_concat, groupby=\"SampleID\", clip_at=3, normalize=False)\n",
    "ir.pl.clonal_expansion(tcell_ann_concat, \"SampleID\")"
   ]
  },
  {
   "cell_type": "code",
   "execution_count": null,
   "metadata": {},
   "outputs": [],
   "source": [
    "for meta in parameters:\n",
    "    ir.pl.group_abundance(tcell_ann_concat, groupby=\"clone_id\", target_col=meta, max_cols=10)"
   ]
  },
  {
   "cell_type": "code",
   "execution_count": null,
   "metadata": {},
   "outputs": [],
   "source": [
    "for meta in parameters:\n",
    "    ax = ir.pl.group_abundance(tcell_ann_concat, groupby=\"IR_VJ_1_v_call\", target_col=meta, normalize=True, max_cols=10)"
   ]
  },
  {
   "cell_type": "code",
   "execution_count": null,
   "metadata": {},
   "outputs": [],
   "source": [
    "for meta in parameters:\n",
    "    ax = ir.pl.group_abundance(tcell_ann_concat, groupby=\"IR_VJ_1_j_call\", target_col=meta, normalize=True, max_cols=10)"
   ]
  },
  {
   "cell_type": "code",
   "execution_count": null,
   "metadata": {},
   "outputs": [],
   "source": [
    "for meta in parameters:\n",
    "    ax = ir.pl.group_abundance(tcell_ann_concat, groupby=\"IR_VDJ_1_j_call\", target_col=meta, normalize=True, max_cols=10)"
   ]
  },
  {
   "cell_type": "code",
   "execution_count": null,
   "metadata": {},
   "outputs": [],
   "source": [
    "for meta in parameters:\n",
    "    ax = ir.pl.group_abundance(tcell_ann_concat, groupby=\"IR_VDJ_1_v_call\", target_col=meta, normalize=True, max_cols=10)"
   ]
  },
  {
   "cell_type": "code",
   "execution_count": null,
   "metadata": {},
   "outputs": [],
   "source": [
    "for meta in parameters:\n",
    "    ax = ir.pl.group_abundance(tcell_ann_concat, groupby=\"IR_VDJ_1_d_call\", target_col=meta, normalize=True, max_cols=10)"
   ]
  },
  {
   "cell_type": "code",
   "execution_count": null,
   "metadata": {},
   "outputs": [],
   "source": [
    "ax = ir.pl.vdj_usage(tcell_ann_concat, full_combination=False, max_segments=None, max_ribbons=30)"
   ]
  },
  {
   "cell_type": "code",
   "execution_count": null,
   "metadata": {},
   "outputs": [],
   "source": [
    "ax = ir.pl.vdj_usage(tcell_severe, full_combination=False, max_segments=None, max_ribbons=30)"
   ]
  },
  {
   "cell_type": "code",
   "execution_count": null,
   "metadata": {},
   "outputs": [],
   "source": [
    "ax = ir.pl.vdj_usage(tcell_mild, full_combination=False, max_segments=None, max_ribbons=30)"
   ]
  },
  {
   "cell_type": "code",
   "execution_count": null,
   "metadata": {},
   "outputs": [],
   "source": [
    "ax = ir.pl.vdj_usage(tcell_no, full_combination=False, max_segments=None, max_ribbons=30)"
   ]
  },
  {
   "cell_type": "code",
   "execution_count": null,
   "metadata": {},
   "outputs": [],
   "source": [
    "ax = ir.pl.vdj_usage(tcell_nd, full_combination=False, max_segments=None, max_ribbons=30)"
   ]
  },
  {
   "cell_type": "code",
   "execution_count": null,
   "metadata": {},
   "outputs": [],
   "source": []
  },
  {
   "cell_type": "code",
   "execution_count": null,
   "metadata": {},
   "outputs": [],
   "source": [
    "ir.pl.spectratype(tcell_ann_concat, color=\"PatientID\", viztype=\"bar\", fig_kws={\"dpi\": 120})\n",
    "ir.pl.spectratype(\n",
    "    tcell_ann_concat,\n",
    "    color=\"PatientID\",\n",
    "    viztype=\"curve\",\n",
    "    curve_layout=\"shifted\",\n",
    "    fig_kws={\"dpi\": 120},\n",
    "    kde_kws={\"kde_norm\": False},\n",
    ")"
   ]
  },
  {
   "cell_type": "code",
   "execution_count": null,
   "metadata": {},
   "outputs": [],
   "source": [
    "ir.pl.spectratype(tcell_ann_concat, color=\"GVHD_Grade_1\", viztype=\"bar\", fig_kws={\"dpi\": 120})\n",
    "ir.pl.spectratype(\n",
    "    tcell_ann_concat,\n",
    "    color=\"GVHD_Grade_1\",\n",
    "    viztype=\"curve\",\n",
    "    curve_layout=\"shifted\",\n",
    "    fig_kws={\"dpi\": 120},\n",
    "    kde_kws={\"kde_norm\": False},\n",
    ")"
   ]
  },
  {
   "cell_type": "code",
   "execution_count": null,
   "metadata": {},
   "outputs": [],
   "source": []
  },
  {
   "cell_type": "code",
   "execution_count": null,
   "metadata": {},
   "outputs": [],
   "source": [
    "df, dst, lk = ir.tl.repertoire_overlap(tcell_ann_concat, \"PatientID\", inplace=False)\n",
    "df.head()"
   ]
  },
  {
   "cell_type": "code",
   "execution_count": null,
   "metadata": {},
   "outputs": [],
   "source": [
    "df, dst, lk = ir.tl.repertoire_overlap(tcell_ann_concat, \"SampleID\", inplace=False)\n",
    "df.head()"
   ]
  },
  {
   "cell_type": "code",
   "execution_count": null,
   "metadata": {},
   "outputs": [],
   "source": [
    "df, dst, lk = ir.tl.repertoire_overlap(tcell_ann_concat, \"GVHD_Grade_1\", inplace=False)\n",
    "df.head()"
   ]
  },
  {
   "cell_type": "code",
   "execution_count": null,
   "metadata": {},
   "outputs": [],
   "source": [
    "parameters= [\n",
    " 'SampleID',\n",
    " 'FreshorFrozen',\n",
    " 'Days_post-Transplant',\n",
    " 'Tissue_Location',\n",
    " 'LPorIE',\n",
    " 'Enrichment Method',\n",
    " 'Pathological_grade_of_GVHD',\n",
    " 'Pathological_grade_of_GVHD_num',\n",
    " 'Grade_num',\n",
    " 'GVHD_Grade_1',\n",
    " 'GVHD_Grade_2',\n",
    " 'GVHD_Grade_3',\n",
    " 'Transplant_Conditioning',\n",
    " 'Gender',\n",
    " 'Time_1stGVHD',\n",
    " 'Donor',\n",
    " 'Disease',\n",
    " 'GVHD_Prophylaxis_Regimen']"
   ]
  },
  {
   "cell_type": "code",
   "execution_count": null,
   "metadata": {},
   "outputs": [],
   "source": []
  },
  {
   "cell_type": "code",
   "execution_count": null,
   "metadata": {},
   "outputs": [],
   "source": [
    "ir.pl.repertoire_overlap(tcell_ann_concat, \"PatientID\", heatmap_cats=['GVHD_Grade_1'])"
   ]
  },
  {
   "cell_type": "code",
   "execution_count": null,
   "metadata": {},
   "outputs": [],
   "source": [
    "tcell_ann_concat.obs['clone_id']"
   ]
  },
  {
   "cell_type": "code",
   "execution_count": null,
   "metadata": {},
   "outputs": [],
   "source": [
    "tcell_ann_concat"
   ]
  },
  {
   "cell_type": "code",
   "execution_count": null,
   "metadata": {},
   "outputs": [],
   "source": [
    "tcell_ann_loc = '/burg/iicd/users/ls3456/GVHD/adata_file/tcell_ann_concat_all_f.h5ad'\n",
    "tcell_ann_concat.write(tcell_ann_loc)"
   ]
  },
  {
   "cell_type": "code",
   "execution_count": null,
   "metadata": {},
   "outputs": [],
   "source": []
  }
 ],
 "metadata": {
  "kernelspec": {
   "display_name": "Python 3 (ipykernel)",
   "language": "python",
   "name": "python3"
  },
  "language_info": {
   "codemirror_mode": {
    "name": "ipython",
    "version": 3
   },
   "file_extension": ".py",
   "mimetype": "text/x-python",
   "name": "python",
   "nbconvert_exporter": "python",
   "pygments_lexer": "ipython3",
   "version": "3.11.8"
  },
  "vscode": {
   "interpreter": {
    "hash": "15a17b4873019ca273a3ebd27410a531cffac751f84497b09afeba222ba2b43d"
   }
  }
 },
 "nbformat": 4,
 "nbformat_minor": 4
}
