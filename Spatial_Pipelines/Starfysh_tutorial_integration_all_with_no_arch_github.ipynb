{
 "cells": [
  {
   "cell_type": "markdown",
   "id": "76bda18b",
   "metadata": {},
   "source": [
    "# Starfyshhd tutorial for sample integration\n",
    "\n",
    "**Azizi Lab**\n",
    "\n",
    "Lingting Shi, Siyu He, Yinuo Jin\n",
    "\n",
    "2025\n",
    "\n",
    "This tutorial provides an example of using StarfyshHD to characterize common *spatial hubs* through integrative spatial deconvolution from multiple samples. "
   ]
  },
  {
   "cell_type": "code",
   "execution_count": null,
   "id": "f8b9e0e3-b332-4757-9a5b-a8ed5d27e433",
   "metadata": {},
   "outputs": [],
   "source": [
    "import sys\n",
    "IN_COLAB = \"google.colab\" in sys.modules\n",
    "if IN_COLAB:\n",
    "    !pip3 install scanpy\n",
    "    from google.colab import drive\n",
    "    drive.mount('/content/drive')\n",
    "    import sys\n",
    "    sys.path.append('/content/drive/MyDrive/SpatialModelProject/model_test_colab/')\n",
    "\n",
    "import os\n",
    "import numpy as np\n",
    "import pandas as pd\n",
    "import scanpy as sc\n",
    "import anndata\n",
    "import torch\n",
    "\n",
    "import matplotlib.pyplot as plt\n",
    "import matplotlib.font_manager\n",
    "from matplotlib import rcParams\n",
    "\n",
    "font_list = []\n",
    "fpaths = matplotlib.font_manager.findSystemFonts()\n",
    "for i in fpaths:\n",
    "    try:\n",
    "        f = matplotlib.font_manager.get_font(i)\n",
    "        font_list.append(f.family_name)\n",
    "    except RuntimeError:\n",
    "        pass\n",
    "\n",
    "font_list = set(font_list)\n",
    "plot_font = 'Helvetica' if 'Helvetica' in font_list else 'FreeSans'\n",
    "\n",
    "rcParams['font.family'] = plot_font\n",
    "rcParams.update({'font.size': 10})\n",
    "rcParams.update({'figure.dpi': 300})\n",
    "rcParams.update({'figure.figsize': (3,3)})\n",
    "rcParams.update({'savefig.dpi': 500})\n",
    "\n",
    "import warnings\n",
    "warnings.filterwarnings('ignore')\n",
    "\n",
    "## Load Starfysh\n",
    "\n",
    "from starfysh import (AA, utils, plot_utils, post_analysis, utils_integrate)\n",
    "from starfysh import starfysh as sf_model\n",
    "#!pip install -U PhenoGraph"
   ]
  },
  {
   "cell_type": "markdown",
   "id": "b89305ea",
   "metadata": {},
   "source": [
    "### (1), load datasets & marker genes"
   ]
  },
  {
   "cell_type": "markdown",
   "id": "0fb5abcc",
   "metadata": {},
   "source": [
    "File input:\n",
    "\n",
    "- Spatial transcriptomics\n",
    "    - Count matrices: list of `adata`s\n",
    "    - (Optional): list of paired histology & spot coordinates corresponding to count matrices\n",
    "- Annotated signatures (marker genes) for potential cell types: `gene_sig`\n",
    "\n",
    "Starfysh is built upon scanpy and Anndata. The common ST/Visium data sample folder consists a expression count file (usually `filtered_feature_bc_matrix.h5`), and a subdirectory with corresponding H&E image and spatial information, as provided by Visium platform.\n",
    "\n",
    "For ST data that doesn't follow the consensus data struction (e.g. missing `filtered_feature_bc_matrix.h5`), please ensure that a `.h5ad` count matrix exists in the data directory.\n",
    "\n",
    "Example directory structure:\n",
    "\n",
    "```\n",
    "├── ../data\n",
    "    signature.csv\n",
    "\n",
    "    ├── CID44971_TNBC:\n",
    "        \\__ CID44971_TNBC.h5ad\n",
    "\n",
    "        ├── (Optional) spatial:\n",
    "            \\__ scalefactors_json.json\n",
    "                tissue_hires_image.png\n",
    "                tissue_positions_list.csv\n",
    "                ...\n",
    "    .\n",
    "    .\n",
    "    .\n",
    "    \n",
    "    ├── P4A_MBC:\n",
    "        \\__ filtered_feature_bc_matrix.h5\n",
    "\n",
    "        ├── (Optional) spatial:\n",
    "            \\__ scalefactors_json.json\n",
    "                tissue_hires_image.png\n",
    "                tissue_positions_list.csv\n",
    "                ...        \n",
    "```"
   ]
  },
  {
   "cell_type": "markdown",
   "id": "3811eef2-fa16-4e95-9a63-0d9557e22970",
   "metadata": {},
   "source": []
  },
  {
   "cell_type": "markdown",
   "id": "eed224e5-8e6a-455e-9a4b-90a0b2b6f04b",
   "metadata": {},
   "source": [
    "Create meta info. for samples"
   ]
  },
  {
   "cell_type": "code",
   "execution_count": null,
   "id": "3b7b8c4e-990b-441c-84d3-369b513f9e5a",
   "metadata": {},
   "outputs": [],
   "source": [
    "import os\n",
    "import numpy as np\n",
    "import pandas as pd\n",
    "import scanpy as sc\n",
    "import json\n",
    "import matplotlib.pyplot as plt\n",
    "\n",
    "min_genes_values = {\n",
    "    'SLV11': 150,\n",
    "    'SLV12': 50,\n",
    "    'SLV13': 50,\n",
    "    'SLV14': 50,\n",
    "    'SLV15': 50,\n",
    "    'SLV16': 150,\n",
    "    'SLV17': 50,\n",
    "    'SLV18': 150,# Change as needed for each sample\n",
    "}\n",
    "\n",
    "\n",
    "\n",
    "def load_visium_data(base_path, sample_id, min_genes=50, n_top_genes=2000, mt_thld=20):\n",
    "    \"\"\"\n",
    "    Load and process Visium spatial data\n",
    "    \n",
    "    Parameters:\n",
    "    -----------\n",
    "    base_path : str\n",
    "        Path to the base directory containing data\n",
    "    sample_id : str\n",
    "        ID of the sample to process\n",
    "    min_genes : int, optional\n",
    "        Minimum number of genes for filtering (default: 50)\n",
    "    n_top_genes : int, optional\n",
    "        Number of top variable genes to select (default: 2000)\n",
    "    mt_thld : int, optional\n",
    "        Threshold for mitochondrial gene percentage (default: 20)\n",
    "    \n",
    "    Returns:\n",
    "    --------\n",
    "    tuple\n",
    "        (adata, adata_norm, img_metadata)\n",
    "    \"\"\"\n",
    "    # Read tissue positions\n",
    "    tissue_positions = pd.read_parquet(os.path.join(\n",
    "        base_path,\n",
    "        sample_id,\n",
    "        'binned_outputs',\n",
    "        'square_016um',\n",
    "        'spatial',\n",
    "        'tissue_positions.parquet'\n",
    "    ))\n",
    "\n",
    "    # Read gene expression data\n",
    "    adata = sc.read_10x_h5(os.path.join(\n",
    "        base_path,\n",
    "        sample_id,\n",
    "        'binned_outputs',\n",
    "        'square_016um',\n",
    "        'filtered_feature_bc_matrix.h5'\n",
    "    ))\n",
    "\n",
    "    # Match positions with expression data\n",
    "    matched_positions = tissue_positions[tissue_positions['barcode'].isin(adata.obs.index)]\n",
    "    matched_positions = matched_positions.set_index('barcode')\n",
    "    matched_positions = matched_positions.loc[adata.obs.index]\n",
    "\n",
    "    # Add spatial coordinates to adata\n",
    "    adata.obs[['in_tissue','array_row','array_col','pxl_row_in_fullres', 'pxl_col_in_fullres']] = matched_positions[\n",
    "        ['in_tissue','array_row','array_col','pxl_row_in_fullres', 'pxl_col_in_fullres']]\n",
    "\n",
    "    # Make var names unique and add sample ID\n",
    "    adata.var_names_make_unique()\n",
    "    adata.obs['sample'] = sample_id\n",
    "\n",
    "    # Clean up var names if needed\n",
    "    if '_index' in adata.var.columns:\n",
    "        adata.var_names = adata.var['_index']\n",
    "        adata.var_names.name = 'Genes'\n",
    "        adata.var.drop('_index', axis=1, inplace=True)\n",
    "\n",
    "    # Calculate QC metrics\n",
    "    adata.var[\"mt\"] = adata.var_names.str.startswith(\"MT-\")\n",
    "    sc.pp.calculate_qc_metrics(adata, qc_vars=[\"mt\"], inplace=True)\n",
    "\n",
    "    # Basic filtering\n",
    "    sc.pp.filter_cells(adata, min_counts=min_genes)\n",
    "    #sc.pp.filter_genes(adata, min_cells=100)\n",
    "    \n",
    "\n",
    "    # Create copy for normalized version\n",
    "    adata_raw = adata.copy()\n",
    "\n",
    "    # Additional filtering and normalization\n",
    "    adata.var['mt'] = np.logical_or(\n",
    "        adata.var_names.str.startswith('MT-'),\n",
    "        adata.var_names.str.startswith('mt-'))\n",
    "    adata.var['rb'] = (\n",
    "        adata.var_names.str.startswith('RP-') |\n",
    "        adata.var_names.str.startswith('rp-'))\n",
    "\n",
    "    sc.pp.calculate_qc_metrics(adata, qc_vars=['mt'], inplace=True)\n",
    "    mask_cell = adata.obs['pct_counts_mt'] < mt_thld\n",
    "    mask_gene = np.logical_and(~adata.var['mt'], ~adata.var['rb'])\n",
    "\n",
    "    adata = adata[mask_cell, mask_gene]\n",
    "\n",
    "    # Normalize and log transform\n",
    "    sc.pp.normalize_total(adata, inplace=True)\n",
    "    sc.pp.log1p(adata)\n",
    "\n",
    "    # Find variable genes\n",
    "    sc.pp.highly_variable_genes(adata, flavor='seurat', n_top_genes=n_top_genes, inplace=True)\n",
    "\n",
    "    # Filter raw data to match normalized data\n",
    "    adata_raw = adata_raw[adata.obs_names, adata.var_names]\n",
    "    adata_raw.var['highly_variable'] = adata.var['highly_variable']\n",
    "    adata_raw.obs = adata.obs\n",
    "\n",
    "    # Prepare image metadata\n",
    "    # Load scale factors\n",
    "    with open(os.path.join(base_path, sample_id, 'binned_outputs/square_016um/spatial/scalefactors_json.json'), 'r') as f:\n",
    "        scalefactor = json.load(f)\n",
    "\n",
    "    # Load high-res image\n",
    "    img = plt.imread(os.path.join(base_path, sample_id, 'spatial/tissue_hires_image.png'))\n",
    "\n",
    "    # Prepare map info\n",
    "    map_info = matched_positions[['in_tissue','array_row','array_col','pxl_row_in_fullres', 'pxl_col_in_fullres']]\n",
    "    map_info['imagerow'] = pd.to_numeric(map_info['pxl_row_in_fullres'], errors='coerce').fillna(0).astype(int)\n",
    "    map_info['imagecol'] = pd.to_numeric(map_info['pxl_col_in_fullres'], errors='coerce').fillna(0).astype(int)\n",
    "    map_info = map_info[['array_row','array_col','imagerow','imagecol']]\n",
    "\n",
    "    img_metadata = {\n",
    "        'img': img,\n",
    "        'map_info': map_info,\n",
    "        'scalefactor': scalefactor\n",
    "    }\n",
    "\n",
    "    return adata_raw, adata, img_metadata\n",
    "\n",
    "\n",
    "\n",
    "\n"
   ]
  },
  {
   "cell_type": "code",
   "execution_count": null,
   "id": "743de675-adbd-4a7a-9478-555db7722d26",
   "metadata": {},
   "outputs": [],
   "source": [
    "meta_info = [\n",
    "    ['SLV11', 'C159', 'Antrum', 'Severe'],\n",
    "    ['SLV12', 'C162', 'Rectum', 'Mild'],\n",
    "    ['SLV13', 'C98', 'Stomach_Body', 'Severe'],\n",
    "    ['SLV14', 'C159', 'Rectum', 'Severe'],\n",
    "    ['SLV15', 'C179', 'Antrum', 'Mild'],\n",
    "    ['SLV16', 'C179', 'Ascending_Colon', 'Mild'],\n",
    "    ['SLV17', 'ND001', 'Ascending_Colon', 'ND'],\n",
    "    ['SLV18', 'C162', 'Stomach', 'Mild']\n",
    "]\n",
    "meta_info = pd.DataFrame(meta_info,columns=['sample','patient','tissue_type','grade'])\n",
    "base_path = '/Users/lingting/Documents/GVHD_project/visiumHD/data/'\n",
    "sig_file_name = '/Users/lingting/Documents/GVHD_project/Spatial data/data/GVHD_spatial_signature_v8_major_curated_unique_epi_tcells_subset.csv'\n",
    "\n",
    "# Load data\n",
    "adata_all = []\n",
    "adata_normed_all = []\n",
    "img_metadata_all = {}\n",
    "\n",
    "for sample_id in meta_info['sample']:\n",
    "    print(sample_id)\n",
    "    adata, adata_normed, img_metadata = load_visium_data(base_path, sample_id, min_genes=min_genes_values.get(sample_id, 50), n_top_genes=2000, mt_thld=20 )  # root data directory\n",
    "\n",
    "\n",
    "    adata_normed = adata_normed[adata_normed.obs.index.isin(adata.obs.index)]\n",
    "    adata_all.append(adata)\n",
    "    \n",
    "    \n",
    "    \n",
    "    adata.obs['patient']=meta_info['patient'][list(meta_info['sample']).index(sample_id)]\n",
    "    adata.obs['sample_type']=meta_info['tissue_type'][list(meta_info['sample']).index(sample_id)]\n",
    "    adata.obs['grade']=meta_info['grade'][list(meta_info['sample']).index(sample_id)]\n",
    "    adata.obs_names  = adata.obs_names+'-'+sample_id\n",
    "\n",
    "    adata_normed.obs_names  = adata_normed.obs_names+'-'+sample_id\n",
    "\n",
    "    adata_normed.obs['patient']=adata.obs['patient']\n",
    "    adata_normed.obs['sample_type']=adata.obs['sample_type']\n",
    "    adata_normed.obs['grade']=adata.obs['grade']\n",
    "    adata_normed_all.append(adata_normed)\n",
    "\n",
    "    img_metadata['map_info'].index = img_metadata['map_info'].index+'-'+sample_id\n",
    "    map_info = img_metadata['map_info']\n",
    "    map_info = map_info[map_info.index.isin(adata.obs.index)]\n",
    "    img_metadata['map_info'] = map_info\n",
    "    \n",
    "    img_metadata_all[sample_id] = img_metadata \n",
    "    \n",
    "\n",
    "# Save concat data\n",
    "adata_all = anndata.concat(adata_all)\n",
    "adata_normed_all = anndata.concat(adata_normed_all)\n",
    "\n",
    "sc.pp.highly_variable_genes(adata_normed_all)\n",
    "adata_all.uns = adata_normed_all.uns\n",
    "adata_all.var = adata_normed_all.var\n",
    "\n",
    "adata_all.write(os.path.join(base_path, 'adata_integrate.h5ad'))\n",
    "adata_normed_all.write(os.path.join(base_path, 'adata_normed_integrate.h5ad'))"
   ]
  },
  {
   "cell_type": "code",
   "execution_count": null,
   "id": "349903ba-468c-47f8-b982-4717a903306f",
   "metadata": {},
   "outputs": [],
   "source": [
    "\n",
    "base_path = '/Users/lingting/Documents/GVHD_project/visiumHD/data/'\n",
    "#adata_all= anndata.read(os.path.join(base_path, 'adata_integrate.h5ad'))\n",
    "#adata_normed_all = anndata.read(os.path.join(base_path, 'adata_normed_integrate.h5ad'))"
   ]
  },
  {
   "cell_type": "code",
   "execution_count": null,
   "id": "e55beae7-b0c3-4e63-bc0b-a16b768fcd79",
   "metadata": {},
   "outputs": [],
   "source": [
    "adata_all"
   ]
  },
  {
   "cell_type": "code",
   "execution_count": null,
   "id": "7aa59a99",
   "metadata": {},
   "outputs": [],
   "source": [
    "sig_file_name = '/Users/lingting/Documents/GVHD_project/Spatial data/data/GVHD_spatial_signature_v8_major_curated_unique_epi_tcells_subset_Transition_EPI_REFINE.csv'\n",
    "gene_sig = pd.read_csv(sig_file_name, encoding='latin1')\n",
    "gene_sig = utils.filter_gene_sig(gene_sig, adata_all.to_df())\n",
    "gene_sig.head()"
   ]
  },
  {
   "cell_type": "code",
   "execution_count": null,
   "id": "3f2c158f-2683-4342-bfde-cc92c285665c",
   "metadata": {},
   "outputs": [],
   "source": [
    "img_metadata_all"
   ]
  },
  {
   "cell_type": "markdown",
   "id": "aa7c2a0d",
   "metadata": {},
   "source": [
    "### (2). Preprocessing\n",
    "\n",
    "Starfysh calcualates cell-type proportion scores for each spot per sample given the annotated signatures (per cell type) as the model's prior\n",
    "\n",
    "Each spot will be ranked (`anchors_df`) based on the prior, which represents the rough estimation of the given cell-type's enrichment"
   ]
  },
  {
   "cell_type": "code",
   "execution_count": null,
   "id": "4bbe936c",
   "metadata": {},
   "outputs": [],
   "source": [
    "# Load saved concat data\n",
    "#adata_all = sc.read_h5ad(os.path.join(data_path, 'adata_integrate.h5ad'))\n",
    "#adata_normed_all = sc.read_h5ad(os.path.join(data_path, 'adata_normed_integrate.h5ad'))"
   ]
  },
  {
   "cell_type": "code",
   "execution_count": null,
   "id": "469066dc-2d69-40ce-ae4f-0c462d91bc6c",
   "metadata": {},
   "outputs": [],
   "source": [
    "adata"
   ]
  },
  {
   "cell_type": "code",
   "execution_count": null,
   "id": "007568c2-5d0d-43b1-bc36-be3bdf54f16e",
   "metadata": {},
   "outputs": [],
   "source": [
    "adata_normed"
   ]
  },
  {
   "cell_type": "code",
   "execution_count": null,
   "id": "8d0f5c34-0659-4ead-a209-c4ca02050722",
   "metadata": {},
   "outputs": [],
   "source": [
    "gene_sig"
   ]
  },
  {
   "cell_type": "code",
   "execution_count": null,
   "id": "fff2b158-78c2-48ca-a6e0-eb18025e0a44",
   "metadata": {},
   "outputs": [],
   "source": [
    "from starfysh.AA import ArchetypalAnalysis\n",
    "import scanpy as sc"
   ]
  },
  {
   "cell_type": "code",
   "execution_count": null,
   "id": "35a9e232-57f8-4512-ae51-f7273e2fd4b6",
   "metadata": {},
   "outputs": [],
   "source": [
    "def assign_archetypes(anchor_df, r=30):\n",
    "    \"\"\"\n",
    "    Assign best 1-1 mapping of archetype community to its closest anchor community (cell-type specific anchor spots)\n",
    "    Criteria: choose the top cell type in which its anchors belongs to the top r neighbors to the given archetype\n",
    "\n",
    "    Parameters\n",
    "    ----------\n",
    "    anchor_df : pd.DataFrame\n",
    "        Dataframe of anchor spot indices\n",
    "\n",
    "`       r : int\n",
    "        Resolution parameter to threshold archetype - anchor mapping\n",
    "\n",
    "    Returns\n",
    "    -------\n",
    "    map_df : pd.DataFrame\n",
    "        DataFrame of overlapping spot ratio of each anchor `i` to archetype `j`\n",
    "\n",
    "    map_dict : dict\n",
    "        Dictionary of cell type -> mapped archetype\n",
    "    \"\"\"\n",
    "    assert aa_model.arche_df is not None, \"Please compute archetypes & assign nearest-neighbors first!\"\n",
    "\n",
    "    n_nbrs, n_archetypes = aa_model.arche_df.shape # number of archetypal spots for each archtype, number of archetypes\n",
    "    x_concat = np.vstack([aa_model.count, aa_model.archetype])\n",
    "    anchor_nbrs = anchor_df.values\n",
    "    archetypal_nbrs = aa_model._get_knns(x_concat, n_nbrs=r, indices=aa_model.n_spots+aa_model.major_idx).T  # r-nearest nbrs to each archetype\n",
    "\n",
    "    \n",
    "    \n",
    "    print(archetypal_nbrs.shape)\n",
    "    overlaps = np.array(\n",
    "        [\n",
    "            [\n",
    "                len(np.intersect1d(anchor_nbrs[:, i], archetypal_nbrs[:, j]))\n",
    "                for j in range(archetypal_nbrs.shape[1])\n",
    "            ]\n",
    "            for i in range(anchor_nbrs.shape[1])\n",
    "        ]\n",
    "    )\n",
    "    overlaps_df = pd.DataFrame(overlaps, index=anchor_df.columns, columns=aa_model.arche_df.columns)\n",
    "    arche_argmaxs = overlaps.argmax(0)\n",
    "    \n",
    "    distance_df = pd.DataFrame(np.zeros([anchor_df.shape[1],\n",
    "                                         aa_model.arche_df.shape[1]]), \n",
    "                               index=anchor_df.columns, \n",
    "                               columns=aa_model.arche_df.columns\n",
    "                              )\n",
    "    for i in range(distance_df.shape[0]):\n",
    "        for j in range(distance_df.shape[1]):\n",
    "            dist_tmp = 0\n",
    "            for kk in anchor_df.iloc[:,i]:\n",
    "                dist_tmp += np.linalg.norm(aa_model.count[kk,:] - \n",
    "                                           aa_model.archetype[j,:]\n",
    "                                          )\n",
    "            \n",
    "            distance_df.iloc[i,j] = dist_tmp\n",
    "    \n",
    "    map_dict = {}\n",
    "    for k in range(overlaps.shape[0]):\n",
    "        list_ = np.argsort(overlaps[k])[::-1]\n",
    "        for i in list_:\n",
    "            if (np.argsort(overlaps[:,i])[::-1][0]==k):\n",
    "                if ((overlaps[k,:]==overlaps[k,i]).sum()==1):\n",
    "                    map_dict[anchor_df.columns[k]]=aa_model.arche_df.columns[i]\n",
    "                break \n",
    "                \n",
    "                \n",
    "    map_dict2 = {}\n",
    "    for k in range(distance_df.shape[0]):\n",
    "        list_ = np.argsort(np.array(distance_df)[k])\n",
    "        #print(list_)\n",
    "        for i in list_:\n",
    "            if (np.argsort(np.array(distance_df)[:,i])[0]==k):\n",
    "                if ((np.array(distance_df)[k,:]==np.array(distance_df)[k,i]).sum()==1):\n",
    "                    map_dict2[anchor_df.columns[k]]=aa_model.arche_df.columns[i]\n",
    "                break \n",
    "                \n",
    "    return overlaps_df, distance_df,map_dict,map_dict2"
   ]
  },
  {
   "cell_type": "code",
   "execution_count": null,
   "id": "4780ef93-43bf-4ea3-b392-2e2a49bc45e0",
   "metadata": {},
   "outputs": [],
   "source": [
    "def append_sigs(gene_sig, factor, sigs, n_genes):\n",
    "    sigs = sigs[:n_genes]\n",
    "    temp = set([i for i in gene_sig[factor] if str(i) != 'nan'] + [i for i in sigs if str(i) != 'nan'])\n",
    "    temp = list(temp)\n",
    "    \n",
    "    # Adjust temp length to match gene_sig length\n",
    "    if len(temp) > gene_sig.shape[0]:\n",
    "        temp = temp[:gene_sig.shape[0]]  # Truncate temp if it's longer\n",
    "    elif len(temp) < gene_sig.shape[0]:\n",
    "        temp += [np.nan] * (gene_sig.shape[0] - len(temp))  # Extend temp with NaN if it's shorter\n",
    "\n",
    "    gene_sig[factor] = temp\n",
    "    return gene_sig"
   ]
  },
  {
   "cell_type": "code",
   "execution_count": null,
   "id": "1b3f7994-f815-4915-84de-ca492172e7c7",
   "metadata": {},
   "outputs": [],
   "source": [
    "meta_info['sample']"
   ]
  },
  {
   "cell_type": "code",
   "execution_count": null,
   "id": "3e445039-8a15-4026-9b3a-4775c16b41bb",
   "metadata": {},
   "outputs": [],
   "source": [
    "import pickle\n",
    "import json\n",
    "import numpy as np\n",
    "\n",
    "def save_data(gene_sig_all, indiv_args_dict, base_path, use_pickle=True):\n",
    "    \"\"\"\n",
    "    Save gene signatures and arguments dictionary to files\n",
    "    \n",
    "    Parameters:\n",
    "    -----------\n",
    "    gene_sig_all : list\n",
    "        List of gene signatures\n",
    "    indiv_args_dict : dict\n",
    "        Dictionary of individual arguments\n",
    "    base_path : str\n",
    "        Base path for saving files\n",
    "    use_pickle : bool, optional\n",
    "        Whether to use pickle format (True) or JSON (False)\n",
    "    \"\"\"\n",
    "    if use_pickle:\n",
    "        # Save using pickle (better for complex Python objects)\n",
    "        with open(f'{base_path}/gene_sig_all.pkl', 'wb') as f:\n",
    "            pickle.dump(gene_sig_all, f)\n",
    "            \n",
    "        with open(f'{base_path}/indiv_args_dict.pkl', 'wb') as f:\n",
    "            pickle.dump(indiv_args_dict, f)\n",
    "    else:\n",
    "        # Save using JSON (more portable, human-readable)\n",
    "        with open(f'{base_path}/gene_sig_all.json', 'w') as f:\n",
    "            json.dump(gene_sig_all, f)\n",
    "            \n",
    "        with open(f'{base_path}/indiv_args_dict.json', 'w') as f:\n",
    "            json.dump(indiv_args_dict, f)\n",
    "\n",
    "def load_data(base_path, use_pickle=True):\n",
    "    \"\"\"\n",
    "    Load gene signatures and arguments dictionary from files\n",
    "    \n",
    "    Parameters:\n",
    "    -----------\n",
    "    base_path : str\n",
    "        Base path where files are stored\n",
    "    use_pickle : bool, optional\n",
    "        Whether to load pickle format (True) or JSON (False)\n",
    "        \n",
    "    Returns:\n",
    "    --------\n",
    "    tuple\n",
    "        (gene_sig_all, indiv_args_dict)\n",
    "    \"\"\"\n",
    "    if use_pickle:\n",
    "        # Load using pickle\n",
    "        with open(f'{base_path}/gene_sig_all.pkl', 'rb') as f:\n",
    "            gene_sig_all = pickle.load(f)\n",
    "            \n",
    "        with open(f'{base_path}/indiv_args_dict.pkl', 'rb') as f:\n",
    "            indiv_args_dict = pickle.load(f)\n",
    "    else:\n",
    "        # Load using JSON\n",
    "        with open(f'{base_path}/gene_sig_all.json', 'r') as f:\n",
    "            gene_sig_all = json.load(f)\n",
    "            \n",
    "        with open(f'{base_path}/indiv_args_dict.json', 'r') as f:\n",
    "            indiv_args_dict = json.load(f)\n",
    "            \n",
    "    return gene_sig_all, indiv_args_dict\n",
    "\n",
    "# Example usage:\n",
    "\"\"\"\n",
    "# To save:\n",
    "base_path = '/path/to/save/directory'\n",
    "save_data(gene_sig_all, indiv_args_dict, base_path, use_pickle=True)\n",
    "\n",
    "# To load:\n",
    "gene_sig_all, indiv_args_dict = load_data(base_path, use_pickle=True)\n",
    "\"\"\""
   ]
  },
  {
   "cell_type": "code",
   "execution_count": null,
   "id": "8a628d30-a79b-4401-842f-a65077b4834f",
   "metadata": {},
   "outputs": [],
   "source": [
    "#gene_sig_all, indiv_args_dict = load_data(base_path, use_pickle=True)"
   ]
  },
  {
   "cell_type": "code",
   "execution_count": null,
   "id": "19266b73-bd46-4074-9e37-a5dd71ea3079",
   "metadata": {},
   "outputs": [],
   "source": [
    "import importlib\n",
    "importlib.reload(utils)\n",
    "gene_sig_all = []\n",
    "indiv_args_dict = {}\n",
    "\n",
    "for sample_id in meta_info['sample']:\n",
    "    print(sample_id)\n",
    "    adata = adata_all[adata_all.obs['sample']==sample_id]\n",
    "    adata_normed = adata_normed_all[adata_normed_all.obs['sample']==sample_id]\n",
    "    \n",
    "    sc.pp.highly_variable_genes(adata_normed)\n",
    "    adata.uns = adata_normed.uns\n",
    "    adata.var = adata_normed.var\n",
    "    img_metadata = img_metadata_all[sample_id]\n",
    "    \n",
    "    args = utils.VisiumArguments(adata,\n",
    "                                 adata_normed,\n",
    "                                 gene_sig,\n",
    "                                 img_metadata,\n",
    "                                 window_size=1,\n",
    "                                 sample_id=sample_id,\n",
    "                                 n_img_chan=1\n",
    "                                )\n",
    "\n",
    "    # adata, adata_normed = args.get_adata()\n",
    "    # anchors_df = args.get_anchors()\n",
    "    # aa_model = AA.ArchetypalAnalysis(adata_orig=adata\n",
    "    #                                 )\n",
    "    # archetype, arche_dict, major_idx, evs = aa_model.compute_archetypes(cn=100,\n",
    "    #                                                                 converge=1e-3,\n",
    "    #                                                                 display=False)\n",
    "\n",
    "    # arche_df = aa_model.find_archetypal_spots()\n",
    "    \n",
    "    # markers_df = aa_model.find_markers(n_markers=30, display=False)\n",
    "    \n",
    "    # percent_anchor = 0.01\n",
    "    # map_df, distance_df,map_dict,map_dict2 = assign_archetypes(anchors_df[:int(percent_anchor*adata.shape[0])], \n",
    "    #                                  r=int(percent_anchor*adata.shape[0])\n",
    "    #                                 )  # here we subset the `r` top archetypes\n",
    "    # gene_sig_arch = gene_sig.copy()\n",
    "\n",
    "\n",
    "    # for cell_type in map_dict.keys():\n",
    "    #     if (~pd.isna(gene_sig[cell_type])).sum() < 50:\n",
    "    #         arch = map_dict[cell_type]\n",
    "    #         gene_sig_arch = append_sigs(gene_sig_arch, cell_type, markers_df[arch], n_genes=30)\n",
    "    # gene_sig_all.append(gene_sig_arch)\n",
    "    indiv_args_dict[sample_id] = args"
   ]
  },
  {
   "cell_type": "code",
   "execution_count": null,
   "id": "a61ec91b-275b-4bb7-ab94-a7645015f4da",
   "metadata": {},
   "outputs": [],
   "source": [
    "save_data(gene_sig, indiv_args_dict, base_path)"
   ]
  },
  {
   "cell_type": "code",
   "execution_count": null,
   "id": "d860e495-dec9-40f6-8b1c-917e37462a95",
   "metadata": {},
   "outputs": [],
   "source": [
    "#gene_sig_all"
   ]
  },
  {
   "cell_type": "markdown",
   "id": "d402f3cc-782d-4fb8-b84b-9a983aff96b0",
   "metadata": {},
   "source": [
    "gene_temp = gene_sig_all[0]\n",
    "for i in range(1, meta_info['sample'].shape[0]):\n",
    "    gene_temp = pd.merge(gene_temp, gene_sig_all[i],on=list(gene_temp.columns),how='outer')\n",
    "\n",
    "gene_sig_new = []\n",
    "for i in gene_sig.columns:\n",
    "    gene_sig_new.append(gene_temp[i].unique())\n",
    "gene_sig_new = pd.DataFrame(list(gene_sig_new)).transpose()\n",
    "gene_sig_new.columns= gene_temp.columns  "
   ]
  },
  {
   "cell_type": "code",
   "execution_count": null,
   "id": "593dbfa5",
   "metadata": {},
   "outputs": [],
   "source": [
    "sc.pp.highly_variable_genes(adata_normed_all)\n",
    "adata_all.uns = adata_normed_all.uns\n",
    "adata_all.var = adata_normed_all.var\n",
    "\n",
    "integrated_args = utils_integrate.VisiumArguments_integrate(adata_all,\n",
    "                                                            adata_normed_all,\n",
    "                                                            #gene_sig_new,\n",
    "                                                            gene_sig,\n",
    "                                                            img_metadata_all,\n",
    "                                                            indiv_args_dict,                                        \n",
    "                                                            window_size=1,\n",
    "                                                            sample_id=meta_info['sample']\n",
    "                                                           )"
   ]
  },
  {
   "cell_type": "code",
   "execution_count": null,
   "id": "1d362dd2-b9e7-441c-857d-52638a923a35",
   "metadata": {},
   "outputs": [],
   "source": [
    "integrated_args"
   ]
  },
  {
   "cell_type": "code",
   "execution_count": null,
   "id": "8e6c5fc9-b168-46f6-b74c-37f7a9351956",
   "metadata": {},
   "outputs": [],
   "source": [
    "import pickle\n",
    "import os\n",
    "\n",
    "# Combine directory path with filename\n",
    "file_path = os.path.join(base_path, 'integrated_args.pkl')"
   ]
  },
  {
   "cell_type": "code",
   "execution_count": null,
   "id": "244507a1-c9f0-4402-afbc-521325b00bf8",
   "metadata": {},
   "outputs": [],
   "source": [
    "# Save\n",
    "with open(file_path, 'wb') as f:\n",
    "    pickle.dump(integrated_args, f)"
   ]
  },
  {
   "cell_type": "code",
   "execution_count": null,
   "id": "fc166318-3a9f-42cb-8fc9-ccf7fd3dbc3e",
   "metadata": {},
   "outputs": [],
   "source": [
    "#if os.path.exists(file_path):\n",
    "    #with open(file_path, 'rb') as f:\n",
    "        #integrated_args = pickle.load(f)\n",
    "#else:\n",
    "    #print(f\"File not found: {file_path}\")"
   ]
  },
  {
   "cell_type": "markdown",
   "id": "6bf4bad1",
   "metadata": {},
   "source": [
    "## Run Starfysh for joint spatial deconvolution & sample integration"
   ]
  },
  {
   "cell_type": "markdown",
   "id": "dd552de2",
   "metadata": {},
   "source": [
    "### (1). Model parameters"
   ]
  },
  {
   "cell_type": "code",
   "execution_count": null,
   "id": "4ea61fa3",
   "metadata": {},
   "outputs": [],
   "source": [
    "n_repeats = 3\n",
    "epochs = 100\n",
    "device = torch.device('cuda' if torch.cuda.is_available() else 'cpu')\n",
    "poe_on = False"
   ]
  },
  {
   "cell_type": "code",
   "execution_count": null,
   "id": "21beed9f-0339-4dd3-98f1-4d66273335fb",
   "metadata": {},
   "outputs": [],
   "source": [
    "integrated_args"
   ]
  },
  {
   "cell_type": "code",
   "execution_count": null,
   "id": "7603b0ec-ea63-4599-9e03-cb4545561aa9",
   "metadata": {},
   "outputs": [],
   "source": [
    "adata_normed_all"
   ]
  },
  {
   "cell_type": "markdown",
   "id": "15192b2e",
   "metadata": {},
   "source": [
    "### (2). Model training"
   ]
  },
  {
   "cell_type": "code",
   "execution_count": null,
   "id": "31608842",
   "metadata": {},
   "outputs": [],
   "source": [
    "model, loss = utils_integrate.run_starfysh(integrated_args,\n",
    "                                           n_repeats=n_repeats,\n",
    "                                           epochs=epochs,\n",
    "                                           poe=poe_on,\n",
    "                                           device=device\n",
    "                                          )"
   ]
  },
  {
   "cell_type": "code",
   "execution_count": null,
   "id": "72ad140f",
   "metadata": {},
   "outputs": [],
   "source": [
    "# Save model\n",
    "torch.save(model.state_dict(), os.path.join(base_path, 'integ_model_arch.pt'))"
   ]
  },
  {
   "cell_type": "markdown",
   "id": "243cc9ff",
   "metadata": {},
   "source": [
    "### (3). Downstream analysis"
   ]
  },
  {
   "cell_type": "markdown",
   "id": "9c052bde",
   "metadata": {},
   "source": [
    "#### Parse Starfysh inference output"
   ]
  },
  {
   "cell_type": "code",
   "execution_count": null,
   "id": "4e7428cd",
   "metadata": {},
   "outputs": [],
   "source": [
    "# Load saved model\n",
    "# model = sf_model.AVAE_PoE(\n",
    "#     adata=integrated_args.adata,\n",
    "#     gene_sig=integrated_args.sig_mean_norm,\n",
    "#     patch_r=integrated_args.params['patch_r'],\n",
    "#     win_loglib=1,\n",
    "#     alpha_mul=50\n",
    "# )\n",
    "poe_on = False\n",
    "\n",
    "# Load saved model\n",
    "\n",
    "if poe_on:\n",
    "    model = sf_model.AVAE_PoE(\n",
    "        adata=integrated_args.adata,\n",
    "        gene_sig=integrated_args.sig_mean_norm,\n",
    "        patch_r=integrated_args.params['patch_r'],\n",
    "        win_loglib=1,\n",
    "        alpha_mul=50,\n",
    "        n_img_chan=integrated_args.params['n_img_chan']\n",
    "    )\n",
    "else:\n",
    "    model = sf_model.AVAE(\n",
    "        adata=integrated_args.adata,\n",
    "        gene_sig=integrated_args.sig_mean_norm,\n",
    "        win_loglib=1,\n",
    "        alpha_mul=50,\n",
    "    )\n",
    "    \n",
    "model = model.to(device)\n",
    "model.load_state_dict(torch.load(os.path.join(base_path, 'integ_model_arch.pt')))\n",
    "\n",
    "# If running this snippet to load saved model parameters, \n",
    "# need to update image patches to compute inference outputs\n",
    "\n",
    "from starfysh.dataloader import IntegrativePoEDataset\n",
    "trainset = IntegrativePoEDataset(adata=integrated_args.adata, args=integrated_args)\n",
    "integrated_args._update_img_patches(trainset)"
   ]
  },
  {
   "cell_type": "code",
   "execution_count": null,
   "id": "c5ebddd2",
   "metadata": {},
   "outputs": [],
   "source": [
    "torch.cuda.empty_cache()"
   ]
  },
  {
   "cell_type": "code",
   "execution_count": null,
   "id": "ca95ef85-c68f-4dd3-9fc0-fd5c352bb606",
   "metadata": {},
   "outputs": [],
   "source": [
    "# inference_outputs, generative_outputs = sf_model.model_eval_integrate(model,\n",
    "#                                                                       integrated_args.adata,\n",
    "#                                                                       integrated_args,\n",
    "#                                                                       poe=False,\n",
    "#                                                                       device=device\n",
    "#                                                                      )\n",
    "\n",
    "inference_outputs, generative_outputs, adata_integrate_starfysh = sf_model.model_eval_integrate(model,\n",
    "                                                                                      integrated_args.adata,\n",
    "                                                                                      integrated_args,\n",
    "                                                                                      poe=poe_on,\n",
    "                                                                                      device=device\n",
    "                                                                                     )"
   ]
  },
  {
   "cell_type": "markdown",
   "id": "4e57b21f",
   "metadata": {},
   "source": [
    "#### Visualize learnt joint embeddings\n",
    "\n",
    "Compare UMAPs before & after sample integration"
   ]
  },
  {
   "cell_type": "code",
   "execution_count": null,
   "id": "1f74021a-fe42-4df4-9ebe-a2f917e4f159",
   "metadata": {},
   "outputs": [],
   "source": [
    "import pickle\n",
    "import os\n",
    "\n",
    "# Create a dictionary to store all outputs\n",
    "outputs_dict = {\n",
    "    'inference_outputs': inference_outputs,\n",
    "    'generative_outputs': generative_outputs,\n",
    "    'adata_integrate': adata_integrate_starfysh\n",
    "}\n",
    "\n",
    "# Save all outputs in one pickle file\n",
    "with open(os.path.join(base_path, 'model_outputs.pkl'), 'wb') as f:\n",
    "    pickle.dump(outputs_dict, f)\n",
    "\n",
    "# Additionally, save AnnData object separately if needed\n",
    "adata_integrate_starfysh.write(os.path.join(base_path, 'adata_integrate.h5ad'))\n",
    "\n",
    "# To load later:\n",
    "# with open(os.path.join(base_path, 'model_outputs.pkl'), 'rb') as f:\n",
    "#     outputs_dict = pickle.load(f)\n",
    "# inference_outputs = outputs_dict['inference_outputs']\n",
    "# generative_outputs = outputs_dict['generative_outputs']\n",
    "# adata_integrate = sc.read(os.path.join(base_path, 'adata_integrate.h5ad'))"
   ]
  },
  {
   "cell_type": "code",
   "execution_count": null,
   "id": "175def55-53f0-4ae0-b930-1e882b8d173a",
   "metadata": {},
   "outputs": [],
   "source": []
  },
  {
   "cell_type": "code",
   "execution_count": null,
   "id": "5be63509-1423-4b12-8c25-63da7af54645",
   "metadata": {},
   "outputs": [],
   "source": [
    "adata_integrate = integrated_args.adata.copy()"
   ]
  },
  {
   "cell_type": "code",
   "execution_count": null,
   "id": "d37656e0-399e-4dde-9107-adf0d81b5d87",
   "metadata": {},
   "outputs": [],
   "source": [
    "adata_integrate.shape"
   ]
  },
  {
   "cell_type": "code",
   "execution_count": null,
   "id": "2e94eee5-d464-4ea4-bbb2-cef4a63fec45",
   "metadata": {},
   "outputs": [],
   "source": [
    "adata_integrate.write(os.path.join(base_path, 'adata_integrate_after_starfysh.h5ad'))"
   ]
  },
  {
   "cell_type": "code",
   "execution_count": null,
   "id": "3ae819cf-3458-4683-812b-154422ca8be1",
   "metadata": {},
   "outputs": [],
   "source": [
    "#adata_integrate = anndata.read(os.path.join(base_path, 'adata_integrate_after_starfysh.h5ad'))\n",
    "# This one does not work for some reason"
   ]
  },
  {
   "cell_type": "code",
   "execution_count": null,
   "id": "8750e05c-4d17-4f8f-b264-778f661e4165",
   "metadata": {},
   "outputs": [],
   "source": [
    "base_path = '/Users/lingting/Documents/GVHD_project/visiumHD/data/'\n",
    "adata_integrate = anndata.read(os.path.join(base_path, 'adata_integrate_final.h5ad'))"
   ]
  },
  {
   "cell_type": "code",
   "execution_count": null,
   "id": "17061238-b258-4f68-bad5-99bf8e57e499",
   "metadata": {},
   "outputs": [],
   "source": [
    "# Before integration\n",
    "sc.pp.neighbors(adata_all)\n",
    "sc.tl.umap(adata_all)"
   ]
  },
  {
   "cell_type": "code",
   "execution_count": null,
   "id": "9df80bfc-7971-48c6-b3ea-c5e325411880",
   "metadata": {},
   "outputs": [],
   "source": [
    "import matplotlib as mpl\n",
    "mpl.rcParams.update({'font.size': 8, 'svg.fonttype': 'none'})\n",
    "mpl.rcParams['axes.titlesize'] = 8\n",
    "mpl.rcParams['xtick.labelsize'] = 8\n",
    "mpl.rcParams['ytick.labelsize'] = 8\n",
    "meta = 'sample'\n",
    "fig, ax = plt.subplots(1, 1, figsize=(3,3), dpi=300)\n",
    "ax = sc.pl.umap(adata_all[np.random.permutation(len(adata_all))],color=meta,\n",
    "                frameon=False, s=2, ax=ax,\n",
    "                title='UMAP before Starfysh sample integration'\n",
    "                )\n",
    "for ext in ['pdf', 'png', 'svg']:\n",
    "    fig.savefig(\n",
    "        f'/Users/lingting/Documents/GVHD_project/Paper_ready_pipeline/Figures/spatial_figures/tissue_{meta}_integrated_all_umap_before_intergate.{ext}',\n",
    "        bbox_inches='tight', \n",
    "        dpi=300)\n",
    "plt.show()"
   ]
  },
  {
   "cell_type": "code",
   "execution_count": null,
   "id": "420f8bf8-6e5e-4b75-a6bd-2d1be70f2700",
   "metadata": {},
   "outputs": [],
   "source": [
    "# After integration\n",
    "adata_integrate.obs[gene_sig.columns]=pd.DataFrame(adata_integrate.obsm['qc_m'],\n",
    "                                                   columns=gene_sig.columns,\n",
    "                                                   index=adata_integrate.obs_names)"
   ]
  },
  {
   "cell_type": "code",
   "execution_count": null,
   "id": "29055de4-657c-4d74-8107-9e8bf4be3e53",
   "metadata": {},
   "outputs": [],
   "source": [
    "#adata_sub = adata_integrate[adata_integrate.obs.index.isin(adata_sub.obs.index)]\n"
   ]
  },
  {
   "cell_type": "code",
   "execution_count": null,
   "id": "77846de3-122c-4f52-8e11-258a73a06614",
   "metadata": {},
   "outputs": [],
   "source": [
    "adata_integrate"
   ]
  },
  {
   "cell_type": "code",
   "execution_count": null,
   "id": "e95054c9-a610-4922-bbfa-a81e3f71fe8f",
   "metadata": {},
   "outputs": [],
   "source": [
    "adata_integrate.obs[gene_sig.columns].sum(axis = 1)"
   ]
  },
  {
   "cell_type": "code",
   "execution_count": null,
   "id": "e1091f0d",
   "metadata": {},
   "outputs": [],
   "source": [
    "fig, ax = plt.subplots(1, 1, figsize=(10,10), dpi=200)\n",
    "ax = sc.pl.umap(adata_integrate,color='sample',\n",
    "                frameon=False, s=15, ax=ax,\n",
    "                title='UMAP after Starfysh sample integration'\n",
    "                )\n",
    "\n",
    "plt.show()"
   ]
  },
  {
   "cell_type": "markdown",
   "id": "3f66deca",
   "metadata": {},
   "source": [
    "##### It's observed that Starfysh's integration through learnt `qc` embedding space corrected for batch-effects introduced by different samples / tumor subtypes via joint deconvolution"
   ]
  },
  {
   "cell_type": "code",
   "execution_count": null,
   "id": "1d2de8bd-e5eb-4c7c-a7f0-0f64c7fc28c6",
   "metadata": {},
   "outputs": [],
   "source": [
    "adata_integrate"
   ]
  },
  {
   "cell_type": "markdown",
   "id": "6c37aae7",
   "metadata": {},
   "source": [
    "#### Display deconvolution profiles\n"
   ]
  },
  {
   "cell_type": "code",
   "execution_count": null,
   "id": "56ae8b93",
   "metadata": {},
   "outputs": [],
   "source": [
    "for color in gene_sig.columns:\n",
    "    \n",
    "    fig, ax = plt.subplots(1, 1,figsize=(3, 3), dpi=500)\n",
    "    sc.pl.umap(adata_integrate, color=color,  \n",
    "               frameon=False, vmax=0.2,\n",
    "               s=10, cmap='Spectral_r', ax=ax,\n",
    "               title=color\n",
    "              )\n",
    "    for ext in ['pdf', 'png', 'svg']:\n",
    "        fig.savefig(f'/Users/lingting/Documents/GVHD_project/Paper_ready_pipeline/Figures/spatial_figures/{color}_tissue_integrated_all_umap.{ext}', bbox_inches='tight', dpi=300)\n",
    "        plt.show()"
   ]
  },
  {
   "cell_type": "markdown",
   "id": "385d6f05",
   "metadata": {},
   "source": [
    "#### Spatial Hub calculation"
   ]
  },
  {
   "cell_type": "code",
   "execution_count": null,
   "id": "cf88f5fa-fd08-4d61-a314-e067b16994c3",
   "metadata": {},
   "outputs": [],
   "source": [
    "import scanpy.external as sce\n",
    "\n",
    "adata_integrate.obsm['qz_m'] = np.array(inference_outputs['qz_m'].detach().cpu().numpy())\n",
    "adata_integrate.obsm['qc_m'] = np.array(inference_outputs['qc_m'].detach().cpu().numpy())\n",
    "adata_integrate.obsm['X_pca'] = adata_integrate.obsm['qc_m']\n",
    "\n",
    "del inference_outputs\n",
    "\n",
    "import gc\n",
    "gc.collect()\n",
    "\n",
    "sc.pp.neighbors(adata_integrate)\n",
    "adata_integrate.write(os.path.join(base_path, 'adata_integrate_final1.h5ad'))\n",
    "sc.tl.leiden(adata_integrate)\n",
    "adata_integrate.write(os.path.join(base_path, 'adata_integrate_final2.h5ad'))"
   ]
  },
  {
   "cell_type": "code",
   "execution_count": null,
   "id": "840c0427-e6eb-4017-949a-bea673fc3d5c",
   "metadata": {},
   "outputs": [],
   "source": [
    "# Calculate hubs via Phenograph clustering\n",
    "sce.tl.phenograph(adata_integrate, clustering_algo=\"louvain\", k=500)\n",
    "adata_integrate.obs['hub'] = adata_integrate.obs['pheno_louvain'].astype('category')\n",
    "adata_integrate.write(os.path.join(base_path, 'adata_integrate_final.h5ad'))"
   ]
  },
  {
   "cell_type": "code",
   "execution_count": null,
   "id": "d6671a92-7860-46e6-a738-4cb6d737d775",
   "metadata": {},
   "outputs": [],
   "source": [
    "sc.tl.umap(adata_integrate)\n",
    "adata_integrate.write(os.path.join(base_path, 'adata_integrate_final.h5ad'))"
   ]
  },
  {
   "cell_type": "raw",
   "id": "ec05fa01-357e-4888-8d74-e6f3bce4c41b",
   "metadata": {},
   "source": [
    "import matplotlib as mpl\n",
    "mpl.rcParams.update({'font.size': 8, 'svg.fonttype': 'none'})\n",
    "mpl.rcParams['axes.titlesize'] = 8\n",
    "mpl.rcParams['xtick.labelsize'] = 8\n",
    "mpl.rcParams['ytick.labelsize'] = 8\n",
    "meta = 'hub'\n",
    "fig, ax = plt.subplots(1, 1, figsize=(3,3), dpi=300)\n",
    "ax = sc.pl.umap(adata_integrate[np.random.permutation(len(adata_integrate))],color=meta,\n",
    "                frameon=False, s=2, ax=ax,\n",
    "                title='UMAP before Starfysh sample integration'\n",
    "                )\n",
    "for ext in ['pdf', 'png', 'svg']:\n",
    "    fig.savefig(\n",
    "        f'/Users/lingting/Documents/GVHD_project/Paper_ready_pipeline/Figures/spatial_figures/tissue_{meta}_integrated_all_umap.{ext}',\n",
    "        bbox_inches='tight', \n",
    "        dpi=300)\n",
    "plt.show()"
   ]
  },
  {
   "cell_type": "code",
   "execution_count": null,
   "id": "232e6746-c22b-47f6-bad5-4cfcbc30132c",
   "metadata": {},
   "outputs": [],
   "source": [
    "import matplotlib as mpl\n",
    "import matplotlib.pyplot as plt\n",
    "import scanpy as sc\n",
    "import numpy as np\n",
    "\n",
    "# Update font settings\n",
    "mpl.rcParams.update({'font.size': 8, 'svg.fonttype': 'none'})\n",
    "mpl.rcParams['axes.titlesize'] = 8\n",
    "mpl.rcParams['xtick.labelsize'] = 8\n",
    "mpl.rcParams['ytick.labelsize'] = 8\n",
    "\n",
    "# Your custom color map\n",
    "new_colormap = [\n",
    "    'darkslateblue',    # 0\n",
    "    'cornflowerblue',   # 1\n",
    "    'red',              # 2\n",
    "    'blueviolet',       # 3\n",
    "    'skyblue',          # 4\n",
    "    'orchid',           # 5\n",
    "    'yellowgreen',      # 6\n",
    "    'palevioletred',    # 7\n",
    "    'orange',           # 8\n",
    "    'cadetblue',        # 9\n",
    "    'limegreen',        # 10\n",
    "    'cyan',             # 11\n",
    "    'gold',             # 12\n",
    "    'slategray',        # 13\n",
    "    'olive',            # 14\n",
    "    'blue',             # 15\n",
    "    'linen',            # 16\n",
    "    'mistyrose',        # 17\n",
    "    'peru',             # 18\n",
    "    'darkturquoise',    # 19\n",
    "    'teal',             # 20\n",
    "    'salmon',           # 21\n",
    "    'violet',           # 22\n",
    "    'dodgerblue',       # 23\n",
    "    'darkgreen',        # 24\n",
    "    'mediumaquamarine', # 25\n",
    "    'tomato',           # 26\n",
    "    'sandybrown',       # 27\n",
    "    'darkkhaki',        # 28\n",
    "    'lightseagreen',    # 29\n",
    "    'mediumorchid',     # 30\n",
    "    'crimson',          # 31\n",
    "    'olivedrab',        # 32\n",
    "    'steelblue',        # 33\n",
    "    'plum',             # 34\n",
    "]\n",
    "\n",
    "# For the GVHD grade visualization\n",
    "meta = 'hub'\n",
    "\n",
    "# Create figure\n",
    "fig, ax = plt.subplots(1, 1, figsize=(3,3), dpi=300)\n",
    "\n",
    "# Plot UMAP with custom colors\n",
    "# If your 'grade' categories are named like 'Grade 0', 'Grade 1', etc.,\n",
    "# you'll need to map the colors appropriately\n",
    "ax = sc.pl.umap(adata_integrate[np.random.permutation(len(adata_integrate))],\n",
    "                color=meta,\n",
    "                frameon=False, \n",
    "                s=2, \n",
    "                ax=ax,\n",
    "                title='UMAP after Starfysh sample integration',\n",
    "                palette=new_colormap  # Use your custom color map\n",
    "                )\n",
    "\n",
    "# Save figures\n",
    "for ext in ['pdf', 'png', 'svg']:\n",
    "    fig.savefig(\n",
    "        f'/Users/lingting/Documents/GVHD_project/Paper_ready_pipeline/Figures/spatial_figures/tissue_{meta}_integrated_all_umap.{ext}',\n",
    "        bbox_inches='tight', \n",
    "        dpi=300)\n",
    "\n",
    "plt.show()\n",
    "\n",
    "# For cluster visualization, you would do similarly:\n",
    "# meta = 'cluster' or whatever your cluster column is named\n",
    "# Then repeat the plotting code with this meta variable"
   ]
  },
  {
   "cell_type": "code",
   "execution_count": null,
   "id": "6b46f327-4b9d-400e-8988-85dd19ce24a7",
   "metadata": {},
   "outputs": [],
   "source": [
    "import matplotlib as mpl\n",
    "mpl.rcParams.update({'font.size': 8, 'svg.fonttype': 'none'})\n",
    "mpl.rcParams['axes.titlesize'] = 8\n",
    "mpl.rcParams['xtick.labelsize'] = 8\n",
    "mpl.rcParams['ytick.labelsize'] = 8\n",
    "meta = 'sample'\n",
    "fig, ax = plt.subplots(1, 1, figsize=(3,3), dpi=300)\n",
    "ax = sc.pl.umap(adata_integrate[np.random.permutation(len(adata_integrate))],color=meta,\n",
    "                frameon=False, s=2, ax=ax,\n",
    "                title='UMAP after Starfysh sample integration'\n",
    "                )\n",
    "for ext in ['pdf', 'png', 'svg']:\n",
    "    fig.savefig(\n",
    "        f'/Users/lingting/Documents/GVHD_project/Paper_ready_pipeline/Figures/spatial_figures/tissue_{meta}_integrated_all_umap.{ext}',\n",
    "        bbox_inches='tight', \n",
    "        dpi=300)\n",
    "plt.show()"
   ]
  },
  {
   "cell_type": "code",
   "execution_count": null,
   "id": "77ff3d7f-313f-4855-a0f9-a1d086d494c7",
   "metadata": {},
   "outputs": [],
   "source": [
    "import matplotlib as mpl\n",
    "import matplotlib.pyplot as plt\n",
    "import scanpy as sc\n",
    "import numpy as np\n",
    "\n",
    "# Update font settings\n",
    "mpl.rcParams.update({'font.size': 8, 'svg.fonttype': 'none'})\n",
    "mpl.rcParams['axes.titlesize'] = 8\n",
    "mpl.rcParams['xtick.labelsize'] = 8\n",
    "mpl.rcParams['ytick.labelsize'] = 8\n",
    "\n",
    "meta = 'grade'\n",
    "\n",
    "# Create a custom color map for GVHD grades\n",
    "# Replace these colors with your preferred ones\n",
    "grade_colors = {'ND': '#09BB8C', 'Mild': '#005A8F', 'Severe': '#B85000'\n",
    "}\n",
    "# Create figure\n",
    "fig, ax = plt.subplots(1, 1, figsize=(3,3), dpi=300)\n",
    "\n",
    "# Plot UMAP with custom colors\n",
    "ax = sc.pl.umap(adata_integrate[np.random.permutation(len(adata_integrate))],\n",
    "                color=meta,\n",
    "                frameon=False, \n",
    "                s=2, \n",
    "                ax=ax,\n",
    "                title='UMAP after Starfysh sample integration',\n",
    "                palette=grade_colors  # Add this line to specify custom colors\n",
    "                )\n",
    "\n",
    "# Save figures\n",
    "for ext in ['pdf', 'png', 'svg']:\n",
    "    fig.savefig(\n",
    "        f'/Users/lingting/Documents/GVHD_project/Paper_ready_pipeline/Figures/spatial_figures/tissue_{meta}_integrated_all_umap.{ext}',\n",
    "        bbox_inches='tight', \n",
    "        dpi=300)\n",
    "\n",
    "plt.show()"
   ]
  },
  {
   "cell_type": "code",
   "execution_count": null,
   "id": "10c53ddc-b353-40c5-8b57-8a459090c5c4",
   "metadata": {},
   "outputs": [],
   "source": [
    "meta = 'grade'\n",
    "\n",
    "# Get unique grades\n",
    "unique_grades = adata_integrate.obs[meta].unique()\n",
    "\n",
    "# Create a separate plot for each grade\n",
    "for grade in unique_grades:\n",
    "    # Create subset of data for this grade\n",
    "    mask = adata_integrate.obs[meta] == grade\n",
    "    adata_subset = adata_integrate[mask]\n",
    "    \n",
    "    # Create plot\n",
    "    fig, ax = plt.subplots(1, 1, figsize=(10,10), dpi=200)\n",
    "    ax = sc.pl.umap(adata_subset[np.random.permutation(len(adata_subset))],\n",
    "                    color=meta,\n",
    "                    frameon=False, \n",
    "                    s=15, \n",
    "                    ax=ax,\n",
    "                    title=f'UMAP after Starfysh integration - Grade {grade}'\n",
    "                    )\n",
    "    \n",
    "    # Save in multiple formats\n",
    "    for ext in ['pdf', 'png', 'svg']:\n",
    "        fig.savefig(\n",
    "            f'/Users/lingting/Documents/GVHD_project/Paper_ready_pipeline/Figures/spatial_figures/tissue_{meta}_grade_{grade}_integrated_umap.{ext}',\n",
    "            bbox_inches='tight', \n",
    "            dpi=900\n",
    "        )\n",
    "    plt.show()"
   ]
  },
  {
   "cell_type": "code",
   "execution_count": null,
   "id": "14c3c8ff-bd41-4c00-a7a0-d3f6ef9a04c3",
   "metadata": {},
   "outputs": [],
   "source": [
    "adata_integrate.obs['array_col'] = pd.to_numeric(adata_integrate.obs['array_col'], errors='coerce').fillna(0).astype(int)\n",
    "\n",
    "adata_integrate.obs['array_row'] = pd.to_numeric(adata_integrate.obs['array_row'], errors='coerce').fillna(0).astype(int)"
   ]
  },
  {
   "cell_type": "code",
   "execution_count": null,
   "id": "1a5fc795-e139-4f65-981d-c33457c34451",
   "metadata": {},
   "outputs": [],
   "source": [
    "new_colormap = [\n",
    "   'red',\n",
    "   'navy',\n",
    "   'forestgreen', \n",
    "   'magenta',\n",
    "   'gold',\n",
    "   'cyan',\n",
    "   'darkorange',\n",
    "   'darkmagenta',\n",
    "   'darkgreen',\n",
    "   'indigo',\n",
    "   'deeppink',\n",
    "   'darkturquoise',\n",
    "   'orangered',\n",
    "   'seagreen', \n",
    "   'darkviolet',\n",
    "   'darkcyan',\n",
    "   'peru',\n",
    "   'steelblue',\n",
    "   'saddlebrown',\n",
    "   'darkslateblue',\n",
    "   'hotpink',\n",
    "   'lightseagreen',\n",
    "   'goldenrod',\n",
    "   'purple',\n",
    "   'tomato',\n",
    "   'mediumturquoise',\n",
    "   'mediumvioletred',\n",
    "   'midnightblue',\n",
    "   'sandybrown',\n",
    "   'darkolivegreen',\n",
    "   'darkgoldenrod',\n",
    "   'sienna',\n",
    "   'darkkhaki',\n",
    "   'darkseagreen',\n",
    "   'rosybrown',\n",
    "   'mediumaquamarine'\n",
    "]"
   ]
  },
  {
   "cell_type": "code",
   "execution_count": null,
   "id": "ffef8046-2364-4cc0-9ba2-b90f86122aff",
   "metadata": {},
   "outputs": [],
   "source": [
    "adata_integrate"
   ]
  },
  {
   "cell_type": "code",
   "execution_count": null,
   "id": "d539b01b-9ae4-4cda-a5cb-8b2d42b63c22",
   "metadata": {},
   "outputs": [],
   "source": [
    "s=0.5\n",
    "vmax=0.08\n",
    "vmin=None\n",
    "for sample in meta_info['sample']:\n",
    "    adata = adata_integrate[adata_integrate.obs['sample'] == sample]\n",
    "    all_loc = adata.obs[['array_col', 'array_row']]\n",
    "    fig,axs= plt.subplots(1,1,figsize=(5,5),dpi=400)\n",
    "    color_list = np.array(adata.obs['hub'])\n",
    "    for i in range(len((adata.obs['hub'].unique()))):\n",
    "        g=axs.scatter(all_loc.iloc[color_list==i,0],-all_loc.iloc[color_list==i,1],\n",
    "                  s=s,\n",
    "                  vmin=vmin,\n",
    "                    c=new_colormap[i],\n",
    "                  vmax=vmax, edgecolors =\"none\")\n",
    "\n",
    "    axs.set_xticks([])\n",
    "    #plt.title(‘s’)\n",
    "    axs.set_yticks([])\n",
    "    plt.axis(\"off\")\n",
    "    plt.legend(list(range(len((adata.obs['hub'].unique())))), bbox_to_anchor=(1,0.5))\n",
    "    for ext in ['pdf', 'png', 'svg']:\n",
    "        plt.savefig(\n",
    "            f'/Users/lingting/Documents/GVHD_project/Paper_ready_pipeline/Figures/spatial_figures/{sample}_tissue_hub_integrated.{ext}',\n",
    "            bbox_inches='tight', \n",
    "            dpi=900)"
   ]
  },
  {
   "cell_type": "code",
   "execution_count": null,
   "id": "fd3f9880-bbc7-491a-86c7-f3765fb8bd5f",
   "metadata": {},
   "outputs": [],
   "source": []
  },
  {
   "cell_type": "code",
   "execution_count": null,
   "id": "2e5815f6-c9fd-4d0a-bac4-1654b9f1cc61",
   "metadata": {},
   "outputs": [],
   "source": [
    "markers_df = gene_sig\n",
    "select_sigs = markers_df.columns\n",
    "\n",
    "for c in select_sigs:\n",
    "    marker_genes = []\n",
    "    cc = np.array(markers_df[c].values.tolist())\n",
    "    marker_genes = np.append(marker_genes,[x for x in cc if str(x) != 'nan'])\n",
    "    real_genes = np.intersect1d(adata_integrate.var.index, marker_genes)\n",
    "    print (c)\n",
    "    print(marker_genes)\n",
    "    print(\"Genes that are in the adata\")\n",
    "    print(real_genes)\n",
    "    val = np.sum(adata_integrate[:,real_genes].X,axis=1) # sum for each row across columns\n",
    "    val = np.array(val).flatten()\n",
    "\n",
    "    label = str(c)\n",
    "    adata_integrate.obs[label+'gene_expression'] = val/len(real_genes)\n",
    "    s=1\n",
    "    #vmax=0.08\n",
    "    vmin=None\n",
    "    all_loc = adata_integrate.obsm['X_umap']\n",
    "    fig,axs= plt.subplots(1,1,figsize=(1.8,2),dpi=400)\n",
    "    g = axs.scatter(all_loc[:,0],all_loc[:,1],\n",
    "                  s=s,\n",
    "                  vmin=vmin,\n",
    "                  c=adata_integrate.obs[label+'gene_expression'])\n",
    "    axs.set_xticks([])\n",
    "    \n",
    "    axs.set_yticks([])\n",
    "    plt.axis(\"off\")\n",
    "    fig.colorbar(g,label=c)"
   ]
  },
  {
   "cell_type": "code",
   "execution_count": null,
   "id": "b3eab170-c0a2-4d41-8d72-f35362e916c6",
   "metadata": {},
   "outputs": [],
   "source": [
    "adata_integrate.var"
   ]
  },
  {
   "cell_type": "code",
   "execution_count": null,
   "id": "b20c648a-db91-4447-8604-d93b292f59ea",
   "metadata": {},
   "outputs": [],
   "source": [
    "adata_integrate.obs['hub'].unique()"
   ]
  },
  {
   "cell_type": "code",
   "execution_count": null,
   "id": "9beec643-9f74-4ade-b2c3-97e7196014f3",
   "metadata": {},
   "outputs": [],
   "source": [
    "gene_sig"
   ]
  },
  {
   "cell_type": "code",
   "execution_count": null,
   "id": "058c6c35-e642-40a9-8220-6163ca7cf3cd",
   "metadata": {},
   "outputs": [],
   "source": [
    "adata_integrate.obs['sample']"
   ]
  },
  {
   "cell_type": "code",
   "execution_count": null,
   "id": "4b81a37c-5e28-41e1-ab2d-cb4ce9357806",
   "metadata": {},
   "outputs": [],
   "source": [
    "new_colormap"
   ]
  },
  {
   "cell_type": "code",
   "execution_count": null,
   "id": "462adc59-fca6-4950-8dea-5883fdf27b45",
   "metadata": {},
   "outputs": [],
   "source": []
  },
  {
   "cell_type": "code",
   "execution_count": null,
   "id": "65c1965f-c794-4c96-8655-00a15227e608",
   "metadata": {},
   "outputs": [],
   "source": [
    "hub_type_list = [adata_integrate.obs['hub'].unique()]\n",
    "proportions_df = adata_integrate.obs[gene_sig.columns]\n",
    "sc.settings.set_figure_params(dpi=300, facecolor='white')\n",
    "plt.rcParams[\"axes.prop_cycle\"] = plt.cycler(\"color\",list(pd.DataFrame(new_colormap).transpose()[hub_type_list[0]].iloc[0,:]))\n",
    "qc_m_df = proportions_df.copy()\n",
    "qc_m_df['pheno_louvain']=adata_integrate.obs['hub']\n",
    "qc_m_df['sample']=adata_integrate.obs['sample']\n",
    "qc_m_df['sample_type']=adata_integrate.obs['sample_type']\n",
    "qc_m_df_reorder = qc_m_df.sort_values(\"pheno_louvain\")\n",
    "qc_m_df_reorder['count']=1\n",
    "\n",
    "agg_tips = qc_m_df_reorder.groupby(['sample', 'pheno_louvain'])['count'].sum().unstack().fillna(0)\n",
    "#agg_tips = agg_tips.reindex(['MBC_1A','MBC_1B','CID4290','CID4535',\n",
    "                             #'MBC_2A','MBC_2B','CID4465','CID44971','1142243F','1160920F',\n",
    "                             #'MBC_3A','MBC_3B','MBC_4A','MBC_4B'])\n",
    "\n",
    "med_lib = 1#(agg_tips.sum(axis=1).median())\n",
    "indx = np.array(med_lib/agg_tips.sum(axis=1))\n",
    "for i in range(indx.shape[0]):\n",
    "    agg_tips.iloc[i,:] = agg_tips.iloc[i,:] * indx[i]\n",
    "\n",
    "agg_tips = agg_tips[hub_type_list[0]]\n",
    "\n",
    "fig, ax = plt.subplots(figsize=(4, 4))\n",
    "agg_tips.plot(kind='bar', stacked=True, ax=ax, linewidth=0)\n",
    "\n",
    "# Set plot labels and limits\n",
    "plt.xlabel('Samples')\n",
    "plt.ylabel('Percent')\n",
    "plt.ylim([0, 1])  # Set y-axis limits from 0 to 1 for percentages\n",
    "plt.grid(False)\n",
    "\n",
    "# Add legend with specified labels\n",
    "legend_labels = agg_tips.columns\n",
    "plt.legend(legend_labels, loc='upper right', frameon=False, bbox_to_anchor=(1.5, 1.0), fontsize='small')  # Adjust the legend location as needed\n",
    "\n",
    "# Adjust layout and display the plot\n",
    "plt.tight_layout()\n",
    "plt.show()"
   ]
  },
  {
   "cell_type": "code",
   "execution_count": null,
   "id": "5443922a-2c6d-4f39-b16c-c959963e2497",
   "metadata": {},
   "outputs": [],
   "source": [
    "adata_integrate.obs[gene_sig.columns] = adata_integrate.obsm['qc_m']\n",
    "proportions_df = adata_integrate.obs[gene_sig.columns]\n",
    "proportions_df['hub'] = adata_integrate.obs['hub']\n",
    "\n",
    "composition = proportions_df.groupby('hub').sum()\n",
    "composition_normalized = composition.div(composition.sum(axis=1), axis=0)\n",
    "\n",
    "plt.figure(figsize=(60, 30))\n",
    "composition_normalized.plot(kind='bar', stacked=True, color=new_colormap)\n",
    "plt.xlabel('Spatial Spots (Hubs)')\n",
    "plt.ylabel('Normalized Cell Type Proportions')\n",
    "plt.title('Composition of Cell Types in Spatial Spots (Normalized)')\n",
    "plt.legend(title='Cell Types', bbox_to_anchor=(1.05, 1), loc='upper left', fontsize=26)\n",
    "plt.xticks(rotation=45, ha='right',fontsize=4)  # Rotate labels\n",
    "plt.tight_layout()\n",
    "for ext in ['pdf', 'png', 'svg']:\n",
    "    plt.savefig(\n",
    "        f'/Users/lingting/Documents/GVHD_project/Paper_ready_pipeline/Figures/spatial_figures/integrated_hub_bar_plot.{ext}',\n",
    "        bbox_inches='tight', \n",
    "        dpi=900)"
   ]
  },
  {
   "cell_type": "code",
   "execution_count": null,
   "id": "ef93744c-c831-44c5-83aa-d621ae1ce08d",
   "metadata": {
    "scrolled": true
   },
   "outputs": [],
   "source": [
    "adata_integrate.obs['hub_str'] = adata_integrate.obs['hub'].astype(str)"
   ]
  },
  {
   "cell_type": "code",
   "execution_count": null,
   "id": "affd180e-63e3-4df4-be41-2757c9841d9a",
   "metadata": {
    "scrolled": true
   },
   "outputs": [],
   "source": [
    "ax = sc.pl.umap(adata_integrate,color='hub_str',\n",
    "                frameon=False, s=15, ax=ax,\n",
    "                title='UMAP after Starfysh sample integration'\n",
    "                )"
   ]
  },
  {
   "cell_type": "code",
   "execution_count": null,
   "id": "abfbc250-9766-4ebe-8dfd-4c222921b895",
   "metadata": {
    "scrolled": true
   },
   "outputs": [],
   "source": [
    "ax = sc.pl.umap(adata_integrate,color='sample',\n",
    "                frameon=False, s=0.2, ax=ax,\n",
    "                title='UMAP after Starfysh sample integration'\n",
    "                )"
   ]
  },
  {
   "cell_type": "code",
   "execution_count": null,
   "id": "683932fd-ff72-4e74-95b8-fc95170b3c21",
   "metadata": {
    "scrolled": true
   },
   "outputs": [],
   "source": [
    "adata_integrate.obs.columns"
   ]
  },
  {
   "cell_type": "code",
   "execution_count": null,
   "id": "7315b687-5bb3-4f83-a239-38eb29aa51ab",
   "metadata": {
    "scrolled": true
   },
   "outputs": [],
   "source": [
    "adata_integrate.obs['SampleID_Grade'] = adata_integrate.obs['sample'].astype(str)+'_'+adata_integrate.obs['grade'].astype(str)"
   ]
  },
  {
   "cell_type": "code",
   "execution_count": null,
   "id": "62cafad4-d848-49ba-8f9f-b5a2bfa3cf4c",
   "metadata": {
    "scrolled": true
   },
   "outputs": [],
   "source": [
    "sc.pl.umap(adata_integrate, color='SampleID_Grade')"
   ]
  },
  {
   "cell_type": "code",
   "execution_count": null,
   "id": "fd55c614-b53d-4f66-948d-ebd8004cbcb8",
   "metadata": {},
   "outputs": [],
   "source": [
    "adata_integrate.write(os.path.join(base_path, 'adata_integrate_final.h5ad'))"
   ]
  },
  {
   "cell_type": "markdown",
   "id": "495e20ce",
   "metadata": {},
   "source": [
    "---"
   ]
  }
 ],
 "metadata": {
  "kernelspec": {
   "display_name": "Python 3 (ipykernel)",
   "language": "python",
   "name": "python3"
  },
  "language_info": {
   "codemirror_mode": {
    "name": "ipython",
    "version": 3
   },
   "file_extension": ".py",
   "mimetype": "text/x-python",
   "name": "python",
   "nbconvert_exporter": "python",
   "pygments_lexer": "ipython3",
   "version": "3.9.20"
  }
 },
 "nbformat": 4,
 "nbformat_minor": 5
}
